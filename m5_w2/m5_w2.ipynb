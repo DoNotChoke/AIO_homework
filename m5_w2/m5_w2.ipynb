{
 "cells": [
  {
   "cell_type": "code",
   "id": "initial_id",
   "metadata": {
    "collapsed": true,
    "ExecuteTime": {
     "end_time": "2024-11-12T14:31:20.110096Z",
     "start_time": "2024-11-12T14:31:20.103844Z"
    }
   },
   "source": [
    "import numpy as np\n",
    "import pandas as pd \n",
    "import matplotlib.pyplot as plt\n",
    "\n",
    "from sklearn.model_selection import train_test_split\n",
    "from sklearn.preprocessing import StandardScaler"
   ],
   "outputs": [],
   "execution_count": 59
  },
  {
   "metadata": {
    "ExecuteTime": {
     "end_time": "2024-11-12T14:31:21.642044Z",
     "start_time": "2024-11-12T14:31:20.554423Z"
    }
   },
   "cell_type": "code",
   "source": [
    "dataset_path = 'creditcard.csv'\n",
    "data = pd.read_csv(dataset_path)\n",
    "data.head()"
   ],
   "id": "f281f3923345cdf8",
   "outputs": [
    {
     "data": {
      "text/plain": [
       "   Time        V1        V2        V3        V4        V5        V6        V7  \\\n",
       "0   0.0 -1.359807 -0.072781  2.536347  1.378155 -0.338321  0.462388  0.239599   \n",
       "1   0.0  1.191857  0.266151  0.166480  0.448154  0.060018 -0.082361 -0.078803   \n",
       "2   1.0 -1.358354 -1.340163  1.773209  0.379780 -0.503198  1.800499  0.791461   \n",
       "3   1.0 -0.966272 -0.185226  1.792993 -0.863291 -0.010309  1.247203  0.237609   \n",
       "4   2.0 -1.158233  0.877737  1.548718  0.403034 -0.407193  0.095921  0.592941   \n",
       "\n",
       "         V8        V9  ...       V21       V22       V23       V24       V25  \\\n",
       "0  0.098698  0.363787  ... -0.018307  0.277838 -0.110474  0.066928  0.128539   \n",
       "1  0.085102 -0.255425  ... -0.225775 -0.638672  0.101288 -0.339846  0.167170   \n",
       "2  0.247676 -1.514654  ...  0.247998  0.771679  0.909412 -0.689281 -0.327642   \n",
       "3  0.377436 -1.387024  ... -0.108300  0.005274 -0.190321 -1.175575  0.647376   \n",
       "4 -0.270533  0.817739  ... -0.009431  0.798278 -0.137458  0.141267 -0.206010   \n",
       "\n",
       "        V26       V27       V28  Amount  Class  \n",
       "0 -0.189115  0.133558 -0.021053  149.62      0  \n",
       "1  0.125895 -0.008983  0.014724    2.69      0  \n",
       "2 -0.139097 -0.055353 -0.059752  378.66      0  \n",
       "3 -0.221929  0.062723  0.061458  123.50      0  \n",
       "4  0.502292  0.219422  0.215153   69.99      0  \n",
       "\n",
       "[5 rows x 31 columns]"
      ],
      "text/html": [
       "<div>\n",
       "<style scoped>\n",
       "    .dataframe tbody tr th:only-of-type {\n",
       "        vertical-align: middle;\n",
       "    }\n",
       "\n",
       "    .dataframe tbody tr th {\n",
       "        vertical-align: top;\n",
       "    }\n",
       "\n",
       "    .dataframe thead th {\n",
       "        text-align: right;\n",
       "    }\n",
       "</style>\n",
       "<table border=\"1\" class=\"dataframe\">\n",
       "  <thead>\n",
       "    <tr style=\"text-align: right;\">\n",
       "      <th></th>\n",
       "      <th>Time</th>\n",
       "      <th>V1</th>\n",
       "      <th>V2</th>\n",
       "      <th>V3</th>\n",
       "      <th>V4</th>\n",
       "      <th>V5</th>\n",
       "      <th>V6</th>\n",
       "      <th>V7</th>\n",
       "      <th>V8</th>\n",
       "      <th>V9</th>\n",
       "      <th>...</th>\n",
       "      <th>V21</th>\n",
       "      <th>V22</th>\n",
       "      <th>V23</th>\n",
       "      <th>V24</th>\n",
       "      <th>V25</th>\n",
       "      <th>V26</th>\n",
       "      <th>V27</th>\n",
       "      <th>V28</th>\n",
       "      <th>Amount</th>\n",
       "      <th>Class</th>\n",
       "    </tr>\n",
       "  </thead>\n",
       "  <tbody>\n",
       "    <tr>\n",
       "      <th>0</th>\n",
       "      <td>0.0</td>\n",
       "      <td>-1.359807</td>\n",
       "      <td>-0.072781</td>\n",
       "      <td>2.536347</td>\n",
       "      <td>1.378155</td>\n",
       "      <td>-0.338321</td>\n",
       "      <td>0.462388</td>\n",
       "      <td>0.239599</td>\n",
       "      <td>0.098698</td>\n",
       "      <td>0.363787</td>\n",
       "      <td>...</td>\n",
       "      <td>-0.018307</td>\n",
       "      <td>0.277838</td>\n",
       "      <td>-0.110474</td>\n",
       "      <td>0.066928</td>\n",
       "      <td>0.128539</td>\n",
       "      <td>-0.189115</td>\n",
       "      <td>0.133558</td>\n",
       "      <td>-0.021053</td>\n",
       "      <td>149.62</td>\n",
       "      <td>0</td>\n",
       "    </tr>\n",
       "    <tr>\n",
       "      <th>1</th>\n",
       "      <td>0.0</td>\n",
       "      <td>1.191857</td>\n",
       "      <td>0.266151</td>\n",
       "      <td>0.166480</td>\n",
       "      <td>0.448154</td>\n",
       "      <td>0.060018</td>\n",
       "      <td>-0.082361</td>\n",
       "      <td>-0.078803</td>\n",
       "      <td>0.085102</td>\n",
       "      <td>-0.255425</td>\n",
       "      <td>...</td>\n",
       "      <td>-0.225775</td>\n",
       "      <td>-0.638672</td>\n",
       "      <td>0.101288</td>\n",
       "      <td>-0.339846</td>\n",
       "      <td>0.167170</td>\n",
       "      <td>0.125895</td>\n",
       "      <td>-0.008983</td>\n",
       "      <td>0.014724</td>\n",
       "      <td>2.69</td>\n",
       "      <td>0</td>\n",
       "    </tr>\n",
       "    <tr>\n",
       "      <th>2</th>\n",
       "      <td>1.0</td>\n",
       "      <td>-1.358354</td>\n",
       "      <td>-1.340163</td>\n",
       "      <td>1.773209</td>\n",
       "      <td>0.379780</td>\n",
       "      <td>-0.503198</td>\n",
       "      <td>1.800499</td>\n",
       "      <td>0.791461</td>\n",
       "      <td>0.247676</td>\n",
       "      <td>-1.514654</td>\n",
       "      <td>...</td>\n",
       "      <td>0.247998</td>\n",
       "      <td>0.771679</td>\n",
       "      <td>0.909412</td>\n",
       "      <td>-0.689281</td>\n",
       "      <td>-0.327642</td>\n",
       "      <td>-0.139097</td>\n",
       "      <td>-0.055353</td>\n",
       "      <td>-0.059752</td>\n",
       "      <td>378.66</td>\n",
       "      <td>0</td>\n",
       "    </tr>\n",
       "    <tr>\n",
       "      <th>3</th>\n",
       "      <td>1.0</td>\n",
       "      <td>-0.966272</td>\n",
       "      <td>-0.185226</td>\n",
       "      <td>1.792993</td>\n",
       "      <td>-0.863291</td>\n",
       "      <td>-0.010309</td>\n",
       "      <td>1.247203</td>\n",
       "      <td>0.237609</td>\n",
       "      <td>0.377436</td>\n",
       "      <td>-1.387024</td>\n",
       "      <td>...</td>\n",
       "      <td>-0.108300</td>\n",
       "      <td>0.005274</td>\n",
       "      <td>-0.190321</td>\n",
       "      <td>-1.175575</td>\n",
       "      <td>0.647376</td>\n",
       "      <td>-0.221929</td>\n",
       "      <td>0.062723</td>\n",
       "      <td>0.061458</td>\n",
       "      <td>123.50</td>\n",
       "      <td>0</td>\n",
       "    </tr>\n",
       "    <tr>\n",
       "      <th>4</th>\n",
       "      <td>2.0</td>\n",
       "      <td>-1.158233</td>\n",
       "      <td>0.877737</td>\n",
       "      <td>1.548718</td>\n",
       "      <td>0.403034</td>\n",
       "      <td>-0.407193</td>\n",
       "      <td>0.095921</td>\n",
       "      <td>0.592941</td>\n",
       "      <td>-0.270533</td>\n",
       "      <td>0.817739</td>\n",
       "      <td>...</td>\n",
       "      <td>-0.009431</td>\n",
       "      <td>0.798278</td>\n",
       "      <td>-0.137458</td>\n",
       "      <td>0.141267</td>\n",
       "      <td>-0.206010</td>\n",
       "      <td>0.502292</td>\n",
       "      <td>0.219422</td>\n",
       "      <td>0.215153</td>\n",
       "      <td>69.99</td>\n",
       "      <td>0</td>\n",
       "    </tr>\n",
       "  </tbody>\n",
       "</table>\n",
       "<p>5 rows × 31 columns</p>\n",
       "</div>"
      ]
     },
     "execution_count": 60,
     "metadata": {},
     "output_type": "execute_result"
    }
   ],
   "execution_count": 60
  },
  {
   "metadata": {
    "ExecuteTime": {
     "end_time": "2024-11-12T14:31:35.492305Z",
     "start_time": "2024-11-12T14:31:35.456502Z"
    }
   },
   "cell_type": "code",
   "source": [
    "data = data.to_numpy()\n",
    "X, y  = data[:, :-1].astype(np.float64), data[:, -1].astype(np.uint8)"
   ],
   "id": "6efe11fa6f29246e",
   "outputs": [],
   "execution_count": 61
  },
  {
   "metadata": {
    "ExecuteTime": {
     "end_time": "2024-11-12T14:31:51.146679Z",
     "start_time": "2024-11-12T14:31:51.126538Z"
    }
   },
   "cell_type": "code",
   "source": [
    "intercept = np.ones((X.shape[0], 1))\n",
    "\n",
    "X = np.concatenate((intercept, X), axis=1)"
   ],
   "id": "a40ab0f869c836c4",
   "outputs": [],
   "execution_count": 62
  },
  {
   "metadata": {
    "ExecuteTime": {
     "end_time": "2024-11-12T14:31:58.944580Z",
     "start_time": "2024-11-12T14:31:58.937985Z"
    }
   },
   "cell_type": "code",
   "source": "X.shape",
   "id": "3712fd72bd51ae36",
   "outputs": [
    {
     "data": {
      "text/plain": [
       "(284807, 31)"
      ]
     },
     "execution_count": 64,
     "metadata": {},
     "output_type": "execute_result"
    }
   ],
   "execution_count": 64
  },
  {
   "metadata": {
    "ExecuteTime": {
     "end_time": "2024-11-12T14:32:15.816383Z",
     "start_time": "2024-11-12T14:32:15.595857Z"
    }
   },
   "cell_type": "code",
   "source": [
    "n_classes = np.unique(y, axis=0).shape[0]\n",
    "n_samples = y.shape[0]\n",
    "\n",
    "y_encoded = np.array([np.zeros(n_classes) for _ in range(n_samples)])"
   ],
   "id": "7b5535be86df684b",
   "outputs": [],
   "execution_count": 65
  },
  {
   "metadata": {
    "ExecuteTime": {
     "end_time": "2024-11-12T14:32:19.949862Z",
     "start_time": "2024-11-12T14:32:19.940359Z"
    }
   },
   "cell_type": "code",
   "source": "y_encoded[np.arange(n_samples), y] = 1",
   "id": "491275c1dd8d7cef",
   "outputs": [],
   "execution_count": 66
  },
  {
   "metadata": {
    "ExecuteTime": {
     "end_time": "2024-11-12T14:32:49.663758Z",
     "start_time": "2024-11-12T14:32:49.534600Z"
    }
   },
   "cell_type": "code",
   "source": [
    "val_size = 0.2\n",
    "test_size = 0.125\n",
    "random_state = 2\n",
    "is_shuffle = True\n",
    "\n",
    "X_train, X_val, y_train, y_val = train_test_split(X, y_encoded, test_size=val_size, random_state=random_state, shuffle=is_shuffle)\n",
    "X_train, X_test, y_train, y_test = train_test_split(X_train, y_train, test_size=test_size, random_state=random_state, shuffle=is_shuffle)"
   ],
   "id": "d44a8091ade89c2b",
   "outputs": [],
   "execution_count": 67
  },
  {
   "metadata": {
    "ExecuteTime": {
     "end_time": "2024-11-12T14:32:57.118561Z",
     "start_time": "2024-11-12T14:32:57.018774Z"
    }
   },
   "cell_type": "code",
   "source": [
    "normalizer = StandardScaler()\n",
    "X_train[:,1:] = normalizer.fit_transform(X_train[:, 1:])\n",
    "X_test[:,1:] = normalizer.transform(X_test[:,1:])\n",
    "X_val[:,1:] = normalizer.transform(X_val[:,1:])"
   ],
   "id": "90dae80141d06b27",
   "outputs": [],
   "execution_count": 68
  },
  {
   "metadata": {
    "ExecuteTime": {
     "end_time": "2024-11-12T14:33:04.727531Z",
     "start_time": "2024-11-12T14:33:04.721669Z"
    }
   },
   "cell_type": "code",
   "source": [
    "def softmax(z):\n",
    "    exp_z = np.exp(z)\n",
    "    return exp_z / exp_z.sum(axis=1)[:, None]"
   ],
   "id": "460ba36a0a9cf0e7",
   "outputs": [],
   "execution_count": 69
  },
  {
   "metadata": {
    "ExecuteTime": {
     "end_time": "2024-11-12T14:33:05.378887Z",
     "start_time": "2024-11-12T14:33:05.372437Z"
    }
   },
   "cell_type": "code",
   "source": [
    "def predict(X, theta):\n",
    "    z = np.dot(X, theta)\n",
    "    y_hat = softmax(z)\n",
    "    return y_hat"
   ],
   "id": "14547d6bdf21b07f",
   "outputs": [],
   "execution_count": 70
  },
  {
   "metadata": {
    "ExecuteTime": {
     "end_time": "2024-11-12T14:33:11.668945Z",
     "start_time": "2024-11-12T14:33:11.665190Z"
    }
   },
   "cell_type": "code",
   "source": [
    "def compute_loss(y, y_hat):\n",
    "    n = y.size\n",
    "    return (-1/n)* np.sum(y * np.log(y_hat))"
   ],
   "id": "df817f031a94062f",
   "outputs": [],
   "execution_count": 71
  },
  {
   "metadata": {
    "ExecuteTime": {
     "end_time": "2024-11-12T14:33:20.087875Z",
     "start_time": "2024-11-12T14:33:20.082913Z"
    }
   },
   "cell_type": "code",
   "source": [
    "def compute_gradient(X, y, y_hat):\n",
    "    n = y.size\n",
    "    return np.dot(X.T, (y_hat - y))/n"
   ],
   "id": "7c99baaaebca04b3",
   "outputs": [],
   "execution_count": 72
  },
  {
   "metadata": {
    "ExecuteTime": {
     "end_time": "2024-11-12T14:33:27.676469Z",
     "start_time": "2024-11-12T14:33:27.671383Z"
    }
   },
   "cell_type": "code",
   "source": [
    "def update_theta(theta, grad, lr):\n",
    "    return theta-lr*grad"
   ],
   "id": "e97cbb5e650eee61",
   "outputs": [],
   "execution_count": 73
  },
  {
   "metadata": {
    "ExecuteTime": {
     "end_time": "2024-11-12T14:33:36.218610Z",
     "start_time": "2024-11-12T14:33:36.215783Z"
    }
   },
   "cell_type": "code",
   "source": [
    "def accuracy(X, y, theta):\n",
    "    y_hat = predict(X, theta)\n",
    "    acc = (np.argmax(y_hat, axis=1) == np.argmax(y, axis=1)).mean()\n",
    "    return acc"
   ],
   "id": "5f854bbf4d6423c8",
   "outputs": [],
   "execution_count": 74
  },
  {
   "metadata": {
    "ExecuteTime": {
     "end_time": "2024-11-12T14:33:38.344581Z",
     "start_time": "2024-11-12T14:33:38.340045Z"
    }
   },
   "cell_type": "code",
   "source": [
    "lr = 0.01\n",
    "epochs = 30\n",
    "batch_size = 1024\n",
    "n_features = X_train.shape[1]\n",
    "\n",
    "np.random.seed(random_state)\n",
    "theta = np.random.uniform(size=(n_features, n_classes))"
   ],
   "id": "139c69de7bed0dc3",
   "outputs": [],
   "execution_count": 75
  },
  {
   "metadata": {
    "ExecuteTime": {
     "end_time": "2024-11-12T14:34:13.582600Z",
     "start_time": "2024-11-12T14:33:39.474311Z"
    }
   },
   "cell_type": "code",
   "source": [
    "train_accs = []\n",
    "train_losses = []\n",
    "val_accs = []\n",
    "val_losses = []\n",
    "\n",
    "for epoch in range(epochs):\n",
    "    train_batch_accs = []\n",
    "    train_batch_losses = []\n",
    "    val_batch_accs = []\n",
    "    val_batch_losses = []\n",
    "    for i in range(0, X_train.shape[0], batch_size):\n",
    "        X_i = X_train[i:i+batch_size]\n",
    "        y_i = y_train[i:i+batch_size]\n",
    "        y_hat = predict(X_i, theta)\n",
    "        train_loss = compute_loss(y_i, y_hat)\n",
    "        grad = compute_gradient(X_i, y_i, y_hat)\n",
    "        theta = update_theta(theta, grad, lr)\n",
    "        train_batch_accs.append(accuracy(X_i, y_i, theta))\n",
    "        train_batch_losses.append(train_loss)\n",
    "        \n",
    "        y_val_hat = predict(X_val, theta)\n",
    "        val_loss = compute_loss(y_val, y_val_hat)\n",
    "        val_batch_accs.append(accuracy(X_val, y_val, theta))\n",
    "        val_batch_losses.append(val_loss)\n",
    "        \n",
    "    train_batch_loss = sum(train_batch_losses)/len(train_batch_losses)\n",
    "    val_batch_loss = sum(val_batch_losses)/len(val_batch_losses)\n",
    "    train_batch_acc = sum(train_batch_accs)/len(train_batch_accs)\n",
    "    val_batch_acc = sum(val_batch_accs)/len(val_batch_accs)\n",
    "    \n",
    "    train_accs.append(train_batch_acc)\n",
    "    train_losses.append(train_batch_loss)\n",
    "    val_accs.append(val_batch_acc)\n",
    "    val_losses.append(val_batch_loss) \n",
    "    print(f'epoch: {epoch+1} train loss: {train_batch_loss} train acc: {train_batch_acc} val loss: {val_batch_loss} val acc: {val_batch_acc}')"
   ],
   "id": "4514ccf5da027240",
   "outputs": [
    {
     "name": "stdout",
     "output_type": "stream",
     "text": [
      "epoch: 1 train loss: 0.3004110867597534 train acc: 0.7411163794274228 val loss: 0.2972616537967952 val acc: 0.7425888964212759\n",
      "epoch: 2 train loss: 0.1761789499952915 train acc: 0.9084999558615819 val loss: 0.17416263490027684 val acc: 0.9090511082962185\n",
      "epoch: 3 train loss: 0.11455867238468175 train acc: 0.9710084440189048 val loss: 0.11319595013460838 val acc: 0.9715557560190823\n",
      "epoch: 4 train loss: 0.0814646688370736 train acc: 0.9867787612722729 val loss: 0.080487841181966 val acc: 0.9871442860242414\n",
      "epoch: 5 train loss: 0.06191304832413642 train acc: 0.9926826708043605 val loss: 0.061181920776501864 val acc: 0.9928769427031429\n",
      "epoch: 6 train loss: 0.049484229839155236 train acc: 0.9957665315352021 val loss: 0.048919276340913864 val acc: 0.9960689942642825\n",
      "epoch: 7 train loss: 0.04113107176601376 train acc: 0.9974486862595974 val loss: 0.040677852074249524 val acc: 0.997538529960145\n",
      "epoch: 8 train loss: 0.03525153759071709 train acc: 0.9982722355769231 val loss: 0.03487046502052165 val acc: 0.9984767172717024\n",
      "epoch: 9 train loss: 0.030939693532002446 train acc: 0.9986979166666666 val loss: 0.030604556135881356 val acc: 0.9988495254146027\n",
      "epoch: 10 train loss: 0.02765826511413129 train acc: 0.999013421474359 val loss: 0.02735298637740279 val acc: 0.9990905317895278\n",
      "epoch: 11 train loss: 0.02507733422224789 train acc: 0.9991586538461539 val loss: 0.02479148657344797 val acc: 0.9993077706325137\n",
      "epoch: 12 train loss: 0.02298892166514302 train acc: 0.9992638221153847 val loss: 0.0227150103966045 val acc: 0.9994214766659553\n",
      "epoch: 13 train loss: 0.021259107414665985 train acc: 0.9992788461538461 val loss: 0.02099168579634681 val acc: 0.9994714425001276\n",
      "epoch: 14 train loss: 0.019799235275336176 train acc: 0.9992888621794872 val loss: 0.019534485243753476 val acc: 0.99949088866262\n",
      "epoch: 15 train loss: 0.018548460394738127 train acc: 0.9993139022435897 val loss: 0.018283821634035212 val acc: 0.99949088866262\n",
      "epoch: 16 train loss: 0.0174635099031566 train acc: 0.9993339342948718 val loss: 0.017197337035384785 val acc: 0.9994797251248886\n",
      "epoch: 17 train loss: 0.016512648824240857 train acc: 0.9993239182692307 val loss: 0.016243923273177457 val acc: 0.9994733330992552\n",
      "epoch: 18 train loss: 0.015671991749421795 train acc: 0.9993239182692307 val loss: 0.015400106121059225 val acc: 0.9994733330992552\n",
      "epoch: 19 train loss: 0.01492315783469247 train acc: 0.9993139022435897 val loss: 0.01464776875289738 val acc: 0.9994733330992552\n",
      "epoch: 20 train loss: 0.014251730224021894 train acc: 0.9993088942307692 val loss: 0.013972663223866833 val acc: 0.9994733330992552\n",
      "epoch: 21 train loss: 0.013646214828568438 train acc: 0.9992788461538461 val loss: 0.013363404262606142 val acc: 0.9994620795330035\n",
      "epoch: 22 train loss: 0.01309731797583308 train acc: 0.999238782051282 val loss: 0.012810769066343798 val acc: 0.9994536168511805\n",
      "epoch: 23 train loss: 0.012597433038324031 train acc: 0.999238782051282 val loss: 0.012307197613022835 val acc: 0.9994465045973091\n",
      "epoch: 24 train loss: 0.012140267535772584 train acc: 0.99921875 val loss: 0.011846428210428 val acc: 0.9994522664232292\n",
      "epoch: 25 train loss: 0.011720566969837278 train acc: 0.9991686698717949 val loss: 0.011423226607195018 val acc: 0.9994373216872426\n",
      "epoch: 26 train loss: 0.011333906768981775 train acc: 0.9991336137820512 val loss: 0.01103318129560025 val acc: 0.9993929376219343\n",
      "epoch: 27 train loss: 0.010976533160839788 train acc: 0.9991135817307693 val loss: 0.01067254656865653 val acc: 0.9993504441557569\n",
      "epoch: 28 train loss: 0.010645239825395166 train acc: 0.9991035657051283 val loss: 0.010338120628519102 val acc: 0.9993504441557569\n",
      "epoch: 29 train loss: 0.010337271134017867 train acc: 0.9991085737179487 val loss: 0.010027149818112273 val acc: 0.9993386504183183\n",
      "epoch: 30 train loss: 0.010050245424686624 train acc: 0.9991035657051283 val loss: 0.009737252589300737 val acc: 0.9993153330290383\n"
     ]
    }
   ],
   "execution_count": 76
  },
  {
   "metadata": {
    "ExecuteTime": {
     "end_time": "2024-11-12T14:36:28.332322Z",
     "start_time": "2024-11-12T14:36:27.664758Z"
    }
   },
   "cell_type": "code",
   "source": [
    "fig , ax = plt . subplots (2 , 2 , figsize =(12 , 10) )\n",
    "ax[0 , 0]. plot ( train_losses )\n",
    "ax[0 , 0]. set ( xlabel ='Epoch', ylabel ='Loss')\n",
    "ax[0 , 0]. set_title ('Training Loss')\n",
    "\n",
    "ax[0 , 1]. plot ( val_losses , 'orange')\n",
    "ax[0 , 1]. set ( xlabel ='Epoch', ylabel ='Loss')\n",
    "ax[0 , 1]. set_title ('Validation Loss')\n",
    "\n",
    "ax[1 , 0]. plot ( train_accs )\n",
    "ax[1 , 0]. set ( xlabel ='Epoch', ylabel ='Accuracy')\n",
    "ax[1 , 0]. set_title ('Training Accuracy ')\n",
    "\n",
    "ax[1 , 1]. plot ( val_accs , 'orange')\n",
    "ax[1 , 1]. set ( xlabel ='Epoch', ylabel ='Accuracy')\n",
    "ax[1 , 1]. set_title ('Validation Accuracy')\n",
    "\n",
    "plt.show()"
   ],
   "id": "2ccfbd03065d4e80",
   "outputs": [
    {
     "data": {
      "text/plain": [
       "<Figure size 1200x1000 with 4 Axes>"
      ],
      "image/png": "[encoded data removed]"
     },
     "metadata": {},
     "output_type": "display_data"
    }
   ],
   "execution_count": 77
  },
  {
   "metadata": {},
   "cell_type": "markdown",
   "source": "## Twitter Dataset",
   "id": "4e411ff88e53d684"
  },
  {
   "metadata": {
    "ExecuteTime": {
     "end_time": "2024-11-12T14:39:47.449194Z",
     "start_time": "2024-11-12T14:39:46.342671Z"
    }
   },
   "cell_type": "code",
   "source": [
    "import re\n",
    "import nltk\n",
    "nltk.download('stopwords')\n",
    "from nltk.corpus import stopwords\n",
    "\n",
    "from sklearn.feature_extraction.text import TfidfVectorizer\n",
    "from nltk.stem import SnowballStemmer"
   ],
   "id": "c8d398c5d890fb3",
   "outputs": [
    {
     "name": "stderr",
     "output_type": "stream",
     "text": [
      "[nltk_data] Downloading package stopwords to\n",
      "[nltk_data]     C:\\Users\\tuann\\AppData\\Roaming\\nltk_data...\n",
      "[nltk_data]   Package stopwords is already up-to-date!\n"
     ]
    }
   ],
   "execution_count": 78
  },
  {
   "metadata": {
    "ExecuteTime": {
     "end_time": "2024-11-12T14:40:07.855650Z",
     "start_time": "2024-11-12T14:40:07.614746Z"
    }
   },
   "cell_type": "code",
   "source": [
    "dataset_path = 'Twitter_Data.csv'\n",
    "data = pd.read_csv(dataset_path)\n",
    "data.head()"
   ],
   "id": "e50aa3b335a93422",
   "outputs": [
    {
     "data": {
      "text/plain": [
       "                                                                                                                                                                                                             clean_text  \\\n",
       "0    when modi promised “minimum government maximum governance” expected him begin the difficult job reforming the state why does take years get justice state should and not business and should exit psus and temples   \n",
       "1                                                                                                                                                  talk all the nonsense and continue all the drama will vote for modi    \n",
       "2                                                                                                 what did just say vote for modi  welcome bjp told you rahul the main campaigner for modi think modi should just relax   \n",
       "3  asking his supporters prefix chowkidar their names modi did great service now there confusion what read what not now crustal clear what will crass filthy nonsensical see how most abuses are coming from chowkidars   \n",
       "4                                                                                                                                     answer who among these the most powerful world leader today trump putin modi may    \n",
       "\n",
       "   category  \n",
       "0      -1.0  \n",
       "1       0.0  \n",
       "2       1.0  \n",
       "3       1.0  \n",
       "4       1.0  "
      ],
      "text/html": [
       "<div>\n",
       "<style scoped>\n",
       "    .dataframe tbody tr th:only-of-type {\n",
       "        vertical-align: middle;\n",
       "    }\n",
       "\n",
       "    .dataframe tbody tr th {\n",
       "        vertical-align: top;\n",
       "    }\n",
       "\n",
       "    .dataframe thead th {\n",
       "        text-align: right;\n",
       "    }\n",
       "</style>\n",
       "<table border=\"1\" class=\"dataframe\">\n",
       "  <thead>\n",
       "    <tr style=\"text-align: right;\">\n",
       "      <th></th>\n",
       "      <th>clean_text</th>\n",
       "      <th>category</th>\n",
       "    </tr>\n",
       "  </thead>\n",
       "  <tbody>\n",
       "    <tr>\n",
       "      <th>0</th>\n",
       "      <td>when modi promised “minimum government maximum governance” expected him begin the difficult job reforming the state why does take years get justice state should and not business and should exit psus and temples</td>\n",
       "      <td>-1.0</td>\n",
       "    </tr>\n",
       "    <tr>\n",
       "      <th>1</th>\n",
       "      <td>talk all the nonsense and continue all the drama will vote for modi</td>\n",
       "      <td>0.0</td>\n",
       "    </tr>\n",
       "    <tr>\n",
       "      <th>2</th>\n",
       "      <td>what did just say vote for modi  welcome bjp told you rahul the main campaigner for modi think modi should just relax</td>\n",
       "      <td>1.0</td>\n",
       "    </tr>\n",
       "    <tr>\n",
       "      <th>3</th>\n",
       "      <td>asking his supporters prefix chowkidar their names modi did great service now there confusion what read what not now crustal clear what will crass filthy nonsensical see how most abuses are coming from chowkidars</td>\n",
       "      <td>1.0</td>\n",
       "    </tr>\n",
       "    <tr>\n",
       "      <th>4</th>\n",
       "      <td>answer who among these the most powerful world leader today trump putin modi may</td>\n",
       "      <td>1.0</td>\n",
       "    </tr>\n",
       "  </tbody>\n",
       "</table>\n",
       "</div>"
      ]
     },
     "execution_count": 79,
     "metadata": {},
     "output_type": "execute_result"
    }
   ],
   "execution_count": 79
  },
  {
   "metadata": {
    "ExecuteTime": {
     "end_time": "2024-11-12T14:54:45.479503Z",
     "start_time": "2024-11-12T14:54:45.463423Z"
    }
   },
   "cell_type": "code",
   "source": "data = data.dropna()",
   "id": "3678d94df1ab8786",
   "outputs": [],
   "execution_count": 81
  },
  {
   "metadata": {
    "ExecuteTime": {
     "end_time": "2024-11-12T14:57:39.275043Z",
     "start_time": "2024-11-12T14:57:39.271217Z"
    }
   },
   "cell_type": "code",
   "source": [
    "def text_normalize(text):\n",
    "    text = text.lower()\n",
    "    text = re.sub(r'^rt[\\s]+','', text)\n",
    "    text = re.sub(r'https?:\\/\\/.*[\\r\\n]*', '', text)\n",
    "    text = re.sub(r'[^\\w\\s]', '', text)\n",
    "    \n",
    "    stop_words = set(stopwords.words('english'))\n",
    "    words = text.split()\n",
    "    words = [word for word in words if word not in stop_words]\n",
    "    text = ' '.join(words)\n",
    "    \n",
    "    stemmer = SnowballStemmer('english')\n",
    "    words = text.split()\n",
    "    words = [stemmer.stem(word) for word in words]\n",
    "    text = ' '.join(words)\n",
    "    return text"
   ],
   "id": "726a400e80a8774a",
   "outputs": [],
   "execution_count": 82
  },
  {
   "metadata": {
    "ExecuteTime": {
     "end_time": "2024-11-12T14:58:50.470586Z",
     "start_time": "2024-11-12T14:58:47.269280Z"
    }
   },
   "cell_type": "code",
   "source": [
    "vectorizer = TfidfVectorizer(max_features=2000)\n",
    "X = vectorizer.fit_transform(data['clean_text']).toarray()"
   ],
   "id": "97ee2c5e1a26fa17",
   "outputs": [],
   "execution_count": 83
  },
  {
   "metadata": {
    "ExecuteTime": {
     "end_time": "2024-11-12T14:59:39.664737Z",
     "start_time": "2024-11-12T14:59:33.394227Z"
    }
   },
   "cell_type": "code",
   "source": [
    "intercept = np.ones((X.shape[0],1))\n",
    "X = np.concatenate((intercept, X), axis=1)"
   ],
   "id": "a828900667df4b06",
   "outputs": [],
   "execution_count": 85
  },
  {
   "metadata": {
    "ExecuteTime": {
     "end_time": "2024-11-12T15:01:01.271791Z",
     "start_time": "2024-11-12T15:01:01.161694Z"
    }
   },
   "cell_type": "code",
   "source": [
    "n_classes = data['category'].nunique()\n",
    "n_samples = data.shape[0]\n",
    "\n",
    "y = data['category'].to_numpy()+1\n",
    "y = y.astype(np.uint8)\n",
    "y_encoded = np.array([np.zeros(n_classes) for _ in range(n_samples)])\n",
    "y_encoded[np.arange(n_samples), y] = 1"
   ],
   "id": "48097be71f14ed9",
   "outputs": [],
   "execution_count": 86
  },
  {
   "metadata": {
    "ExecuteTime": {
     "end_time": "2024-11-12T15:02:34.056626Z",
     "start_time": "2024-11-12T15:02:26.444370Z"
    }
   },
   "cell_type": "code",
   "source": [
    "val_size = 0.2\n",
    "test_size = 0.125\n",
    "random_state = 2\n",
    "is_shuffle = True\n",
    "\n",
    "X_train, X_val, y_train, y_val = train_test_split(X, y_encoded, test_size=val_size, random_state=random_state, shuffle=is_shuffle)\n",
    "X_train, X_test, y_train, y_test = train_test_split(X_train, y_train, test_size=test_size, random_state=random_state, shuffle=is_shuffle)"
   ],
   "id": "1b7a37fa67df827a",
   "outputs": [],
   "execution_count": 88
  },
  {
   "metadata": {
    "ExecuteTime": {
     "end_time": "2024-11-12T15:03:06.466043Z",
     "start_time": "2024-11-12T15:03:06.454789Z"
    }
   },
   "cell_type": "code",
   "source": [
    "lr = 0.1\n",
    "epochs = 200\n",
    "batch_size = X_train.shape[0]\n",
    "n_features = X_train.shape[1]\n",
    "\n",
    "np.random.seed(random_state)\n",
    "theta = np.random.uniform(size=(n_features, n_classes))"
   ],
   "id": "c9857a810300ecbf",
   "outputs": [],
   "execution_count": 89
  },
  {
   "metadata": {
    "ExecuteTime": {
     "end_time": "2024-11-12T15:04:27.301626Z",
     "start_time": "2024-11-12T15:03:29.061174Z"
    }
   },
   "cell_type": "code",
   "source": [
    "train_accs = []\n",
    "train_losses = []\n",
    "val_accs = []\n",
    "val_losses = []\n",
    "\n",
    "for epoch in range(epochs):\n",
    "    train_batch_accs = []\n",
    "    train_batch_losses = []\n",
    "    val_batch_accs = []\n",
    "    val_batch_losses = []\n",
    "    for i in range(0, X_train.shape[0], batch_size):\n",
    "        X_i = X_train[i:i+batch_size]\n",
    "        y_i = y_train[i:i+batch_size]\n",
    "        y_hat = predict(X_i, theta)\n",
    "        train_loss = compute_loss(y_i, y_hat)\n",
    "        grad = compute_gradient(X_i, y_i, y_hat)\n",
    "        theta = update_theta(theta, grad, lr)\n",
    "        train_batch_accs.append(accuracy(X_i, y_i, theta))\n",
    "        train_batch_losses.append(train_loss)\n",
    "\n",
    "        y_val_hat = predict(X_val, theta)\n",
    "        val_loss = compute_loss(y_val, y_val_hat)\n",
    "        val_batch_accs.append(accuracy(X_val, y_val, theta))\n",
    "        val_batch_losses.append(val_loss)\n",
    "\n",
    "    train_batch_loss = sum(train_batch_losses)/len(train_batch_losses)\n",
    "    val_batch_loss = sum(val_batch_losses)/len(val_batch_losses)\n",
    "    train_batch_acc = sum(train_batch_accs)/len(train_batch_accs)\n",
    "    val_batch_acc = sum(val_batch_accs)/len(val_batch_accs)\n",
    "\n",
    "    train_accs.append(train_batch_acc)\n",
    "    train_losses.append(train_batch_loss)\n",
    "    val_accs.append(val_batch_acc)\n",
    "    val_losses.append(val_batch_loss)\n",
    "    print(f'epoch: {epoch+1} train loss: {train_batch_loss} train acc: {train_batch_acc} val loss: {val_batch_loss} val acc: {val_batch_acc}')"
   ],
   "id": "cbbc2eff8080ef21",
   "outputs": [
    {
     "name": "stdout",
     "output_type": "stream",
     "text": [
      "epoch: 1 train loss: 0.3772173407220885 train acc: 0.3631813320710391 val loss: 0.37626101977839405 val acc: 0.367214824814383\n",
      "epoch: 2 train loss: 0.376875662333945 train acc: 0.36451375374743594 val loss: 0.37592308191761353 val acc: 0.36822728109468\n",
      "epoch: 3 train loss: 0.37654084208484356 train acc: 0.365644558985957 val loss: 0.37559190220723054 val acc: 0.3691783763882923\n",
      "epoch: 4 train loss: 0.37621272986990756 train acc: 0.36682795981696736 val loss: 0.37526733319813105 val acc: 0.37031355464195864\n",
      "epoch: 5 train loss: 0.3758911792196871 train acc: 0.36798506285173305 val loss: 0.37494923099796157 val acc: 0.37181689881573293\n",
      "epoch: 6 train loss: 0.37557604720143334 train acc: 0.36898437910903065 val loss: 0.37463745517492814 val acc: 0.37313616002945327\n",
      "epoch: 7 train loss: 0.37526719432327565 train acc: 0.37009765248338855 val loss: 0.3743318686644213 val acc: 0.3743940602564889\n",
      "epoch: 8 train loss: 0.37496448444122077 train acc: 0.37135994670313294 val loss: 0.37403233767838656 val acc: 0.3749156286433086\n",
      "epoch: 9 train loss: 0.3746677846688929 train acc: 0.3725871771945511 val loss: 0.37373873161736004 val acc: 0.3763269313370559\n",
      "epoch: 10 train loss: 0.37437696528993236 train acc: 0.37354266379144097 val loss: 0.37345092298509147 val acc: 0.3770325826839296\n",
      "epoch: 11 train loss: 0.374091899672978 train acc: 0.3744981503883308 val loss: 0.3731687873056787 val acc: 0.3778302755108302\n",
      "epoch: 12 train loss: 0.37381246418915504 train acc: 0.3756377215589334 val loss: 0.3728922030431381 val acc: 0.37899613425783885\n",
      "epoch: 13 train loss: 0.37353853813199533 train acc: 0.376935079507004 val loss: 0.3726210515233406 val acc: 0.37973246609805483\n",
      "epoch: 14 train loss: 0.3732700036397143 train acc: 0.3778818001718123 val loss: 0.3723552168582393 val acc: 0.38089832484506353\n",
      "epoch: 15 train loss: 0.3730067456197791 train acc: 0.3786532021949894 val loss: 0.3720945858723229 val acc: 0.38169601767196415\n",
      "epoch: 16 train loss: 0.3727486516756931 train acc: 0.379494731674819 val loss: 0.3718390480312254 val acc: 0.3829539178989998\n",
      "epoch: 17 train loss: 0.37249561203593357 train acc: 0.38045021827170883 val loss: 0.37158849537242644 val acc: 0.3840890961526661\n",
      "epoch: 18 train loss: 0.3722475194849752 train acc: 0.3813443433440278 val loss: 0.3713428224379819 val acc: 0.3851629134196478\n",
      "epoch: 19 train loss: 0.372004269296336 train acc: 0.38355335822858044 val loss: 0.3711019262092168 val acc: 0.3867276185801068\n",
      "epoch: 20 train loss: 0.37176575916758337 train acc: 0.384315994319676 val loss: 0.3708657060433269 val acc: 0.38789347732711543\n",
      "epoch: 21 train loss: 0.3715318891572414 train acc: 0.3855081610827679 val loss: 0.37063406361182444 val acc: 0.3890593360741241\n",
      "epoch: 22 train loss: 0.3713025616235381 train acc: 0.3862707971738635 val loss: 0.3704069028407753 val acc: 0.39043995827452904\n",
      "epoch: 23 train loss: 0.3710776811649392 train acc: 0.3871123266536931 val loss: 0.3701841298527698 val acc: 0.39154445603485305\n",
      "epoch: 24 train loss: 0.3708571545624095 train acc: 0.38794509020144113 val loss: 0.369965652910575 val acc: 0.392648953795177\n",
      "epoch: 25 train loss: 0.37064089072335016 train acc: 0.3886551307000473 val loss: 0.36975138236241467 val acc: 0.393385285635393\n",
      "epoch: 26 train loss: 0.37042880062716177 train acc: 0.38965444695734497 val loss: 0.3695412305888278 val acc: 0.394029575995582\n",
      "epoch: 27 train loss: 0.3702207972723765 train acc: 0.39050474236925614 val loss: 0.3693351119510569 val acc: 0.3944591029023747\n",
      "epoch: 28 train loss: 0.3700167956253178 train acc: 0.3914251652378197 val loss: 0.3691329427409153 val acc: 0.39531815671596\n",
      "epoch: 29 train loss: 0.36981671257023446 train acc: 0.3921089079401813 val loss: 0.36893464113209223 val acc: 0.39596244707614897\n",
      "epoch: 30 train loss: 0.3696204668608655 train acc: 0.39252090674801454 val loss: 0.3687401271328466 val acc: 0.396330612996257\n",
      "epoch: 31 train loss: 0.3694279790733912 train acc: 0.3931169901295605 val loss: 0.3685493225400491 val acc: 0.39749647174326563\n",
      "epoch: 32 train loss: 0.3692391715607255 train acc: 0.3941250723189397 val loss: 0.36836215089452795 val acc: 0.3980487206234276\n",
      "epoch: 33 train loss: 0.3690539684081094 train acc: 0.3949052402741984 val loss: 0.36817853743768025 val acc: 0.39850892802356264\n",
      "epoch: 34 train loss: 0.3688722953899644 train acc: 0.39579059941443573 val loss: 0.36799840906930814 val acc: 0.3990611769037246\n",
      "epoch: 35 train loss: 0.36869407992796516 train acc: 0.3962990234751661 val loss: 0.36782169430664086 val acc: 0.3997361477572559\n",
      "epoch: 36 train loss: 0.3685192510502952 train acc: 0.39683374533214116 val loss: 0.36764832324450775 val acc: 0.4005645210774989\n",
      "epoch: 37 train loss: 0.36834773935204873 train acc: 0.3972457441399744 val loss: 0.3674782275166243 val acc: 0.4009326869976069\n",
      "epoch: 38 train loss: 0.3681794769567399 train acc: 0.3977278704044601 val loss: 0.3673113402579589 val acc: 0.4017303798245076\n",
      "epoch: 39 train loss: 0.36801439747888953 train acc: 0.39817493294061956 val loss: 0.3671475960681435 val acc: 0.4023746701846966\n",
      "epoch: 40 train loss: 0.3678524359876516 train acc: 0.3989463349637967 val loss: 0.3669869309759002 val acc: 0.4025587531447506\n",
      "epoch: 41 train loss: 0.36769352897145074 train acc: 0.3996125458019951 val loss: 0.36682928240444723 val acc: 0.40283487758483155\n",
      "epoch: 42 train loss: 0.36753761430359455 train acc: 0.40008590613439926 val loss: 0.36667458913785855 val acc: 0.40375529238510155\n",
      "epoch: 43 train loss: 0.36738463120883824 train acc: 0.4008485422254948 val loss: 0.36652279128834503 val acc: 0.40479842915874087\n",
      "epoch: 44 train loss: 0.36723452023086234 train acc: 0.40143585967495926 val loss: 0.36637383026442927 val acc: 0.40559612198564154\n",
      "epoch: 45 train loss: 0.36708722320064346 train acc: 0.40189168814320025 val loss: 0.36622764873998664 val acc: 0.4062097318524882\n",
      "epoch: 46 train loss: 0.36694268320568685 train acc: 0.40250530338890933 val loss: 0.3660841906241271 val acc: 0.40654721727925386\n",
      "epoch: 47 train loss: 0.3668008445600951 train acc: 0.40318028015918933 val loss: 0.36594340103188894 val acc: 0.40740627109283917\n",
      "epoch: 48 train loss: 0.3666616527754452 train acc: 0.4036098108311857 val loss: 0.3658052262557241 val acc: 0.4078357979996318\n",
      "epoch: 49 train loss: 0.3665250545324535 train acc: 0.40385525692946933 val loss: 0.36566961373774637 val acc: 0.4083573663864515\n",
      "epoch: 50 train loss: 0.36639099765340044 train acc: 0.40424972387313945 val loss: 0.3655365120427222 val acc: 0.40915505921335216\n",
      "epoch: 51 train loss: 0.366259431075294 train acc: 0.4048282753905223 val loss: 0.365405870831781 val acc: 0.40995275204025283\n",
      "epoch: 52 train loss: 0.36613030482374886 train acc: 0.4055383158891285 val loss: 0.3652776408368225 val acc: 0.41099588881389215\n",
      "epoch: 53 train loss: 0.366003569987558 train acc: 0.40617822893108224 val loss: 0.3651517738355998 val acc: 0.4112720132539731\n",
      "epoch: 54 train loss: 0.36587917869394077 train acc: 0.4065551640105892 val loss: 0.36502822262746026 val acc: 0.41167085966742345\n",
      "epoch: 55 train loss: 0.3657570840844397 train acc: 0.40706358807131965 val loss: 0.36490694100972015 val acc: 0.4119163036141621\n",
      "epoch: 56 train loss: 0.365637240291453 train acc: 0.40768596924911027 val loss: 0.3647878837546591 val acc: 0.41243787200098175\n",
      "epoch: 57 train loss: 0.3655196024153798 train acc: 0.4082908185627378 val loss: 0.364671006587111 val acc: 0.41317420384119774\n",
      "epoch: 58 train loss: 0.365404126502361 train acc: 0.40878171075930503 val loss: 0.36455626616263825 val acc: 0.4140639381481254\n",
      "epoch: 59 train loss: 0.36529076952259937 train acc: 0.40943038973334034 val loss: 0.36444362004626746 val acc: 0.41434006258820644\n",
      "epoch: 60 train loss: 0.36517948934923883 train acc: 0.4098073248128474 val loss: 0.36433302669177436 val acc: 0.4146775480149721\n",
      "epoch: 61 train loss: 0.3650702447377886 train acc: 0.4103245148056593 val loss: 0.36422444542149796 val acc: 0.4150763944284224\n",
      "epoch: 62 train loss: 0.3649629953060752 train acc: 0.41083293886638966 val loss: 0.36411783640667134 val acc: 0.4155672823218997\n",
      "epoch: 63 train loss: 0.36485770151470737 train acc: 0.411262469538386 val loss: 0.36401316064825173 val acc: 0.4159047677486654\n",
      "epoch: 64 train loss: 0.3647543246480374 train acc: 0.4117708935991164 val loss: 0.3639103799582377 val acc: 0.4163649751488004\n",
      "epoch: 65 train loss: 0.36465282679560773 train acc: 0.41209523308613405 val loss: 0.3638094569414562 val acc: 0.4164263361354851\n",
      "epoch: 66 train loss: 0.3645531708340628 train acc: 0.41257735935061973 val loss: 0.3637103549778095 val acc: 0.41707062649567406\n",
      "epoch: 67 train loss: 0.36445532040952044 train acc: 0.4129016988376374 val loss: 0.36361303820496443 val acc: 0.41762287537583603\n",
      "epoch: 68 train loss: 0.36435923992038205 train acc: 0.4130945493434317 val loss: 0.36351747150147695 val acc: 0.41792968030925937\n",
      "epoch: 69 train loss: 0.36426489450057414 train acc: 0.41333122950963375 val loss: 0.3634236204703326 val acc: 0.41808308277597106\n",
      "epoch: 70 train loss: 0.3641722500032052 train acc: 0.41387471729869035 val loss: 0.3633314514228975 val acc: 0.418267165736025\n",
      "epoch: 71 train loss: 0.3640812729846309 train acc: 0.4143743754273392 val loss: 0.3632409313632644 val acc: 0.4182058047493404\n",
      "epoch: 72 train loss: 0.3639919306889089 train acc: 0.4149003313522327 val loss: 0.3631520279729828 val acc: 0.41872737313616004\n",
      "epoch: 73 train loss: 0.3639041910326396 train acc: 0.4152334367713319 val loss: 0.3630647095961645 val acc: 0.41894213658955637\n",
      "epoch: 74 train loss: 0.3638180225901766 train acc: 0.41532109609214746 val loss: 0.36297894522495183 val acc: 0.419279622016322\n",
      "epoch: 75 train loss: 0.36373339457919923 train acc: 0.41568049930749135 val loss: 0.3628947044853395 val acc: 0.41973982941645704\n",
      "epoch: 76 train loss: 0.3636502768466363 train acc: 0.41589088167744875 val loss: 0.3628119576233396 val acc: 0.42059888323004235\n",
      "epoch: 77 train loss: 0.36356863985493015 train acc: 0.4162678167569558 val loss: 0.36273067549148147 val acc: 0.42136589556360066\n",
      "epoch: 78 train loss: 0.3634884546686346 train acc: 0.41635547607777135 val loss: 0.3626508295356351 val acc: 0.42127385408357365\n",
      "epoch: 79 train loss: 0.36340969294133363 train acc: 0.416679815564789 val loss: 0.3625723917821519 val acc: 0.421580659016997\n",
      "epoch: 80 train loss: 0.36333232690287426 train acc: 0.41710934623678536 val loss: 0.36249533482531077 val acc: 0.4217340614837087\n",
      "epoch: 81 train loss: 0.3632563293469058 train acc: 0.4173986219954768 val loss: 0.362419631815065 val acc: 0.42216358839050133\n",
      "epoch: 82 train loss: 0.3631816736187147 train acc: 0.4177054296183313 val loss: 0.36234525644507826 val acc: 0.4226237957906363\n",
      "epoch: 83 train loss: 0.36310833360334854 train acc: 0.4178982801241256 val loss: 0.3622721829410446 val acc: 0.422777198257348\n",
      "epoch: 84 train loss: 0.36303628371402114 train acc: 0.4180998965620014 val loss: 0.3622003860492825 val acc: 0.42296128121740195\n",
      "epoch: 85 train loss: 0.3629654988807912 train acc: 0.41848559757359 val loss: 0.36212984102559787 val acc: 0.42308400319077133\n",
      "epoch: 86 train loss: 0.362895954539506 train acc: 0.41873104367187364 val loss: 0.36206052362440716 val acc: 0.423421488617537\n",
      "epoch: 87 train loss: 0.3628276266210058 train acc: 0.41894142604183104 val loss: 0.3619924100881141 val acc: 0.42403509848438364\n",
      "epoch: 88 train loss: 0.3627604915405778 train acc: 0.41919563807219623 val loss: 0.36192547713673384 val acc: 0.42406577897772596\n",
      "epoch: 89 train loss: 0.3626945261876581 train acc: 0.4193884885779905 val loss: 0.36185970195775735 val acc: 0.42421918144443765\n",
      "epoch: 90 train loss: 0.36262970791577065 train acc: 0.41973912586125284 val loss: 0.3617950621962502 val acc: 0.42461802785788794\n",
      "epoch: 91 train loss: 0.36256601453269904 train acc: 0.41996704009537333 val loss: 0.3617315359451788 val acc: 0.42477143032459963\n",
      "epoch: 92 train loss: 0.3625034242908857 train acc: 0.42025631585406475 val loss: 0.3616691017359602 val acc: 0.42461802785788794\n",
      "epoch: 93 train loss: 0.3624419158780506 train acc: 0.42048423008818525 val loss: 0.3616077385292259 val acc: 0.4246487083512303\n",
      "epoch: 94 train loss: 0.3623814684080253 train acc: 0.4207296761864689 val loss: 0.36154742570579934 val acc: 0.4252316377247346\n",
      "epoch: 95 train loss: 0.36232206141179624 train acc: 0.420887462963937 val loss: 0.36148814305787597 val acc: 0.4254770816714733\n",
      "epoch: 96 train loss: 0.36226367482875216 train acc: 0.42090499482810007 val loss: 0.3614298707804056 val acc: 0.42578388660489663\n",
      "epoch: 97 train loss: 0.36220628899812873 train acc: 0.4211066112659759 val loss: 0.3613725894626679 val acc: 0.42572252561821194\n",
      "epoch: 98 train loss: 0.3621498846506495 train acc: 0.42130822770385173 val loss: 0.36131628008003974 val acc: 0.42563048413818494\n",
      "epoch: 99 train loss: 0.3620944429003529 train acc: 0.42160626939462476 val loss: 0.36126092398594556 val acc: 0.42581456709823895\n",
      "epoch: 100 train loss: 0.36203994523660454 train acc: 0.42180788583250056 val loss: 0.36120650290399126 val acc: 0.42563048413818494\n",
      "epoch: 101 train loss: 0.3619863735162879 train acc: 0.42201826820245797 val loss: 0.3611529989202708 val acc: 0.4255077621648156\n",
      "epoch: 102 train loss: 0.36193370995617075 train acc: 0.42221988464033383 val loss: 0.36110039447584663 val acc: 0.4255077621648156\n",
      "epoch: 103 train loss: 0.3618819371254408 train acc: 0.4227283087010642 val loss: 0.36104867235939697 val acc: 0.42556912315150025\n",
      "epoch: 104 train loss: 0.36183103793840865 train acc: 0.42294745700310316 val loss: 0.3609978157000261 val acc: 0.42553844265815793\n",
      "epoch: 105 train loss: 0.36178099564737165 train acc: 0.4231666053051421 val loss: 0.3609478079602332 val acc: 0.42566116463152726\n",
      "epoch: 106 train loss: 0.3617317938356361 train acc: 0.4233506898788548 val loss: 0.360898632929038 val acc: 0.42575320611155426\n",
      "epoch: 107 train loss: 0.36168341641069396 train acc: 0.42350847665632285 val loss: 0.3608502747152563 val acc: 0.42581456709823895\n",
      "epoch: 108 train loss: 0.3616358475975493 train acc: 0.4234997107242413 val loss: 0.3608027177409238 val acc: 0.4260600110449776\n",
      "epoch: 109 train loss: 0.3615890719321914 train acc: 0.4236487315696278 val loss: 0.36075594673486455 val acc: 0.4263054549917163\n",
      "epoch: 110 train loss: 0.36154307425521165 train acc: 0.4239906029208086 val loss: 0.36070994672639906 val acc: 0.42655089893845494\n",
      "epoch: 111 train loss: 0.36149783970555877 train acc: 0.42410456003786884 val loss: 0.36066470303919046 val acc: 0.42655089893845494\n",
      "epoch: 112 train loss: 0.36145335371443144 train acc: 0.4241396237661951 val loss: 0.3606202012852242 val acc: 0.4269497453519053\n",
      "epoch: 113 train loss: 0.3614096019993029 train acc: 0.424358772068234 val loss: 0.3605764273589187 val acc: 0.4269804258452476\n",
      "epoch: 114 train loss: 0.3613665705580759 train acc: 0.4244814951173758 val loss: 0.36053336743136355 val acc: 0.4272565502853286\n",
      "epoch: 115 train loss: 0.3613242456633647 train acc: 0.42470940935149637 val loss: 0.3604910079446815 val acc: 0.4273485917653556\n",
      "epoch: 116 train loss: 0.3612826138568993 train acc: 0.42470940935149637 val loss: 0.36044933560651393 val acc: 0.4276247162054366\n",
      "epoch: 117 train loss: 0.3612416619440508 train acc: 0.4247620049439857 val loss: 0.360408337384623 val acc: 0.42777811867214827\n",
      "epoch: 118 train loss: 0.3612013769884762 train acc: 0.42493732358561687 val loss: 0.3603680005016109 val acc: 0.4278087991654906\n",
      "epoch: 119 train loss: 0.3611617463068765 train acc: 0.4249986851101878 val loss: 0.3603283124297521 val acc: 0.4279928821255446\n",
      "epoch: 120 train loss: 0.36112275746386635 train acc: 0.42519153561598205 val loss: 0.36028926088593616 val acc: 0.4279928821255446\n",
      "epoch: 121 train loss: 0.3610843982669566 train acc: 0.425331790529287 val loss: 0.36025083382671796 val acc: 0.4280542431122292\n",
      "epoch: 122 train loss: 0.3610466567616413 train acc: 0.4255597047634075 val loss: 0.3602130194434748 val acc: 0.42787016015217527\n",
      "epoch: 123 train loss: 0.36100952122658947 train acc: 0.42576132120128335 val loss: 0.36017580615766465 val acc: 0.42787016015217527\n",
      "epoch: 124 train loss: 0.36097298016894064 train acc: 0.4257700871333649 val loss: 0.36013918261618694 val acc: 0.4279315211388599\n",
      "epoch: 125 train loss: 0.3609370223196989 train acc: 0.4257700871333649 val loss: 0.36010313768684005 val acc: 0.42833036755231024\n",
      "epoch: 126 train loss: 0.3609016366292256 train acc: 0.42591034204666983 val loss: 0.36006766045387595 val acc: 0.4286371724857336\n",
      "epoch: 127 train loss: 0.3608668122628258 train acc: 0.4259015761145883 val loss: 0.36003274021364884 val acc: 0.4288212554457876\n",
      "epoch: 128 train loss: 0.3608325385964304 train acc: 0.42596293763915916 val loss: 0.3599983664703538 val acc: 0.42918942136589555\n",
      "epoch: 129 train loss: 0.3607988052123658 train acc: 0.42609442662038255 val loss: 0.35996452893185754 val acc: 0.42934282383260725\n",
      "epoch: 130 train loss: 0.36076560189521584 train acc: 0.4261908518732797 val loss: 0.3599312175056151 val acc: 0.4295575872860036\n",
      "epoch: 131 train loss: 0.3607329186277692 train acc: 0.4264187661074002 val loss: 0.3598984222946728 val acc: 0.4297416702460576\n",
      "epoch: 132 train loss: 0.36070074558705123 train acc: 0.42648012763197113 val loss: 0.35986613359375413 val acc: 0.4296803092593729\n",
      "epoch: 133 train loss: 0.36066907314043983 train acc: 0.4265677869527867 val loss: 0.3598343418854292 val acc: 0.4298643922194269\n",
      "epoch: 134 train loss: 0.36063789184186207 train acc: 0.4266466803415207 val loss: 0.359803037836362 val acc: 0.43017119715285024\n",
      "epoch: 135 train loss: 0.36060719242807027 train acc: 0.42676940339066255 val loss: 0.35977221229363765 val acc: 0.4304473215929312\n",
      "epoch: 136 train loss: 0.36057696581499543 train acc: 0.4269096583039675 val loss: 0.35974185628116456 val acc: 0.4306314045529852\n",
      "epoch: 137 train loss: 0.3605472030941769 train acc: 0.42689212643980434 val loss: 0.3597119609961529 val acc: 0.43075412652635453\n",
      "epoch: 138 train loss: 0.3605178955292661 train acc: 0.42707621101351706 val loss: 0.3596825178056649 val acc: 0.4306620850463275\n",
      "epoch: 139 train loss: 0.36048903455260206 train acc: 0.4274443801609425 val loss: 0.3596535182432375 val acc: 0.4306927655396699\n",
      "epoch: 140 train loss: 0.36046061176185973 train acc: 0.4275758691421659 val loss: 0.359624954005574 val acc: 0.4308154875130392\n",
      "epoch: 141 train loss: 0.3604326189167644 train acc: 0.42775118778379706 val loss: 0.35959681694930506 val acc: 0.4309075289930662\n",
      "epoch: 142 train loss: 0.3604050479358785 train acc: 0.42790020862918354 val loss: 0.3595690990878159 val acc: 0.43099957047309323\n",
      "epoch: 143 train loss: 0.3603778908934495 train acc: 0.4279878679499991 val loss: 0.35954179258813884 val acc: 0.43103025096643555\n",
      "epoch: 144 train loss: 0.3603511400163273 train acc: 0.4280930591349778 val loss: 0.35951488976791013 val acc: 0.43106093145977786\n",
      "epoch: 145 train loss: 0.3603247876809424 train acc: 0.4281719525237119 val loss: 0.3594883830923896 val acc: 0.43112229244646255\n",
      "epoch: 146 train loss: 0.36029882641034644 train acc: 0.42832097336909836 val loss: 0.3594622651715403 val acc: 0.43112229244646255\n",
      "epoch: 147 train loss: 0.3602732488713146 train acc: 0.42839986675783237 val loss: 0.35943652875716986 val acc: 0.4310916119531202\n",
      "epoch: 148 train loss: 0.36024804787150644 train acc: 0.4284962920107295 val loss: 0.3594111667401286 val acc: 0.4310916119531202\n",
      "epoch: 149 train loss: 0.3602232163566847 train acc: 0.42868037658444225 val loss: 0.35938617214756596 val acc: 0.4313370558998589\n",
      "epoch: 150 train loss: 0.36019874740799207 train acc: 0.42878556776942095 val loss: 0.3593615381402431 val acc: 0.4313370558998589\n",
      "epoch: 151 train loss: 0.360174634239282 train acc: 0.4289521204789705 val loss: 0.35933725800989946 val acc: 0.43161318033993984\n",
      "epoch: 152 train loss: 0.3601508701945056 train acc: 0.42901348200354145 val loss: 0.3593133251766744 val acc: 0.4315518193532552\n",
      "epoch: 153 train loss: 0.36012744874515046 train acc: 0.4291712687810095 val loss: 0.35928973318657964 val acc: 0.4314904583665705\n",
      "epoch: 154 train loss: 0.3601043634877324 train acc: 0.4291712687810095 val loss: 0.3592664757090248 val acc: 0.43170522181996684\n",
      "epoch: 155 train loss: 0.36008160814133766 train acc: 0.4292063325093357 val loss: 0.35924354653439183 val acc: 0.4320120267533902\n",
      "epoch: 156 train loss: 0.36005917654521613 train acc: 0.42924139623766194 val loss: 0.35922093957165985 val acc: 0.4321347487267595\n",
      "epoch: 157 train loss: 0.36003706265642116 train acc: 0.42932028962639596 val loss: 0.3591986488460774 val acc: 0.4322267902067865\n",
      "epoch: 158 train loss: 0.3600152605475001 train acc: 0.42934658742264065 val loss: 0.359176668496882 val acc: 0.4325949561268945\n",
      "epoch: 159 train loss: 0.35999376440422914 train acc: 0.42932028962639596 val loss: 0.359154992775066 val acc: 0.4326563171135792\n",
      "epoch: 160 train loss: 0.3599725685233955 train acc: 0.4293553533547222 val loss: 0.3591336160411879 val acc: 0.43277903908694854\n",
      "epoch: 161 train loss: 0.3599516673106235 train acc: 0.4294868423359456 val loss: 0.35911253276322685 val acc: 0.43284040007363317\n",
      "epoch: 162 train loss: 0.3599310552782452 train acc: 0.4295920335209243 val loss: 0.3590917375144819 val acc: 0.43287108056697554\n",
      "epoch: 163 train loss: 0.3599107270432136 train acc: 0.4296533950454952 val loss: 0.3590712249715126 val acc: 0.43284040007363317\n",
      "epoch: 164 train loss: 0.3598906773250585 train acc: 0.42970599063798454 val loss: 0.3590509899121209 val acc: 0.4325642756335522\n",
      "epoch: 165 train loss: 0.35987090094388174 train acc: 0.4295657357246796 val loss: 0.3590310272133753 val acc: 0.43277903908694854\n",
      "epoch: 166 train loss: 0.3598513928183956 train acc: 0.42967969284173985 val loss: 0.3590113318496722 val acc: 0.43290176106031786\n",
      "epoch: 167 train loss: 0.3598321479639981 train acc: 0.42978488402671855 val loss: 0.35899189889083855 val acc: 0.43287108056697554\n",
      "epoch: 168 train loss: 0.3598131614908879 train acc: 0.429855011483371 val loss: 0.3589727235002715 val acc: 0.43268699760692153\n",
      "epoch: 169 train loss: 0.3597944286022177 train acc: 0.42991637300794194 val loss: 0.3589538009331149 val acc: 0.4325642756335522\n",
      "epoch: 170 train loss: 0.35977594459228385 train acc: 0.4299251389400235 val loss: 0.35893512653447424 val acc: 0.43262563662023684\n",
      "epoch: 171 train loss: 0.3597577048447513 train acc: 0.43002156419292065 val loss: 0.3589166957376646 val acc: 0.43284040007363317\n",
      "epoch: 172 train loss: 0.35973970483091694 train acc: 0.4301092235137362 val loss: 0.3588985040624962 val acc: 0.43308584402037187\n",
      "epoch: 173 train loss: 0.35972194010800473 train acc: 0.4300829257174915 val loss: 0.3588805471135926 val acc: 0.4332085659937412\n",
      "epoch: 174 train loss: 0.3597044063174957 train acc: 0.4300566279212469 val loss: 0.35886282057874347 val acc: 0.4332085659937412\n",
      "epoch: 175 train loss: 0.3596870991834934 train acc: 0.4300653938533284 val loss: 0.3588453202272898 val acc: 0.43308584402037187\n",
      "epoch: 176 train loss: 0.3596700145111181 train acc: 0.4301793509703887 val loss: 0.35882804190854123 val acc: 0.4331472050070565\n",
      "epoch: 177 train loss: 0.3596531481849362 train acc: 0.4302933080874489 val loss: 0.35881098155022506 val acc: 0.4331472050070565\n",
      "epoch: 178 train loss: 0.35963649616742066 train acc: 0.43037220147618294 val loss: 0.3587941351569666 val acc: 0.43308584402037187\n",
      "epoch: 179 train loss: 0.3596200544974395 train acc: 0.43045986079699855 val loss: 0.3587774988087992 val acc: 0.4332699269804258\n",
      "epoch: 180 train loss: 0.35960381928877744 train acc: 0.430529988253651 val loss: 0.3587610686597039 val acc: 0.4332699269804258\n",
      "epoch: 181 train loss: 0.3595877867286855 train acc: 0.430529988253651 val loss: 0.3587448409361787 val acc: 0.4333926489537952\n",
      "epoch: 182 train loss: 0.35957195307645873 train acc: 0.4306965409632006 val loss: 0.35872881193583556 val acc: 0.4333926489537952\n",
      "epoch: 183 train loss: 0.35955631466204396 train acc: 0.4308017321481793 val loss: 0.358712978026026 val acc: 0.43357673191384916\n",
      "epoch: 184 train loss: 0.3595408678846743 train acc: 0.430906923333158 val loss: 0.3586973356424931 val acc: 0.43336196846045283\n",
      "epoch: 185 train loss: 0.35952560921152915 train acc: 0.43097705078981047 val loss: 0.3586818812880513 val acc: 0.43336196846045283\n",
      "epoch: 186 train loss: 0.3595105351764245 train acc: 0.43112607163519695 val loss: 0.3586666115312911 val acc: 0.4332699269804258\n",
      "epoch: 187 train loss: 0.35949564237852516 train acc: 0.4311699012956048 val loss: 0.35865152300531045 val acc: 0.4332392464870835\n",
      "epoch: 188 train loss: 0.35948092748108473 train acc: 0.4311611353635232 val loss: 0.3586366124064709 val acc: 0.4333312879671105\n",
      "epoch: 189 train loss: 0.3594663872102103 train acc: 0.4312663265485019 val loss: 0.3586218764931782 val acc: 0.4333926489537952\n",
      "epoch: 190 train loss: 0.359452018353651 train acc: 0.4313452199372359 val loss: 0.3586073120846873 val acc: 0.43357673191384916\n",
      "epoch: 191 train loss: 0.3594378177596106 train acc: 0.43133645400515436 val loss: 0.3585929160599308 val acc: 0.43357673191384916\n",
      "epoch: 192 train loss: 0.3594237823355838 train acc: 0.4313013902768281 val loss: 0.35857868535637 val acc: 0.4335153709271645\n",
      "epoch: 193 train loss: 0.3594099090472156 train acc: 0.43142411332596997 val loss: 0.35856461696886993 val acc: 0.4333926489537952\n",
      "epoch: 194 train loss: 0.35939619491718255 train acc: 0.43157313417135645 val loss: 0.35855070794859545 val acc: 0.43348469043382215\n",
      "epoch: 195 train loss: 0.35938263702409684 train acc: 0.431581900103438 val loss: 0.3585369554019294 val acc: 0.43354605142050684\n",
      "epoch: 196 train loss: 0.3593692325014307 train acc: 0.431581900103438 val loss: 0.3585233564894121 val acc: 0.43354605142050684\n",
      "epoch: 197 train loss: 0.35935597853646395 train acc: 0.431660793492172 val loss: 0.3585099084247017 val acc: 0.43376081487390317\n",
      "epoch: 198 train loss: 0.35934287236925005 train acc: 0.4316081978996827 val loss: 0.35849660847355524 val acc: 0.43382217586058786\n",
      "epoch: 199 train loss: 0.3593299112916048 train acc: 0.4316344956959273 val loss: 0.35848345395282943 val acc: 0.4337914953672455\n",
      "epoch: 200 train loss: 0.35931709264611195 train acc: 0.4317309209488245 val loss: 0.358470442229501 val acc: 0.4340369393139842\n"
     ]
    }
   ],
   "execution_count": 90
  },
  {
   "metadata": {
    "ExecuteTime": {
     "end_time": "2024-11-12T15:04:43.229233Z",
     "start_time": "2024-11-12T15:04:42.946780Z"
    }
   },
   "cell_type": "code",
   "source": [
    "fig , ax = plt . subplots (2 , 2 , figsize =(12 , 10) )\n",
    "ax[0 , 0]. plot ( train_losses )\n",
    "ax[0 , 0]. set ( xlabel ='Epoch', ylabel ='Loss')\n",
    "ax[0 , 0]. set_title ('Training Loss')\n",
    "\n",
    "ax[0 , 1]. plot ( val_losses , 'orange')\n",
    "ax[0 , 1]. set ( xlabel ='Epoch', ylabel ='Loss')\n",
    "ax[0 , 1]. set_title ('Validation Loss')\n",
    "\n",
    "ax[1 , 0]. plot ( train_accs )\n",
    "ax[1 , 0]. set ( xlabel ='Epoch', ylabel ='Accuracy')\n",
    "ax[1 , 0]. set_title ('Training Accuracy ')\n",
    "\n",
    "ax[1 , 1]. plot ( val_accs , 'orange')\n",
    "ax[1 , 1]. set ( xlabel ='Epoch', ylabel ='Accuracy')\n",
    "ax[1 , 1]. set_title ('Validation Accuracy')\n",
    "\n",
    "plt.show()"
   ],
   "id": "88714edfd40fee10",
   "outputs": [
    {
     "data": {
      "text/plain": [
       "<Figure size 1200x1000 with 4 Axes>"
      ],
      "image/png": "[encoded data removed]"
     },
     "metadata": {},
     "output_type": "display_data"
    }
   ],
   "execution_count": 91
  },
  {
   "metadata": {
    "ExecuteTime": {
     "end_time": "2024-11-12T15:11:31.198710Z",
     "start_time": "2024-11-12T15:11:31.193800Z"
    }
   },
   "cell_type": "code",
   "source": [
    "z = np.array([[-1., -2., 3.,2.]])\n",
    "softmax(z)"
   ],
   "id": "da9e48968d90e9db",
   "outputs": [
    {
     "data": {
      "text/plain": [
       "array([[0.01314897, 0.00483724, 0.71790961, 0.26410418]])"
      ]
     },
     "execution_count": 102,
     "metadata": {},
     "output_type": "execute_result"
    }
   ],
   "execution_count": 102
  },
  {
   "metadata": {},
   "cell_type": "code",
   "outputs": [],
   "execution_count": null,
   "source": "",
   "id": "40325469af5b22eb"
  },
  {
   "metadata": {
    "ExecuteTime": {
     "end_time": "2024-11-12T15:16:53.025050Z",
     "start_time": "2024-11-12T15:16:53.021541Z"
    }
   },
   "cell_type": "code",
   "source": [
    "y_hat = np.array([[0.,1.,3.,2.,0.,2.,1.,2.]])\n",
    "y = np.array([[0.,0.,3.,2.,1.,2.,2.,1.]])\n"
   ],
   "id": "518c5c74839b0d9b",
   "outputs": [],
   "execution_count": 105
  },
  {
   "metadata": {},
   "cell_type": "code",
   "outputs": [],
   "execution_count": null,
   "source": "",
   "id": "e6b35a820aa1016d"
  }
 ],
 "metadata": {
  "kernelspec": {
   "display_name": "Python 3",
   "language": "python",
   "name": "python3"
  },
  "language_info": {
   "codemirror_mode": {
    "name": "ipython",
    "version": 2
   },
   "file_extension": ".py",
   "mimetype": "text/x-python",
   "name": "python",
   "nbconvert_exporter": "python",
   "pygments_lexer": "ipython2",
   "version": "2.7.6"
  }
 },
 "nbformat": 4,
 "nbformat_minor": 5
}
