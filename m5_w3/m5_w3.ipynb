{
 "cells": [
  {
   "cell_type": "code",
   "id": "initial_id",
   "metadata": {
    "collapsed": true,
    "ExecuteTime": {
     "end_time": "2024-11-19T13:44:04.437590Z",
     "start_time": "2024-11-19T13:44:04.432573Z"
    }
   },
   "source": [
    "import numpy as np\n",
    "import pandas as pd\n",
    "import matplotlib.pyplot as plt\n",
    "import torch\n",
    "import torch.nn as nn\n",
    "import torch.nn.functional as F\n",
    "from torch.utils.data import Dataset, DataLoader\n",
    "from sklearn.model_selection import train_test_split\n",
    "from sklearn.preprocessing import StandardScaler"
   ],
   "outputs": [],
   "execution_count": 17
  },
  {
   "metadata": {
    "ExecuteTime": {
     "end_time": "2024-11-19T13:44:04.448388Z",
     "start_time": "2024-11-19T13:44:04.445289Z"
    }
   },
   "cell_type": "code",
   "source": "device = torch.device('cuda:0' if torch.cuda.is_available() else 'cpu')",
   "id": "9b6d2cdaacad7990",
   "outputs": [],
   "execution_count": 18
  },
  {
   "metadata": {
    "ExecuteTime": {
     "end_time": "2024-11-19T13:44:04.479339Z",
     "start_time": "2024-11-19T13:44:04.450454Z"
    }
   },
   "cell_type": "code",
   "source": [
    "random_state = 59\n",
    "np.random.seed(random_state)\n",
    "torch.manual_seed(random_state)\n",
    "if torch.cuda.is_available():\n",
    "    torch.cuda.manual_seed(random_state)"
   ],
   "id": "5178f1d393b0cdb2",
   "outputs": [],
   "execution_count": 19
  },
  {
   "metadata": {
    "ExecuteTime": {
     "end_time": "2024-11-19T13:44:04.494515Z",
     "start_time": "2024-11-19T13:44:04.480364Z"
    }
   },
   "cell_type": "code",
   "source": [
    "dataset_path = 'Auto_MPG_data.csv'\n",
    "data = pd.read_csv(dataset_path)\n",
    "data"
   ],
   "id": "6aefc29e90eaaa26",
   "outputs": [
    {
     "data": {
      "text/plain": [
       "      MPG  Cylinders  Displacement  Horsepower  Weight  Acceleration  \\\n",
       "0    18.0          8         307.0       130.0  3504.0          12.0   \n",
       "1    15.0          8         350.0       165.0  3693.0          11.5   \n",
       "2    18.0          8         318.0       150.0  3436.0          11.0   \n",
       "3    16.0          8         304.0       150.0  3433.0          12.0   \n",
       "4    17.0          8         302.0       140.0  3449.0          10.5   \n",
       "..    ...        ...           ...         ...     ...           ...   \n",
       "387  27.0          4         140.0        86.0  2790.0          15.6   \n",
       "388  44.0          4          97.0        52.0  2130.0          24.6   \n",
       "389  32.0          4         135.0        84.0  2295.0          11.6   \n",
       "390  28.0          4         120.0        79.0  2625.0          18.6   \n",
       "391  31.0          4         119.0        82.0  2720.0          19.4   \n",
       "\n",
       "     Model Year  Europe  Japan  USA  \n",
       "0            70       0      0    1  \n",
       "1            70       0      0    1  \n",
       "2            70       0      0    1  \n",
       "3            70       0      0    1  \n",
       "4            70       0      0    1  \n",
       "..          ...     ...    ...  ...  \n",
       "387          82       0      0    1  \n",
       "388          82       1      0    0  \n",
       "389          82       0      0    1  \n",
       "390          82       0      0    1  \n",
       "391          82       0      0    1  \n",
       "\n",
       "[392 rows x 10 columns]"
      ],
      "text/html": [
       "<div>\n",
       "<style scoped>\n",
       "    .dataframe tbody tr th:only-of-type {\n",
       "        vertical-align: middle;\n",
       "    }\n",
       "\n",
       "    .dataframe tbody tr th {\n",
       "        vertical-align: top;\n",
       "    }\n",
       "\n",
       "    .dataframe thead th {\n",
       "        text-align: right;\n",
       "    }\n",
       "</style>\n",
       "<table border=\"1\" class=\"dataframe\">\n",
       "  <thead>\n",
       "    <tr style=\"text-align: right;\">\n",
       "      <th></th>\n",
       "      <th>MPG</th>\n",
       "      <th>Cylinders</th>\n",
       "      <th>Displacement</th>\n",
       "      <th>Horsepower</th>\n",
       "      <th>Weight</th>\n",
       "      <th>Acceleration</th>\n",
       "      <th>Model Year</th>\n",
       "      <th>Europe</th>\n",
       "      <th>Japan</th>\n",
       "      <th>USA</th>\n",
       "    </tr>\n",
       "  </thead>\n",
       "  <tbody>\n",
       "    <tr>\n",
       "      <th>0</th>\n",
       "      <td>18.0</td>\n",
       "      <td>8</td>\n",
       "      <td>307.0</td>\n",
       "      <td>130.0</td>\n",
       "      <td>3504.0</td>\n",
       "      <td>12.0</td>\n",
       "      <td>70</td>\n",
       "      <td>0</td>\n",
       "      <td>0</td>\n",
       "      <td>1</td>\n",
       "    </tr>\n",
       "    <tr>\n",
       "      <th>1</th>\n",
       "      <td>15.0</td>\n",
       "      <td>8</td>\n",
       "      <td>350.0</td>\n",
       "      <td>165.0</td>\n",
       "      <td>3693.0</td>\n",
       "      <td>11.5</td>\n",
       "      <td>70</td>\n",
       "      <td>0</td>\n",
       "      <td>0</td>\n",
       "      <td>1</td>\n",
       "    </tr>\n",
       "    <tr>\n",
       "      <th>2</th>\n",
       "      <td>18.0</td>\n",
       "      <td>8</td>\n",
       "      <td>318.0</td>\n",
       "      <td>150.0</td>\n",
       "      <td>3436.0</td>\n",
       "      <td>11.0</td>\n",
       "      <td>70</td>\n",
       "      <td>0</td>\n",
       "      <td>0</td>\n",
       "      <td>1</td>\n",
       "    </tr>\n",
       "    <tr>\n",
       "      <th>3</th>\n",
       "      <td>16.0</td>\n",
       "      <td>8</td>\n",
       "      <td>304.0</td>\n",
       "      <td>150.0</td>\n",
       "      <td>3433.0</td>\n",
       "      <td>12.0</td>\n",
       "      <td>70</td>\n",
       "      <td>0</td>\n",
       "      <td>0</td>\n",
       "      <td>1</td>\n",
       "    </tr>\n",
       "    <tr>\n",
       "      <th>4</th>\n",
       "      <td>17.0</td>\n",
       "      <td>8</td>\n",
       "      <td>302.0</td>\n",
       "      <td>140.0</td>\n",
       "      <td>3449.0</td>\n",
       "      <td>10.5</td>\n",
       "      <td>70</td>\n",
       "      <td>0</td>\n",
       "      <td>0</td>\n",
       "      <td>1</td>\n",
       "    </tr>\n",
       "    <tr>\n",
       "      <th>...</th>\n",
       "      <td>...</td>\n",
       "      <td>...</td>\n",
       "      <td>...</td>\n",
       "      <td>...</td>\n",
       "      <td>...</td>\n",
       "      <td>...</td>\n",
       "      <td>...</td>\n",
       "      <td>...</td>\n",
       "      <td>...</td>\n",
       "      <td>...</td>\n",
       "    </tr>\n",
       "    <tr>\n",
       "      <th>387</th>\n",
       "      <td>27.0</td>\n",
       "      <td>4</td>\n",
       "      <td>140.0</td>\n",
       "      <td>86.0</td>\n",
       "      <td>2790.0</td>\n",
       "      <td>15.6</td>\n",
       "      <td>82</td>\n",
       "      <td>0</td>\n",
       "      <td>0</td>\n",
       "      <td>1</td>\n",
       "    </tr>\n",
       "    <tr>\n",
       "      <th>388</th>\n",
       "      <td>44.0</td>\n",
       "      <td>4</td>\n",
       "      <td>97.0</td>\n",
       "      <td>52.0</td>\n",
       "      <td>2130.0</td>\n",
       "      <td>24.6</td>\n",
       "      <td>82</td>\n",
       "      <td>1</td>\n",
       "      <td>0</td>\n",
       "      <td>0</td>\n",
       "    </tr>\n",
       "    <tr>\n",
       "      <th>389</th>\n",
       "      <td>32.0</td>\n",
       "      <td>4</td>\n",
       "      <td>135.0</td>\n",
       "      <td>84.0</td>\n",
       "      <td>2295.0</td>\n",
       "      <td>11.6</td>\n",
       "      <td>82</td>\n",
       "      <td>0</td>\n",
       "      <td>0</td>\n",
       "      <td>1</td>\n",
       "    </tr>\n",
       "    <tr>\n",
       "      <th>390</th>\n",
       "      <td>28.0</td>\n",
       "      <td>4</td>\n",
       "      <td>120.0</td>\n",
       "      <td>79.0</td>\n",
       "      <td>2625.0</td>\n",
       "      <td>18.6</td>\n",
       "      <td>82</td>\n",
       "      <td>0</td>\n",
       "      <td>0</td>\n",
       "      <td>1</td>\n",
       "    </tr>\n",
       "    <tr>\n",
       "      <th>391</th>\n",
       "      <td>31.0</td>\n",
       "      <td>4</td>\n",
       "      <td>119.0</td>\n",
       "      <td>82.0</td>\n",
       "      <td>2720.0</td>\n",
       "      <td>19.4</td>\n",
       "      <td>82</td>\n",
       "      <td>0</td>\n",
       "      <td>0</td>\n",
       "      <td>1</td>\n",
       "    </tr>\n",
       "  </tbody>\n",
       "</table>\n",
       "<p>392 rows × 10 columns</p>\n",
       "</div>"
      ]
     },
     "execution_count": 20,
     "metadata": {},
     "output_type": "execute_result"
    }
   ],
   "execution_count": 20
  },
  {
   "metadata": {
    "ExecuteTime": {
     "end_time": "2024-11-19T13:44:04.522525Z",
     "start_time": "2024-11-19T13:44:04.517019Z"
    }
   },
   "cell_type": "code",
   "source": [
    "X = data.drop(columns='MPG').values\n",
    "y= data['MPG'].values"
   ],
   "id": "2837951542ed567f",
   "outputs": [],
   "execution_count": 21
  },
  {
   "metadata": {
    "ExecuteTime": {
     "end_time": "2024-11-19T13:44:04.538411Z",
     "start_time": "2024-11-19T13:44:04.531020Z"
    }
   },
   "cell_type": "code",
   "source": [
    "val_size = 0.2\n",
    "test_size = 0.125\n",
    "is_shuffle = True\n",
    "X_train, X_val, y_train, y_val = train_test_split(X, y, test_size=val_size, random_state=random_state,shuffle=is_shuffle)\n",
    "X_train, X_test , y_train, y_test= train_test_split(X_train, y_train, test_size=test_size, random_state=random_state,shuffle=is_shuffle)"
   ],
   "id": "9e1b4526628be760",
   "outputs": [],
   "execution_count": 22
  },
  {
   "metadata": {
    "ExecuteTime": {
     "end_time": "2024-11-19T13:44:04.547970Z",
     "start_time": "2024-11-19T13:44:04.543448Z"
    }
   },
   "cell_type": "code",
   "source": [
    "normalizer = StandardScaler()\n",
    "X_train = normalizer.fit_transform(X_train)\n",
    "X_test = normalizer.transform(X_test)\n",
    "X_val = normalizer.transform(X_val)"
   ],
   "id": "caf327eba5c2de25",
   "outputs": [],
   "execution_count": 23
  },
  {
   "metadata": {
    "ExecuteTime": {
     "end_time": "2024-11-19T13:44:04.555081Z",
     "start_time": "2024-11-19T13:44:04.550357Z"
    }
   },
   "cell_type": "code",
   "source": [
    "X_train = torch.tensor(X_train, dtype = torch.float32)\n",
    "X_test = torch.tensor(X_test, dtype = torch.float32)\n",
    "X_val = torch.tensor(X_val, dtype = torch.float32)\n",
    "y_train = torch.tensor(y_train, dtype = torch.float32)\n",
    "y_val = torch.tensor(y_val, dtype = torch.float32)\n",
    "y_test = torch.tensor(y_test, dtype = torch.float32)"
   ],
   "id": "aebe1aa565999817",
   "outputs": [],
   "execution_count": 24
  },
  {
   "metadata": {
    "ExecuteTime": {
     "end_time": "2024-11-19T13:44:04.583578Z",
     "start_time": "2024-11-19T13:44:04.578779Z"
    }
   },
   "cell_type": "code",
   "source": [
    "class CustomDataset(Dataset):\n",
    "    def __init__(self, X, y):\n",
    "        self.X = X\n",
    "        self.y = y\n",
    "    def __len__(self):\n",
    "        return len(self.y)\n",
    "    def __getitem__(self, idx):\n",
    "        return self.X[idx], self.y[idx]"
   ],
   "id": "56b28088a13990ca",
   "outputs": [],
   "execution_count": 25
  },
  {
   "metadata": {
    "ExecuteTime": {
     "end_time": "2024-11-19T13:44:04.614679Z",
     "start_time": "2024-11-19T13:44:04.610689Z"
    }
   },
   "cell_type": "code",
   "source": [
    "batch_size = 32\n",
    "train_dataset = CustomDataset(X_train, y_train)\n",
    "val_dataset = CustomDataset(X_val, y_val)\n",
    "train_loader = DataLoader(dataset=train_dataset, batch_size=batch_size, shuffle=is_shuffle)\n",
    "val_loader = DataLoader(dataset=val_dataset, batch_size=batch_size, shuffle=is_shuffle)"
   ],
   "id": "81079fb6a684fdae",
   "outputs": [],
   "execution_count": 26
  },
  {
   "metadata": {
    "ExecuteTime": {
     "end_time": "2024-11-19T13:44:04.699468Z",
     "start_time": "2024-11-19T13:44:04.694973Z"
    }
   },
   "cell_type": "code",
   "source": [
    "class MLP(nn.Module):\n",
    "    def __init__(self, input_dims, hidden_dims, output_dims):\n",
    "        super(MLP, self).__init__()\n",
    "        self.linear1 = nn.Linear(input_dims, hidden_dims)\n",
    "        self.linear2 = nn.Linear(hidden_dims, hidden_dims)\n",
    "        self.output = nn.Linear(hidden_dims, output_dims)\n",
    "    \n",
    "    def forward(self, x):\n",
    "        x = self.linear1(x)\n",
    "        x = F.relu(x)\n",
    "        x = self.linear2(x)\n",
    "        x = F.relu(x)\n",
    "        out = self.output(x)\n",
    "        return out.squeeze(1)"
   ],
   "id": "1f67821e5f3ee516",
   "outputs": [],
   "execution_count": 27
  },
  {
   "metadata": {
    "ExecuteTime": {
     "end_time": "2024-11-19T13:44:04.706357Z",
     "start_time": "2024-11-19T13:44:04.700482Z"
    }
   },
   "cell_type": "code",
   "source": [
    "input_dims = X_train.shape[1]\n",
    "output_dims = 1\n",
    "hidden_dims = 64\n",
    "\n",
    "model = MLP(input_dims, hidden_dims, output_dims).to(device)"
   ],
   "id": "abf606872000286d",
   "outputs": [],
   "execution_count": 28
  },
  {
   "metadata": {
    "ExecuteTime": {
     "end_time": "2024-11-19T13:44:04.720320Z",
     "start_time": "2024-11-19T13:44:04.716841Z"
    }
   },
   "cell_type": "code",
   "source": [
    "lr = 1e-2\n",
    "criterion = nn.MSELoss()\n",
    "optimizer = torch.optim.SGD(model.parameters(), lr=lr)"
   ],
   "id": "d833cc3071d99e06",
   "outputs": [],
   "execution_count": 29
  },
  {
   "metadata": {
    "ExecuteTime": {
     "end_time": "2024-11-19T13:44:04.745303Z",
     "start_time": "2024-11-19T13:44:04.741344Z"
    }
   },
   "cell_type": "code",
   "source": [
    "def r_squared(y_true, y_pred):\n",
    "    y_true = torch.Tensor(y_true).to(device)\n",
    "    y_pred = torch.Tensor(y_pred).to(device)\n",
    "    mean_true = torch.mean(y_true)\n",
    "    ss_tot = torch.sum((y_true - mean_true) ** 2)\n",
    "    ss_res = torch.sum((y_true-y_pred) ** 2)\n",
    "    r2 = 1 - ss_res / ss_tot\n",
    "    return r2"
   ],
   "id": "b58891680c466f0a",
   "outputs": [],
   "execution_count": 30
  },
  {
   "metadata": {
    "ExecuteTime": {
     "end_time": "2024-11-19T13:44:04.757942Z",
     "start_time": "2024-11-19T13:44:04.754295Z"
    }
   },
   "cell_type": "code",
   "source": [
    "epochs = 100\n",
    "train_losses = []\n",
    "val_losses = []\n",
    "train_r2 = []\n",
    "val_r2 = []"
   ],
   "id": "9a104c2079635978",
   "outputs": [],
   "execution_count": 31
  },
  {
   "metadata": {
    "ExecuteTime": {
     "end_time": "2024-11-19T13:44:05.802405Z",
     "start_time": "2024-11-19T13:44:04.758951Z"
    }
   },
   "cell_type": "code",
   "source": [
    "for epoch in range(epochs):\n",
    "    train_loss = 0.0\n",
    "    train_target = []\n",
    "    val_target = []\n",
    "    train_predict = []\n",
    "    val_predict = []\n",
    "    model.train()\n",
    "    for X_samples, y_samples in train_loader:\n",
    "        X_samples = X_samples.to(device)\n",
    "        y_samples = y_samples.to(device)\n",
    "        optimizer.zero_grad()\n",
    "        outputs = model(X_samples)\n",
    "        train_predict += outputs.tolist()\n",
    "        train_target += y_samples.tolist()\n",
    "        loss = criterion(outputs, y_samples)\n",
    "        loss.backward()\n",
    "        optimizer.step()\n",
    "        train_loss += loss.item()\n",
    "    train_loss /= len(train_loader)\n",
    "    train_losses.append(train_loss)\n",
    "    train_r2.append(r_squared(train_target, train_predict))\n",
    "    model.eval()\n",
    "    val_loss = 0.0\n",
    "    with torch.no_grad():\n",
    "        for X_samples, y_samples in val_loader:\n",
    "            X_samples = X_samples.to(device)\n",
    "            y_samples = y_samples.to(device)\n",
    "            outputs = model(X_samples)\n",
    "            val_predict += outputs.tolist()\n",
    "            val_target += y_samples.tolist()\n",
    "            loss = criterion(outputs, y_samples)\n",
    "            val_loss += loss.item()\n",
    "    val_loss /= len(val_loader)\n",
    "    val_losses.append(val_loss)\n",
    "    val_r2.append(r_squared(val_target, val_predict))\n",
    "    print (f'\\nEPOCH { epoch + 1}:\\t Training loss : { train_loss :.3f} \\t Validation loss : { val_loss :.3f}')"
   ],
   "id": "433192a6c720a27f",
   "outputs": [
    {
     "name": "stdout",
     "output_type": "stream",
     "text": [
      "\n",
      "EPOCH 1:\t Training loss : 282.770 \t Validation loss : 95.335\n",
      "\n",
      "EPOCH 2:\t Training loss : 221.920 \t Validation loss : 14.703\n",
      "\n",
      "EPOCH 3:\t Training loss : 64.710 \t Validation loss : 61.328\n",
      "\n",
      "EPOCH 4:\t Training loss : 56.290 \t Validation loss : 11.455\n",
      "\n",
      "EPOCH 5:\t Training loss : 15.970 \t Validation loss : 28.503\n",
      "\n",
      "EPOCH 6:\t Training loss : 13.479 \t Validation loss : 5.630\n",
      "\n",
      "EPOCH 7:\t Training loss : 16.998 \t Validation loss : 31.458\n",
      "\n",
      "EPOCH 8:\t Training loss : 19.223 \t Validation loss : 24.421\n",
      "\n",
      "EPOCH 9:\t Training loss : 15.807 \t Validation loss : 10.720\n",
      "\n",
      "EPOCH 10:\t Training loss : 19.937 \t Validation loss : 13.430\n",
      "\n",
      "EPOCH 11:\t Training loss : 17.391 \t Validation loss : 7.899\n",
      "\n",
      "EPOCH 12:\t Training loss : 11.335 \t Validation loss : 41.298\n",
      "\n",
      "EPOCH 13:\t Training loss : 18.817 \t Validation loss : 13.712\n",
      "\n",
      "EPOCH 14:\t Training loss : 7.896 \t Validation loss : 16.500\n",
      "\n",
      "EPOCH 15:\t Training loss : 9.396 \t Validation loss : 6.414\n",
      "\n",
      "EPOCH 16:\t Training loss : 7.591 \t Validation loss : 5.140\n",
      "\n",
      "EPOCH 17:\t Training loss : 6.492 \t Validation loss : 5.094\n",
      "\n",
      "EPOCH 18:\t Training loss : 7.193 \t Validation loss : 5.847\n",
      "\n",
      "EPOCH 19:\t Training loss : 8.112 \t Validation loss : 9.274\n",
      "\n",
      "EPOCH 20:\t Training loss : 11.798 \t Validation loss : 6.159\n",
      "\n",
      "EPOCH 21:\t Training loss : 11.080 \t Validation loss : 12.962\n",
      "\n",
      "EPOCH 22:\t Training loss : 7.713 \t Validation loss : 13.574\n",
      "\n",
      "EPOCH 23:\t Training loss : 17.106 \t Validation loss : 14.483\n",
      "\n",
      "EPOCH 24:\t Training loss : 9.208 \t Validation loss : 13.965\n",
      "\n",
      "EPOCH 25:\t Training loss : 11.011 \t Validation loss : 5.093\n",
      "\n",
      "EPOCH 26:\t Training loss : 13.485 \t Validation loss : 10.307\n",
      "\n",
      "EPOCH 27:\t Training loss : 10.658 \t Validation loss : 10.126\n",
      "\n",
      "EPOCH 28:\t Training loss : 7.130 \t Validation loss : 6.663\n",
      "\n",
      "EPOCH 29:\t Training loss : 6.644 \t Validation loss : 19.438\n",
      "\n",
      "EPOCH 30:\t Training loss : 9.489 \t Validation loss : 6.223\n",
      "\n",
      "EPOCH 31:\t Training loss : 6.655 \t Validation loss : 24.870\n",
      "\n",
      "EPOCH 32:\t Training loss : 7.765 \t Validation loss : 4.900\n",
      "\n",
      "EPOCH 33:\t Training loss : 6.878 \t Validation loss : 6.700\n",
      "\n",
      "EPOCH 34:\t Training loss : 7.225 \t Validation loss : 6.560\n",
      "\n",
      "EPOCH 35:\t Training loss : 7.860 \t Validation loss : 7.764\n",
      "\n",
      "EPOCH 36:\t Training loss : 6.789 \t Validation loss : 12.470\n",
      "\n",
      "EPOCH 37:\t Training loss : 8.280 \t Validation loss : 11.304\n",
      "\n",
      "EPOCH 38:\t Training loss : 9.839 \t Validation loss : 6.593\n",
      "\n",
      "EPOCH 39:\t Training loss : 8.732 \t Validation loss : 7.748\n",
      "\n",
      "EPOCH 40:\t Training loss : 9.058 \t Validation loss : 5.202\n",
      "\n",
      "EPOCH 41:\t Training loss : 6.504 \t Validation loss : 6.362\n",
      "\n",
      "EPOCH 42:\t Training loss : 7.726 \t Validation loss : 13.043\n",
      "\n",
      "EPOCH 43:\t Training loss : 9.120 \t Validation loss : 8.872\n",
      "\n",
      "EPOCH 44:\t Training loss : 6.502 \t Validation loss : 5.517\n",
      "\n",
      "EPOCH 45:\t Training loss : 9.728 \t Validation loss : 5.692\n",
      "\n",
      "EPOCH 46:\t Training loss : 6.617 \t Validation loss : 17.413\n",
      "\n",
      "EPOCH 47:\t Training loss : 7.582 \t Validation loss : 5.831\n",
      "\n",
      "EPOCH 48:\t Training loss : 5.601 \t Validation loss : 5.315\n",
      "\n",
      "EPOCH 49:\t Training loss : 8.109 \t Validation loss : 6.634\n",
      "\n",
      "EPOCH 50:\t Training loss : 6.261 \t Validation loss : 6.779\n",
      "\n",
      "EPOCH 51:\t Training loss : 8.656 \t Validation loss : 6.426\n",
      "\n",
      "EPOCH 52:\t Training loss : 10.188 \t Validation loss : 8.089\n",
      "\n",
      "EPOCH 53:\t Training loss : 12.461 \t Validation loss : 7.220\n",
      "\n",
      "EPOCH 54:\t Training loss : 5.663 \t Validation loss : 6.301\n",
      "\n",
      "EPOCH 55:\t Training loss : 6.086 \t Validation loss : 9.303\n",
      "\n",
      "EPOCH 56:\t Training loss : 6.735 \t Validation loss : 8.292\n",
      "\n",
      "EPOCH 57:\t Training loss : 6.105 \t Validation loss : 5.458\n",
      "\n",
      "EPOCH 58:\t Training loss : 7.880 \t Validation loss : 8.606\n",
      "\n",
      "EPOCH 59:\t Training loss : 5.880 \t Validation loss : 7.011\n",
      "\n",
      "EPOCH 60:\t Training loss : 5.675 \t Validation loss : 6.353\n",
      "\n",
      "EPOCH 61:\t Training loss : 13.056 \t Validation loss : 7.980\n",
      "\n",
      "EPOCH 62:\t Training loss : 6.623 \t Validation loss : 7.456\n",
      "\n",
      "EPOCH 63:\t Training loss : 9.367 \t Validation loss : 8.458\n",
      "\n",
      "EPOCH 64:\t Training loss : 6.364 \t Validation loss : 8.273\n",
      "\n",
      "EPOCH 65:\t Training loss : 5.734 \t Validation loss : 11.634\n",
      "\n",
      "EPOCH 66:\t Training loss : 6.779 \t Validation loss : 6.024\n",
      "\n",
      "EPOCH 67:\t Training loss : 4.919 \t Validation loss : 6.402\n",
      "\n",
      "EPOCH 68:\t Training loss : 5.785 \t Validation loss : 11.969\n",
      "\n",
      "EPOCH 69:\t Training loss : 9.301 \t Validation loss : 7.788\n",
      "\n",
      "EPOCH 70:\t Training loss : 6.731 \t Validation loss : 6.137\n",
      "\n",
      "EPOCH 71:\t Training loss : 6.564 \t Validation loss : 12.405\n",
      "\n",
      "EPOCH 72:\t Training loss : 7.495 \t Validation loss : 12.021\n",
      "\n",
      "EPOCH 73:\t Training loss : 6.903 \t Validation loss : 10.151\n",
      "\n",
      "EPOCH 74:\t Training loss : 6.684 \t Validation loss : 6.667\n",
      "\n",
      "EPOCH 75:\t Training loss : 5.980 \t Validation loss : 6.358\n",
      "\n",
      "EPOCH 76:\t Training loss : 5.930 \t Validation loss : 31.733\n",
      "\n",
      "EPOCH 77:\t Training loss : 12.875 \t Validation loss : 5.738\n",
      "\n",
      "EPOCH 78:\t Training loss : 6.293 \t Validation loss : 6.701\n",
      "\n",
      "EPOCH 79:\t Training loss : 8.071 \t Validation loss : 5.411\n",
      "\n",
      "EPOCH 80:\t Training loss : 4.889 \t Validation loss : 6.660\n",
      "\n",
      "EPOCH 81:\t Training loss : 4.505 \t Validation loss : 5.106\n",
      "\n",
      "EPOCH 82:\t Training loss : 5.982 \t Validation loss : 6.778\n",
      "\n",
      "EPOCH 83:\t Training loss : 5.857 \t Validation loss : 10.834\n",
      "\n",
      "EPOCH 84:\t Training loss : 8.990 \t Validation loss : 8.125\n",
      "\n",
      "EPOCH 85:\t Training loss : 5.785 \t Validation loss : 6.920\n",
      "\n",
      "EPOCH 86:\t Training loss : 5.829 \t Validation loss : 18.087\n",
      "\n",
      "EPOCH 87:\t Training loss : 17.564 \t Validation loss : 10.283\n",
      "\n",
      "EPOCH 88:\t Training loss : 8.917 \t Validation loss : 11.467\n",
      "\n",
      "EPOCH 89:\t Training loss : 6.063 \t Validation loss : 4.185\n",
      "\n",
      "EPOCH 90:\t Training loss : 6.599 \t Validation loss : 6.522\n",
      "\n",
      "EPOCH 91:\t Training loss : 5.131 \t Validation loss : 4.831\n",
      "\n",
      "EPOCH 92:\t Training loss : 5.985 \t Validation loss : 9.455\n",
      "\n",
      "EPOCH 93:\t Training loss : 7.231 \t Validation loss : 6.708\n",
      "\n",
      "EPOCH 94:\t Training loss : 6.748 \t Validation loss : 9.318\n",
      "\n",
      "EPOCH 95:\t Training loss : 5.954 \t Validation loss : 11.487\n",
      "\n",
      "EPOCH 96:\t Training loss : 6.588 \t Validation loss : 7.989\n",
      "\n",
      "EPOCH 97:\t Training loss : 6.563 \t Validation loss : 6.200\n",
      "\n",
      "EPOCH 98:\t Training loss : 5.238 \t Validation loss : 6.178\n",
      "\n",
      "EPOCH 99:\t Training loss : 4.776 \t Validation loss : 7.414\n",
      "\n",
      "EPOCH 100:\t Training loss : 5.767 \t Validation loss : 9.424\n"
     ]
    }
   ],
   "execution_count": 32
  },
  {
   "metadata": {
    "ExecuteTime": {
     "end_time": "2024-11-19T13:45:23.630272Z",
     "start_time": "2024-11-19T13:45:23.623278Z"
    }
   },
   "cell_type": "code",
   "source": [
    "model.eval()\n",
    "with torch.no_grad():\n",
    "    y_hat = model(X_test)\n",
    "    test_set_r2 = r_squared(y_test, y_hat)\n",
    "    print('Evaluation set R2: {:.3f}'.format(test_set_r2))"
   ],
   "id": "40afa3ab222de453",
   "outputs": [
    {
     "name": "stdout",
     "output_type": "stream",
     "text": [
      "Evaluation set R2: 0.796\n"
     ]
    }
   ],
   "execution_count": 33
  },
  {
   "metadata": {},
   "cell_type": "markdown",
   "source": "## NonLinear_data",
   "id": "61d057376db61370"
  },
  {
   "metadata": {
    "ExecuteTime": {
     "end_time": "2024-11-19T13:48:18.850255Z",
     "start_time": "2024-11-19T13:48:18.846204Z"
    }
   },
   "cell_type": "code",
   "source": "device = torch.device('cuda:0' if torch.cuda.is_available() else 'cpu')",
   "id": "9385aaa89a71b2df",
   "outputs": [],
   "execution_count": 34
  },
  {
   "metadata": {
    "ExecuteTime": {
     "end_time": "2024-11-19T13:48:43.997485Z",
     "start_time": "2024-11-19T13:48:43.992362Z"
    }
   },
   "cell_type": "code",
   "source": [
    "random_state = 59\n",
    "np.random.seed(random_state)\n",
    "torch.manual_seed(random_state)\n",
    "if torch.cuda.is_available():\n",
    "    torch.cuda.manual_seed(random_state)"
   ],
   "id": "fc365b0da244e167",
   "outputs": [],
   "execution_count": 35
  },
  {
   "metadata": {
    "ExecuteTime": {
     "end_time": "2024-11-19T13:49:44.439151Z",
     "start_time": "2024-11-19T13:49:44.434569Z"
    }
   },
   "cell_type": "code",
   "source": [
    "data_path = 'NonLinear_data.npy'\n",
    "data = np.load(data_path, allow_pickle=True).item()\n",
    "X, y = data['X'], data['labels']"
   ],
   "id": "e2a5f2f6fea29ba8",
   "outputs": [],
   "execution_count": 37
  },
  {
   "metadata": {
    "ExecuteTime": {
     "end_time": "2024-11-19T13:50:07.403270Z",
     "start_time": "2024-11-19T13:50:07.399907Z"
    }
   },
   "cell_type": "code",
   "source": "print(X.shape, y.shape)",
   "id": "97ba489b8fd7a522",
   "outputs": [
    {
     "name": "stdout",
     "output_type": "stream",
     "text": [
      "(300, 2) (300,)\n"
     ]
    }
   ],
   "execution_count": 40
  },
  {
   "metadata": {
    "ExecuteTime": {
     "end_time": "2024-11-19T13:51:26.745399Z",
     "start_time": "2024-11-19T13:51:26.739689Z"
    }
   },
   "cell_type": "code",
   "source": [
    "val_size = 0.2\n",
    "test_size = 0.125\n",
    "is_shuffle = True\n",
    "\n",
    "X_train,X_val, y_train, y_val = train_test_split(X, y, test_size=val_size, random_state=random_state, shuffle=is_shuffle)\n",
    "\n",
    "X_train, X_test, y_train, y_test = train_test_split(X_train, y_train, test_size=test_size, random_state=random_state, shuffle=is_shuffle)"
   ],
   "id": "cee648980481490a",
   "outputs": [],
   "execution_count": 41
  },
  {
   "metadata": {
    "ExecuteTime": {
     "end_time": "2024-11-19T13:52:49.968780Z",
     "start_time": "2024-11-19T13:52:49.962767Z"
    }
   },
   "cell_type": "code",
   "source": [
    "normalizer = StandardScaler()\n",
    "X_train = normalizer.fit_transform(X_train)\n",
    "X_test = normalizer.transform(X_test)\n",
    "X_val = normalizer.transform(X_val)\n",
    "\n",
    "X_train = torch.tensor(X_train, dtype = torch.float32)\n",
    "X_test = torch.tensor(X_test, dtype = torch.float32)\n",
    "X_val = torch.tensor(X_val, dtype = torch.float32)\n",
    "y_train = torch.tensor(y_train,dtype = torch.long)\n",
    "y_val = torch.tensor(y_val,dtype = torch.long)\n",
    "y_test = torch.tensor(y_test,dtype = torch.long)"
   ],
   "id": "b258be4f838cd7f2",
   "outputs": [],
   "execution_count": 42
  },
  {
   "metadata": {
    "ExecuteTime": {
     "end_time": "2024-11-19T13:55:09.396648Z",
     "start_time": "2024-11-19T13:55:09.390495Z"
    }
   },
   "cell_type": "code",
   "source": [
    "class CustomDataset(Dataset):\n",
    "    def __init__(self, X,y):\n",
    "        self.X = X\n",
    "        self.y = y\n",
    "    def __len__(self):\n",
    "        return self.y.shape[0]\n",
    "    def __getitem__(self, idx):\n",
    "        return self.X[idx], self.y[idx]"
   ],
   "id": "fd6e4afa6ce8ea6c",
   "outputs": [],
   "execution_count": 45
  },
  {
   "metadata": {
    "ExecuteTime": {
     "end_time": "2024-11-19T13:55:09.990388Z",
     "start_time": "2024-11-19T13:55:09.985287Z"
    }
   },
   "cell_type": "code",
   "source": [
    "batch_size = 32\n",
    "train_dataset = CustomDataset(X_train, y_train)\n",
    "val_dataset = CustomDataset(X_val, y_val)\n",
    "test_dataset = CustomDataset(X_test, y_test)\n",
    "\n",
    "train_loader = DataLoader(train_dataset, batch_size=batch_size, shuffle=is_shuffle)\n",
    "val_loader = DataLoader(val_dataset, batch_size=batch_size, shuffle=is_shuffle)\n",
    "test_loader = DataLoader(test_dataset, batch_size=batch_size, shuffle=is_shuffle)"
   ],
   "id": "cce5b2b0ee03b2fc",
   "outputs": [],
   "execution_count": 46
  },
  {
   "metadata": {
    "ExecuteTime": {
     "end_time": "2024-11-19T13:58:17.991121Z",
     "start_time": "2024-11-19T13:58:17.987306Z"
    }
   },
   "cell_type": "code",
   "source": [
    "class MLP(nn.Module):\n",
    "    def __init__(self, input_dims, hidden_dims, output_dims):\n",
    "        super(MLP, self).__init__()\n",
    "        self.linear1 = nn.Linear(input_dims, hidden_dims)\n",
    "        self.relu = nn.ReLU()\n",
    "        self.output = nn.Linear(hidden_dims, output_dims)\n",
    "    def forward(self, x):\n",
    "        x = self.linear1(x)\n",
    "        x = self.relu(x)\n",
    "        out = self.output(x)\n",
    "        return out.squeeze(1)"
   ],
   "id": "eafe83d54f70661c",
   "outputs": [],
   "execution_count": 51
  },
  {
   "metadata": {
    "ExecuteTime": {
     "end_time": "2024-11-19T14:10:53.747051Z",
     "start_time": "2024-11-19T14:10:53.741072Z"
    }
   },
   "cell_type": "code",
   "source": [
    "input_dims = X_train.shape[1]\n",
    "output_dims = torch.unique(y_train).shape[0]\n",
    "hidden_dims = 128\n",
    "\n",
    "model = MLP(input_dims, hidden_dims, output_dims).to(device)"
   ],
   "id": "41c1c8db47c0f1dc",
   "outputs": [],
   "execution_count": 61
  },
  {
   "metadata": {
    "ExecuteTime": {
     "end_time": "2024-11-19T14:10:54.277158Z",
     "start_time": "2024-11-19T14:10:54.274446Z"
    }
   },
   "cell_type": "code",
   "source": [
    "lr = 1e-1\n",
    "criterion = nn.CrossEntropyLoss()\n",
    "optimizer = torch.optim.SGD(model.parameters(), lr=lr)"
   ],
   "id": "ee662deb59bc29d4",
   "outputs": [],
   "execution_count": 62
  },
  {
   "metadata": {
    "ExecuteTime": {
     "end_time": "2024-11-19T14:10:54.712420Z",
     "start_time": "2024-11-19T14:10:54.709409Z"
    }
   },
   "cell_type": "code",
   "source": [
    "def compute_accuracy(y_true, y_pred):\n",
    "    _, y_pred = torch.max(y_pred, dim=1)\n",
    "    correct = (y_pred==y_true).sum().item()\n",
    "    accuracy = correct / len(y_true)\n",
    "    return accuracy"
   ],
   "id": "618fd247bcb885f3",
   "outputs": [],
   "execution_count": 63
  },
  {
   "metadata": {
    "ExecuteTime": {
     "end_time": "2024-11-19T14:10:56.254873Z",
     "start_time": "2024-11-19T14:10:55.729340Z"
    }
   },
   "cell_type": "code",
   "source": [
    "epochs = 100\n",
    "train_losses = []\n",
    "val_losses = []\n",
    "train_accs = []\n",
    "val_accs = []\n",
    "\n",
    "for epoch in range(epochs):\n",
    "    train_loss = 0.0\n",
    "    train_target = []\n",
    "    train_predict = []\n",
    "    model.train()\n",
    "    for X_samples, y_samples in train_loader:\n",
    "        X_samples = X_samples.to(device)\n",
    "        y_samples = y_samples.to(device)\n",
    "        optimizer.zero_grad()\n",
    "        outputs = model(X_samples)\n",
    "        loss = criterion(outputs, y_samples)\n",
    "        loss.backward()\n",
    "        optimizer.step()\n",
    "        train_loss += loss.item()\n",
    "        \n",
    "        train_predict.append(outputs.detach().cpu())\n",
    "        train_target.append(y_samples.cpu())\n",
    "    \n",
    "    train_loss /= len(train_loader)\n",
    "    train_losses.append(train_loss)\n",
    "    \n",
    "    train_predict = torch.cat(train_predict)\n",
    "    train_target = torch.cat(train_target)\n",
    "    train_acc = compute_accuracy(train_target, train_predict)\n",
    "    train_accs.append(train_acc)\n",
    "    \n",
    "    val_loss = 0.0\n",
    "    val_target = []\n",
    "    val_predict = []\n",
    "    model.eval()\n",
    "    with torch.no_grad():\n",
    "        for X_samples, y_samples in val_loader:\n",
    "            X_samples = X_samples.to(device)\n",
    "            y_samples = y_samples.to(device)\n",
    "            outputs = model(X_samples)\n",
    "            val_loss += criterion(outputs, y_samples).item()\n",
    "            val_predict.append(outputs.cpu())\n",
    "            val_target.append(y_samples.cpu())\n",
    "    \n",
    "    val_loss /= len(val_loader)\n",
    "    val_losses.append(val_loss)\n",
    "    \n",
    "    val_predict = torch.cat(val_predict)\n",
    "    val_target = torch.cat(val_target)\n",
    "    val_acc = compute_accuracy(val_target, val_predict)\n",
    "    val_accs.append(val_acc)\n",
    "    print (f'\\nEPOCH { epoch + 1}:\\t Training loss : { train_loss :.3f} \\t Validation loss : { val_loss :.3f}')"
   ],
   "id": "72521c0918fe274b",
   "outputs": [
    {
     "name": "stdout",
     "output_type": "stream",
     "text": [
      "\n",
      "EPOCH 1:\t Training loss : 0.881 \t Validation loss : 0.843\n",
      "\n",
      "EPOCH 2:\t Training loss : 0.733 \t Validation loss : 0.818\n",
      "\n",
      "EPOCH 3:\t Training loss : 0.707 \t Validation loss : 0.789\n",
      "\n",
      "EPOCH 4:\t Training loss : 0.669 \t Validation loss : 0.767\n",
      "\n",
      "EPOCH 5:\t Training loss : 0.677 \t Validation loss : 0.797\n",
      "\n",
      "EPOCH 6:\t Training loss : 0.666 \t Validation loss : 0.723\n",
      "\n",
      "EPOCH 7:\t Training loss : 0.652 \t Validation loss : 0.718\n",
      "\n",
      "EPOCH 8:\t Training loss : 0.608 \t Validation loss : 0.707\n",
      "\n",
      "EPOCH 9:\t Training loss : 0.616 \t Validation loss : 0.687\n",
      "\n",
      "EPOCH 10:\t Training loss : 0.596 \t Validation loss : 0.668\n",
      "\n",
      "EPOCH 11:\t Training loss : 0.577 \t Validation loss : 0.677\n",
      "\n",
      "EPOCH 12:\t Training loss : 0.578 \t Validation loss : 0.646\n",
      "\n",
      "EPOCH 13:\t Training loss : 0.550 \t Validation loss : 0.651\n",
      "\n",
      "EPOCH 14:\t Training loss : 0.558 \t Validation loss : 0.610\n",
      "\n",
      "EPOCH 15:\t Training loss : 0.530 \t Validation loss : 0.594\n",
      "\n",
      "EPOCH 16:\t Training loss : 0.525 \t Validation loss : 0.593\n",
      "\n",
      "EPOCH 17:\t Training loss : 0.519 \t Validation loss : 0.570\n",
      "\n",
      "EPOCH 18:\t Training loss : 0.503 \t Validation loss : 0.558\n",
      "\n",
      "EPOCH 19:\t Training loss : 0.489 \t Validation loss : 0.546\n",
      "\n",
      "EPOCH 20:\t Training loss : 0.481 \t Validation loss : 0.529\n",
      "\n",
      "EPOCH 21:\t Training loss : 0.480 \t Validation loss : 0.522\n",
      "\n",
      "EPOCH 22:\t Training loss : 0.466 \t Validation loss : 0.526\n",
      "\n",
      "EPOCH 23:\t Training loss : 0.467 \t Validation loss : 0.497\n",
      "\n",
      "EPOCH 24:\t Training loss : 0.446 \t Validation loss : 0.494\n",
      "\n",
      "EPOCH 25:\t Training loss : 0.442 \t Validation loss : 0.471\n",
      "\n",
      "EPOCH 26:\t Training loss : 0.430 \t Validation loss : 0.468\n",
      "\n",
      "EPOCH 27:\t Training loss : 0.419 \t Validation loss : 0.463\n",
      "\n",
      "EPOCH 28:\t Training loss : 0.419 \t Validation loss : 0.447\n",
      "\n",
      "EPOCH 29:\t Training loss : 0.405 \t Validation loss : 0.445\n",
      "\n",
      "EPOCH 30:\t Training loss : 0.392 \t Validation loss : 0.440\n",
      "\n",
      "EPOCH 31:\t Training loss : 0.407 \t Validation loss : 0.436\n",
      "\n",
      "EPOCH 32:\t Training loss : 0.389 \t Validation loss : 0.418\n",
      "\n",
      "EPOCH 33:\t Training loss : 0.380 \t Validation loss : 0.407\n",
      "\n",
      "EPOCH 34:\t Training loss : 0.376 \t Validation loss : 0.397\n",
      "\n",
      "EPOCH 35:\t Training loss : 0.367 \t Validation loss : 0.385\n",
      "\n",
      "EPOCH 36:\t Training loss : 0.355 \t Validation loss : 0.383\n",
      "\n",
      "EPOCH 37:\t Training loss : 0.349 \t Validation loss : 0.378\n",
      "\n",
      "EPOCH 38:\t Training loss : 0.345 \t Validation loss : 0.373\n",
      "\n",
      "EPOCH 39:\t Training loss : 0.343 \t Validation loss : 0.365\n",
      "\n",
      "EPOCH 40:\t Training loss : 0.331 \t Validation loss : 0.360\n",
      "\n",
      "EPOCH 41:\t Training loss : 0.323 \t Validation loss : 0.351\n",
      "\n",
      "EPOCH 42:\t Training loss : 0.325 \t Validation loss : 0.342\n",
      "\n",
      "EPOCH 43:\t Training loss : 0.317 \t Validation loss : 0.340\n",
      "\n",
      "EPOCH 44:\t Training loss : 0.309 \t Validation loss : 0.336\n",
      "\n",
      "EPOCH 45:\t Training loss : 0.311 \t Validation loss : 0.330\n",
      "\n",
      "EPOCH 46:\t Training loss : 0.307 \t Validation loss : 0.323\n",
      "\n",
      "EPOCH 47:\t Training loss : 0.298 \t Validation loss : 0.325\n",
      "\n",
      "EPOCH 48:\t Training loss : 0.294 \t Validation loss : 0.316\n",
      "\n",
      "EPOCH 49:\t Training loss : 0.295 \t Validation loss : 0.317\n",
      "\n",
      "EPOCH 50:\t Training loss : 0.278 \t Validation loss : 0.310\n",
      "\n",
      "EPOCH 51:\t Training loss : 0.279 \t Validation loss : 0.315\n",
      "\n",
      "EPOCH 52:\t Training loss : 0.274 \t Validation loss : 0.301\n",
      "\n",
      "EPOCH 53:\t Training loss : 0.273 \t Validation loss : 0.302\n",
      "\n",
      "EPOCH 54:\t Training loss : 0.269 \t Validation loss : 0.295\n",
      "\n",
      "EPOCH 55:\t Training loss : 0.270 \t Validation loss : 0.289\n",
      "\n",
      "EPOCH 56:\t Training loss : 0.267 \t Validation loss : 0.285\n",
      "\n",
      "EPOCH 57:\t Training loss : 0.268 \t Validation loss : 0.281\n",
      "\n",
      "EPOCH 58:\t Training loss : 0.261 \t Validation loss : 0.279\n",
      "\n",
      "EPOCH 59:\t Training loss : 0.251 \t Validation loss : 0.273\n",
      "\n",
      "EPOCH 60:\t Training loss : 0.253 \t Validation loss : 0.274\n",
      "\n",
      "EPOCH 61:\t Training loss : 0.248 \t Validation loss : 0.278\n",
      "\n",
      "EPOCH 62:\t Training loss : 0.239 \t Validation loss : 0.276\n",
      "\n",
      "EPOCH 63:\t Training loss : 0.230 \t Validation loss : 0.265\n",
      "\n",
      "EPOCH 64:\t Training loss : 0.236 \t Validation loss : 0.262\n",
      "\n",
      "EPOCH 65:\t Training loss : 0.245 \t Validation loss : 0.257\n",
      "\n",
      "EPOCH 66:\t Training loss : 0.232 \t Validation loss : 0.258\n",
      "\n",
      "EPOCH 67:\t Training loss : 0.226 \t Validation loss : 0.257\n",
      "\n",
      "EPOCH 68:\t Training loss : 0.218 \t Validation loss : 0.256\n",
      "\n",
      "EPOCH 69:\t Training loss : 0.225 \t Validation loss : 0.240\n",
      "\n",
      "EPOCH 70:\t Training loss : 0.218 \t Validation loss : 0.247\n",
      "\n",
      "EPOCH 71:\t Training loss : 0.215 \t Validation loss : 0.245\n",
      "\n",
      "EPOCH 72:\t Training loss : 0.224 \t Validation loss : 0.245\n",
      "\n",
      "EPOCH 73:\t Training loss : 0.212 \t Validation loss : 0.239\n",
      "\n",
      "EPOCH 74:\t Training loss : 0.211 \t Validation loss : 0.236\n",
      "\n",
      "EPOCH 75:\t Training loss : 0.210 \t Validation loss : 0.241\n",
      "\n",
      "EPOCH 76:\t Training loss : 0.201 \t Validation loss : 0.238\n",
      "\n",
      "EPOCH 77:\t Training loss : 0.204 \t Validation loss : 0.231\n",
      "\n",
      "EPOCH 78:\t Training loss : 0.197 \t Validation loss : 0.230\n",
      "\n",
      "EPOCH 79:\t Training loss : 0.203 \t Validation loss : 0.235\n",
      "\n",
      "EPOCH 80:\t Training loss : 0.196 \t Validation loss : 0.221\n",
      "\n",
      "EPOCH 81:\t Training loss : 0.190 \t Validation loss : 0.220\n",
      "\n",
      "EPOCH 82:\t Training loss : 0.186 \t Validation loss : 0.222\n",
      "\n",
      "EPOCH 83:\t Training loss : 0.192 \t Validation loss : 0.225\n",
      "\n",
      "EPOCH 84:\t Training loss : 0.194 \t Validation loss : 0.234\n",
      "\n",
      "EPOCH 85:\t Training loss : 0.195 \t Validation loss : 0.230\n",
      "\n",
      "EPOCH 86:\t Training loss : 0.187 \t Validation loss : 0.210\n",
      "\n",
      "EPOCH 87:\t Training loss : 0.195 \t Validation loss : 0.216\n",
      "\n",
      "EPOCH 88:\t Training loss : 0.182 \t Validation loss : 0.216\n",
      "\n",
      "EPOCH 89:\t Training loss : 0.192 \t Validation loss : 0.214\n",
      "\n",
      "EPOCH 90:\t Training loss : 0.180 \t Validation loss : 0.211\n",
      "\n",
      "EPOCH 91:\t Training loss : 0.178 \t Validation loss : 0.210\n",
      "\n",
      "EPOCH 92:\t Training loss : 0.172 \t Validation loss : 0.213\n",
      "\n",
      "EPOCH 93:\t Training loss : 0.173 \t Validation loss : 0.209\n",
      "\n",
      "EPOCH 94:\t Training loss : 0.168 \t Validation loss : 0.207\n",
      "\n",
      "EPOCH 95:\t Training loss : 0.171 \t Validation loss : 0.205\n",
      "\n",
      "EPOCH 96:\t Training loss : 0.169 \t Validation loss : 0.200\n",
      "\n",
      "EPOCH 97:\t Training loss : 0.173 \t Validation loss : 0.203\n",
      "\n",
      "EPOCH 98:\t Training loss : 0.173 \t Validation loss : 0.196\n",
      "\n",
      "EPOCH 99:\t Training loss : 0.167 \t Validation loss : 0.197\n",
      "\n",
      "EPOCH 100:\t Training loss : 0.176 \t Validation loss : 0.195\n"
     ]
    }
   ],
   "execution_count": 64
  },
  {
   "metadata": {
    "ExecuteTime": {
     "end_time": "2024-11-19T14:13:41.929724Z",
     "start_time": "2024-11-19T14:13:41.685214Z"
    }
   },
   "cell_type": "code",
   "source": [
    "fig, ax = plt.subplots(2,2, figsize=(12,10))\n",
    "ax[0,0].plot(train_losses, color='green')\n",
    "ax[0,0].set(xlabel='epoch', ylabel='loss')\n",
    "ax[0,0].set_title('Training Loss')\n",
    "\n",
    "ax[0,1].plot(val_losses, color='red')\n",
    "ax[0,1].set(xlabel='epoch', ylabel='loss')\n",
    "ax[0,1].set_title('Validation Loss')\n",
    "\n",
    "ax[1,0].plot(train_accs, color='green')\n",
    "ax[1,0].set(xlabel='epoch', ylabel='accuracy')\n",
    "ax[1,0].set_title('Training Accuracy')\n",
    "\n",
    "ax[1,1].plot(val_accs, color='red')\n",
    "ax[1,1].set(xlabel='epoch', ylabel='accuracy')\n",
    "ax[1,1].set_title('Validation Accuracy')\n",
    "\n",
    "plt.show()"
   ],
   "id": "cb278928b38d5578",
   "outputs": [
    {
     "data": {
      "text/plain": [
       "<Figure size 1200x1000 with 4 Axes>"
      ],
      "image/png": "[encoded data removed]"
     },
     "metadata": {},
     "output_type": "display_data"
    }
   ],
   "execution_count": 67
  },
  {
   "metadata": {
    "ExecuteTime": {
     "end_time": "2024-11-19T14:14:53.348444Z",
     "start_time": "2024-11-19T14:14:53.343275Z"
    }
   },
   "cell_type": "code",
   "source": [
    "test_target = []\n",
    "test_predict = []\n",
    "model.eval()\n",
    "\n",
    "with torch.no_grad():\n",
    "    for X_samples, y_samples in test_loader:\n",
    "        X_samples = X_samples.to(device)\n",
    "        y_samples = y_samples.to(device)\n",
    "        outputs = model(X_samples)\n",
    "        \n",
    "        test_predict.append(outputs.cpu())\n",
    "        test_target.append(y_samples.cpu())\n",
    "    \n",
    "    test_predict = torch.cat(test_predict)\n",
    "    test_target = torch.cat(test_target)\n",
    "    test_acc = compute_accuracy(test_target, test_predict)\n",
    "    print('Test Accuracy:', test_acc)"
   ],
   "id": "68da5ae3b0d00fc2",
   "outputs": [
    {
     "name": "stdout",
     "output_type": "stream",
     "text": [
      "Test Accuracy: 0.9\n"
     ]
    }
   ],
   "execution_count": 68
  },
  {
   "metadata": {
    "ExecuteTime": {
     "end_time": "2024-11-19T14:27:12.569639Z",
     "start_time": "2024-11-19T14:27:11.979261Z"
    }
   },
   "cell_type": "code",
   "source": [
    "import cv2\n",
    "import os\n",
    "import numpy as np\n",
    "import pandas as pd\n",
    "import matplotlib.pyplot as plt\n",
    "import torch\n",
    "import torch.nn as nn\n",
    "import torch.nn.functional as F\n",
    "from torch.utils.data import Dataset, DataLoader\n",
    "from torchvision.transforms import Resize\n",
    "from torchvision.io import read_image\n",
    "\n",
    "from sklearn.model_selection import train_test_split\n",
    "from sklearn.preprocessing import StandardScaler"
   ],
   "id": "a78ff27547dcdd44",
   "outputs": [],
   "execution_count": 69
  },
  {
   "metadata": {
    "ExecuteTime": {
     "end_time": "2024-11-19T14:27:43.595300Z",
     "start_time": "2024-11-19T14:27:43.592046Z"
    }
   },
   "cell_type": "code",
   "source": [
    "device = torch.device('cuda:0' if torch.cuda.is_available() else 'cpu')\n",
    "random_state = 59\n",
    "np.random.seed(random_state)\n",
    "if torch.cuda.is_available():\n",
    "    torch.cuda.manual_seed(random_state)"
   ],
   "id": "207b058cb30ca901",
   "outputs": [],
   "execution_count": 70
  },
  {
   "metadata": {
    "ExecuteTime": {
     "end_time": "2024-11-19T14:29:13.332406Z",
     "start_time": "2024-11-19T14:29:13.328241Z"
    }
   },
   "cell_type": "code",
   "source": [
    "train_dir = 'FER-2013/train'\n",
    "test_dir = 'FER-2013/test'\n",
    "\n",
    "classes = os.listdir(train_dir)\n",
    "label_to_idx = {cls: idx for idx, cls in enumerate(classes)}\n",
    "idx_to_label = {idx: cls for cls, idx in label_to_idx.items()}"
   ],
   "id": "e52d12dec84c9570",
   "outputs": [],
   "execution_count": 71
  },
  {
   "metadata": {},
   "cell_type": "code",
   "outputs": [],
   "execution_count": null,
   "source": "",
   "id": "969826405093fddc"
  },
  {
   "metadata": {},
   "cell_type": "code",
   "outputs": [],
   "execution_count": null,
   "source": "",
   "id": "42410aa2a886c4ac"
  }
 ],
 "metadata": {
  "kernelspec": {
   "display_name": "Python 3",
   "language": "python",
   "name": "python3"
  },
  "language_info": {
   "codemirror_mode": {
    "name": "ipython",
    "version": 2
   },
   "file_extension": ".py",
   "mimetype": "text/x-python",
   "name": "python",
   "nbconvert_exporter": "python",
   "pygments_lexer": "ipython2",
   "version": "2.7.6"
  }
 },
 "nbformat": 4,
 "nbformat_minor": 5
}
