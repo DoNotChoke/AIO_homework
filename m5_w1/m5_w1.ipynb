{
 "cells": [
  {
   "cell_type": "code",
   "id": "initial_id",
   "metadata": {
    "collapsed": true,
    "ExecuteTime": {
     "end_time": "2024-11-05T14:14:43.069384Z",
     "start_time": "2024-11-05T14:14:43.057377Z"
    }
   },
   "source": [
    "import numpy as np\n",
    "import pandas as pd\n",
    "import matplotlib.pyplot as plt\n",
    "\n",
    "from sklearn.model_selection import train_test_split\n",
    "from sklearn.preprocessing import StandardScaler"
   ],
   "outputs": [],
   "execution_count": 8
  },
  {
   "metadata": {
    "ExecuteTime": {
     "end_time": "2024-11-05T14:14:43.505045Z",
     "start_time": "2024-11-05T14:14:43.484047Z"
    }
   },
   "cell_type": "code",
   "source": [
    "dataset_path = 'titanic_modified_dataset.csv'\n",
    "df = pd.read_csv(dataset_path,\n",
    "                 index_col='PassengerId')"
   ],
   "id": "8704d9976e72291a",
   "outputs": [],
   "execution_count": 9
  },
  {
   "metadata": {
    "ExecuteTime": {
     "end_time": "2024-11-05T14:14:44.387275Z",
     "start_time": "2024-11-05T14:14:44.365810Z"
    }
   },
   "cell_type": "code",
   "source": "df.head()",
   "id": "6c74ceac3734555b",
   "outputs": [
    {
     "data": {
      "text/plain": [
       "             Pclass  Sex   Age  SibSp  Parch     Fare  Embarked  Title  \\\n",
       "PassengerId                                                              \n",
       "1                 3    0  22.0      1      0   7.2500         0      0   \n",
       "2                 1    1  38.0      1      0  71.2833         1      1   \n",
       "3                 3    1  26.0      0      0   7.9250         0      2   \n",
       "4                 1    1  35.0      1      0  53.1000         0      1   \n",
       "5                 3    0  35.0      0      0   8.0500         0      0   \n",
       "\n",
       "             Survived  \n",
       "PassengerId            \n",
       "1                   0  \n",
       "2                   1  \n",
       "3                   1  \n",
       "4                   1  \n",
       "5                   0  "
      ],
      "text/html": [
       "<div>\n",
       "<style scoped>\n",
       "    .dataframe tbody tr th:only-of-type {\n",
       "        vertical-align: middle;\n",
       "    }\n",
       "\n",
       "    .dataframe tbody tr th {\n",
       "        vertical-align: top;\n",
       "    }\n",
       "\n",
       "    .dataframe thead th {\n",
       "        text-align: right;\n",
       "    }\n",
       "</style>\n",
       "<table border=\"1\" class=\"dataframe\">\n",
       "  <thead>\n",
       "    <tr style=\"text-align: right;\">\n",
       "      <th></th>\n",
       "      <th>Pclass</th>\n",
       "      <th>Sex</th>\n",
       "      <th>Age</th>\n",
       "      <th>SibSp</th>\n",
       "      <th>Parch</th>\n",
       "      <th>Fare</th>\n",
       "      <th>Embarked</th>\n",
       "      <th>Title</th>\n",
       "      <th>Survived</th>\n",
       "    </tr>\n",
       "    <tr>\n",
       "      <th>PassengerId</th>\n",
       "      <th></th>\n",
       "      <th></th>\n",
       "      <th></th>\n",
       "      <th></th>\n",
       "      <th></th>\n",
       "      <th></th>\n",
       "      <th></th>\n",
       "      <th></th>\n",
       "      <th></th>\n",
       "    </tr>\n",
       "  </thead>\n",
       "  <tbody>\n",
       "    <tr>\n",
       "      <th>1</th>\n",
       "      <td>3</td>\n",
       "      <td>0</td>\n",
       "      <td>22.0</td>\n",
       "      <td>1</td>\n",
       "      <td>0</td>\n",
       "      <td>7.2500</td>\n",
       "      <td>0</td>\n",
       "      <td>0</td>\n",
       "      <td>0</td>\n",
       "    </tr>\n",
       "    <tr>\n",
       "      <th>2</th>\n",
       "      <td>1</td>\n",
       "      <td>1</td>\n",
       "      <td>38.0</td>\n",
       "      <td>1</td>\n",
       "      <td>0</td>\n",
       "      <td>71.2833</td>\n",
       "      <td>1</td>\n",
       "      <td>1</td>\n",
       "      <td>1</td>\n",
       "    </tr>\n",
       "    <tr>\n",
       "      <th>3</th>\n",
       "      <td>3</td>\n",
       "      <td>1</td>\n",
       "      <td>26.0</td>\n",
       "      <td>0</td>\n",
       "      <td>0</td>\n",
       "      <td>7.9250</td>\n",
       "      <td>0</td>\n",
       "      <td>2</td>\n",
       "      <td>1</td>\n",
       "    </tr>\n",
       "    <tr>\n",
       "      <th>4</th>\n",
       "      <td>1</td>\n",
       "      <td>1</td>\n",
       "      <td>35.0</td>\n",
       "      <td>1</td>\n",
       "      <td>0</td>\n",
       "      <td>53.1000</td>\n",
       "      <td>0</td>\n",
       "      <td>1</td>\n",
       "      <td>1</td>\n",
       "    </tr>\n",
       "    <tr>\n",
       "      <th>5</th>\n",
       "      <td>3</td>\n",
       "      <td>0</td>\n",
       "      <td>35.0</td>\n",
       "      <td>0</td>\n",
       "      <td>0</td>\n",
       "      <td>8.0500</td>\n",
       "      <td>0</td>\n",
       "      <td>0</td>\n",
       "      <td>0</td>\n",
       "    </tr>\n",
       "  </tbody>\n",
       "</table>\n",
       "</div>"
      ]
     },
     "execution_count": 10,
     "metadata": {},
     "output_type": "execute_result"
    }
   ],
   "execution_count": 10
  },
  {
   "metadata": {
    "ExecuteTime": {
     "end_time": "2024-11-05T14:14:45.477325Z",
     "start_time": "2024-11-05T14:14:45.463318Z"
    }
   },
   "cell_type": "code",
   "source": [
    "dataset_arr = df.to_numpy().astype(np.float64)\n",
    "X,y = dataset_arr[:,:-1],dataset_arr[:,-1]"
   ],
   "id": "d7108e08a836bb80",
   "outputs": [],
   "execution_count": 11
  },
  {
   "metadata": {
    "ExecuteTime": {
     "end_time": "2024-11-05T14:14:46.837390Z",
     "start_time": "2024-11-05T14:14:46.828382Z"
    }
   },
   "cell_type": "code",
   "source": [
    "intercept = np.ones((X.shape[0],1))\n",
    "X = np.concatenate((intercept, X), axis=1)"
   ],
   "id": "57f64c2eefca7590",
   "outputs": [],
   "execution_count": 12
  },
  {
   "metadata": {
    "ExecuteTime": {
     "end_time": "2024-11-05T16:07:47.556080Z",
     "start_time": "2024-11-05T16:07:47.543076Z"
    }
   },
   "cell_type": "code",
   "source": [
    "val_size = 0.2\n",
    "test_size = 0.125\n",
    "random_state = 2\n",
    "is_shuffle = True\n",
    "\n",
    "X_train, X_val, y_train, y_val = train_test_split(X, y, test_size=val_size, random_state=random_state,shuffle=is_shuffle)\n",
    "X_train, X_test, y_train, y_test = train_test_split(X_train, y_train, test_size=test_size, random_state=random_state)\n"
   ],
   "id": "4a08144ba96132f4",
   "outputs": [],
   "execution_count": 41
  },
  {
   "metadata": {
    "ExecuteTime": {
     "end_time": "2024-11-05T16:07:55.805294Z",
     "start_time": "2024-11-05T16:07:55.786322Z"
    }
   },
   "cell_type": "code",
   "source": [
    "standard = StandardScaler()\n",
    "X_train[:,1:] = standard.fit_transform(X_train[:,1:])\n",
    "X_test[:,1:] = standard.transform(X_test[:,1:])\n",
    "X_val[:,1:] = standard.transform(X_val[:,1:])"
   ],
   "id": "2fa249e28e7a9cf1",
   "outputs": [],
   "execution_count": 42
  },
  {
   "metadata": {
    "ExecuteTime": {
     "end_time": "2024-11-05T16:07:58.198638Z",
     "start_time": "2024-11-05T16:07:58.179569Z"
    }
   },
   "cell_type": "code",
   "source": [
    "def sigmoid(z):\n",
    "    return 1/(1+np.exp(-z))"
   ],
   "id": "37c58754e378fbb5",
   "outputs": [],
   "execution_count": 43
  },
  {
   "metadata": {
    "ExecuteTime": {
     "end_time": "2024-11-05T16:08:00.259921Z",
     "start_time": "2024-11-05T16:08:00.247907Z"
    }
   },
   "cell_type": "code",
   "source": [
    "def predict(X, theta):\n",
    "    dot = np.dot(X, theta)\n",
    "    y_hat = sigmoid(dot)\n",
    "    return y_hat"
   ],
   "id": "ef861fe569f185a1",
   "outputs": [],
   "execution_count": 44
  },
  {
   "metadata": {
    "ExecuteTime": {
     "end_time": "2024-11-05T16:08:08.820335Z",
     "start_time": "2024-11-05T16:08:08.809336Z"
    }
   },
   "cell_type": "code",
   "source": [
    "def compute_loss(y_hat, y):\n",
    "    y_hat = np.clip(y_hat, 1e-7, 1 - 1e-7)\n",
    "    return (-y*np.log(y_hat)-(1-y)*np.log(1-y_hat)).mean()"
   ],
   "id": "f418934d0de18719",
   "outputs": [],
   "execution_count": 45
  },
  {
   "metadata": {
    "ExecuteTime": {
     "end_time": "2024-11-05T16:08:18.752728Z",
     "start_time": "2024-11-05T16:08:18.733703Z"
    }
   },
   "cell_type": "code",
   "source": [
    "def compute_gradient(X, y, y_hat):\n",
    "    return np.dot(X.T, (y_hat - y))/y.size"
   ],
   "id": "2ed98117925f9891",
   "outputs": [],
   "execution_count": 46
  },
  {
   "metadata": {
    "ExecuteTime": {
     "end_time": "2024-11-05T16:08:31.969524Z",
     "start_time": "2024-11-05T16:08:31.957518Z"
    }
   },
   "cell_type": "code",
   "source": [
    "def update_theta(theta, gradient, lr):\n",
    "    new_theta = theta - lr*gradient\n",
    "    return new_theta"
   ],
   "id": "dd2414cfdf0a4c35",
   "outputs": [],
   "execution_count": 47
  },
  {
   "metadata": {
    "ExecuteTime": {
     "end_time": "2024-11-05T16:08:40.669327Z",
     "start_time": "2024-11-05T16:08:40.658319Z"
    }
   },
   "cell_type": "code",
   "source": [
    "def accuracy(X,y, theta):\n",
    "    y_hat = predict(X, theta).round()\n",
    "    acc = (y_hat == y).mean()\n",
    "    return acc"
   ],
   "id": "7901855bd7c13c87",
   "outputs": [],
   "execution_count": 48
  },
  {
   "metadata": {
    "ExecuteTime": {
     "end_time": "2024-11-05T16:08:45.278299Z",
     "start_time": "2024-11-05T16:08:45.263203Z"
    }
   },
   "cell_type": "code",
   "source": [
    "lr = 0.01\n",
    "epochs = 100\n",
    "batch_size = 16\n",
    "\n",
    "np.random.seed(random_state)\n",
    "theta = np.random.uniform(size=X_train.shape[1])"
   ],
   "id": "375708839ef0523f",
   "outputs": [],
   "execution_count": 49
  },
  {
   "metadata": {
    "ExecuteTime": {
     "end_time": "2024-11-05T16:10:34.450270Z",
     "start_time": "2024-11-05T16:10:34.174177Z"
    }
   },
   "cell_type": "code",
   "source": [
    "train_accs = []\n",
    "train_losses = []\n",
    "val_accs = []\n",
    "val_losses = []\n",
    "\n",
    "for epoch in range(epochs):\n",
    "    train_batch_accs = []\n",
    "    train_batch_losses = []\n",
    "    val_batch_accs = []\n",
    "    val_batch_losses = []\n",
    "    \n",
    "    for i in range(0, X_train.shape[0], batch_size):\n",
    "        X_i = X_train[i:i+batch_size]\n",
    "        y_i = y_train[i:i+batch_size]\n",
    "        y_hat = predict(X_i, theta)\n",
    "        train_loss = compute_loss(y_hat, y_i)\n",
    "        gradient = compute_gradient(X_i, y_i, y_hat)\n",
    "        theta = update_theta(theta, gradient, lr)\n",
    "        \n",
    "        train_batch_accs.append(accuracy(X_i, y_i, theta))\n",
    "        train_batch_losses.append(train_loss)\n",
    "        \n",
    "        y_val_hat = predict(X_val, theta)\n",
    "        val_loss = compute_loss(y_val_hat, y_val)\n",
    "        val_batch_accs.append(accuracy(X_val, y_val, theta))\n",
    "        val_batch_losses.append(val_loss)\n",
    "    \n",
    "    train_batch_loss = sum(train_batch_losses)/ len(train_batch_losses)\n",
    "    val_batch_loss = sum(val_batch_losses)/ len(val_batch_losses)\n",
    "    train_batch_acc = sum(train_batch_accs)/ len(train_batch_accs)\n",
    "    val_batch_acc = sum(val_batch_accs)/ len(val_batch_accs)\n",
    "    \n",
    "    train_losses.append(train_batch_loss)\n",
    "    train_accs.append(train_batch_acc)\n",
    "    val_losses.append(val_batch_loss)\n",
    "    val_accs.append(val_batch_acc)\n",
    "    print(f'epoch : {epoch+1} | train loss : {train_batch_loss} | train acc : {train_batch_acc} | validation loss : {val_batch_loss} | validation acc : {val_batch_acc}')"
   ],
   "id": "25df652333f604c3",
   "outputs": [
    {
     "name": "stdout",
     "output_type": "stream",
     "text": [
      "epoch : 1 | train loss : 0.7030512842526715 | train acc : 0.6564102564102564 | validation loss : 0.5994866816834135 | validation acc : 0.7104999283770231\n",
      "epoch : 2 | train loss : 0.6697763929039742 | train acc : 0.6740384615384616 | validation loss : 0.5820187414560264 | validation acc : 0.715227044835983\n",
      "epoch : 3 | train loss : 0.6403939998515933 | train acc : 0.6852564102564103 | validation loss : 0.5671628487716034 | validation acc : 0.7195244234350379\n",
      "epoch : 4 | train loss : 0.6144986366111846 | train acc : 0.6996794871794872 | validation loss : 0.5545727802403212 | validation acc : 0.7284056725397507\n",
      "epoch : 5 | train loss : 0.5917255159145512 | train acc : 0.7028846153846154 | validation loss : 0.5439596026719391 | validation acc : 0.7435897435897437\n",
      "epoch : 6 | train loss : 0.5717403796104814 | train acc : 0.7318376068376069 | validation loss : 0.5350736412609689 | validation acc : 0.7488898438619106\n",
      "epoch : 7 | train loss : 0.5542333321647727 | train acc : 0.7478632478632479 | validation loss : 0.527691602461753 | validation acc : 0.7443059733562531\n",
      "epoch : 8 | train loss : 0.538916091479649 | train acc : 0.7590811965811967 | validation loss : 0.5216091740400706 | validation acc : 0.7480303681420998\n",
      "epoch : 9 | train loss : 0.5255218248877233 | train acc : 0.7670940170940171 | validation loss : 0.5166385444159718 | validation acc : 0.7443059733562531\n",
      "epoch : 10 | train loss : 0.5138063718261668 | train acc : 0.7702991452991453 | validation loss : 0.5126090871442325 | validation acc : 0.7435897435897438\n",
      "epoch : 11 | train loss : 0.5035495906488603 | train acc : 0.7735042735042735 | validation loss : 0.509368993938653 | validation acc : 0.7498925655350237\n",
      "epoch : 12 | train loss : 0.49455594081996057 | train acc : 0.7767094017094017 | validation loss : 0.5067862214019372 | validation acc : 0.7541899441340787\n",
      "epoch : 13 | train loss : 0.4866539796915186 | train acc : 0.7816239316239316 | validation loss : 0.5047481457558914 | validation acc : 0.7544764360406823\n",
      "epoch : 14 | train loss : 0.4796949037928601 | train acc : 0.7864316239316239 | validation loss : 0.5031601001250069 | validation acc : 0.7594900444062452\n",
      "epoch : 15 | train loss : 0.47355047123170024 | train acc : 0.7896367521367521 | validation loss : 0.5019432717544005 | validation acc : 0.7589170605930382\n",
      "epoch : 16 | train loss : 0.46811065164181126 | train acc : 0.7896367521367521 | validation loss : 0.5010324051491383 | validation acc : 0.7541899441340787\n",
      "epoch : 17 | train loss : 0.46328126508029766 | train acc : 0.7912393162393163 | validation loss : 0.5003736036044969 | validation acc : 0.7541899441340787\n",
      "epoch : 18 | train loss : 0.458981769282006 | train acc : 0.7912393162393163 | validation loss : 0.4999223742029753 | validation acc : 0.7587738146397361\n",
      "epoch : 19 | train loss : 0.4551432726093233 | train acc : 0.7928418803418804 | validation loss : 0.4996419618096189 | validation acc : 0.7597765363128489\n",
      "epoch : 20 | train loss : 0.45170679615958476 | train acc : 0.7928418803418804 | validation loss : 0.499501963455987 | validation acc : 0.7597765363128489\n",
      "epoch : 21 | train loss : 0.44862177815168447 | train acc : 0.7928418803418804 | validation loss : 0.49947719091931136 | validation acc : 0.7597765363128489\n",
      "epoch : 22 | train loss : 0.4458447992168301 | train acc : 0.7960470085470086 | validation loss : 0.499546742776934 | validation acc : 0.7597765363128489\n",
      "epoch : 23 | train loss : 0.44333850203484443 | train acc : 0.7960470085470086 | validation loss : 0.49969324883047844 | validation acc : 0.7597765363128489\n",
      "epoch : 24 | train loss : 0.44107067847150533 | train acc : 0.7960470085470086 | validation loss : 0.4999022545557241 | validation acc : 0.7597765363128489\n",
      "epoch : 25 | train loss : 0.43901349936164535 | train acc : 0.7960470085470086 | validation loss : 0.5001617186735304 | validation acc : 0.7596332903595471\n",
      "epoch : 26 | train loss : 0.43714286492659765 | train acc : 0.7975427350427351 | validation loss : 0.5004616019899015 | validation acc : 0.7553359117604932\n",
      "epoch : 27 | train loss : 0.435437856803505 | train acc : 0.7975427350427351 | validation loss : 0.5007935299598666 | validation acc : 0.7544764360406823\n",
      "epoch : 28 | train loss : 0.433880275475379 | train acc : 0.8007478632478633 | validation loss : 0.5011505149498399 | validation acc : 0.7563386334336053\n",
      "epoch : 29 | train loss : 0.43245424940005367 | train acc : 0.802457264957265 | validation loss : 0.5015267269910272 | validation acc : 0.7597765363128489\n",
      "epoch : 30 | train loss : 0.4311459043141409 | train acc : 0.802457264957265 | validation loss : 0.5019173040511162 | validation acc : 0.7597765363128489\n",
      "epoch : 31 | train loss : 0.42994308304881446 | train acc : 0.8056623931623932 | validation loss : 0.5023181946183846 | validation acc : 0.7597765363128489\n",
      "epoch : 32 | train loss : 0.42883510776881084 | train acc : 0.8072649572649573 | validation loss : 0.5027260267904016 | validation acc : 0.7597765363128489\n",
      "epoch : 33 | train loss : 0.4278125778705301 | train acc : 0.8104700854700855 | validation loss : 0.5031379991687119 | validation acc : 0.7597765363128489\n",
      "epoch : 34 | train loss : 0.4268671978849211 | train acc : 0.8104700854700855 | validation loss : 0.5035517897442459 | validation acc : 0.7597765363128489\n",
      "epoch : 35 | train loss : 0.42599163065839635 | train acc : 0.8104700854700855 | validation loss : 0.5039654796646229 | validation acc : 0.7597765363128489\n",
      "epoch : 36 | train loss : 0.4251793718589498 | train acc : 0.8088675213675214 | validation loss : 0.5043774893418327 | validation acc : 0.7597765363128489\n",
      "epoch : 37 | train loss : 0.4244246424997424 | train acc : 0.8088675213675214 | validation loss : 0.5047865248162129 | validation acc : 0.7597765363128489\n",
      "epoch : 38 | train loss : 0.4237222967098578 | train acc : 0.8088675213675214 | validation loss : 0.5051915326629111 | validation acc : 0.7597765363128489\n",
      "epoch : 39 | train loss : 0.42306774242959233 | train acc : 0.8088675213675214 | validation loss : 0.5055916620277837 | validation acc : 0.7597765363128489\n",
      "epoch : 40 | train loss : 0.42245687308062685 | train acc : 0.8088675213675214 | validation loss : 0.5059862326247987 | validation acc : 0.7597765363128489\n",
      "epoch : 41 | train loss : 0.4218860085723257 | train acc : 0.8088675213675214 | validation loss : 0.506374707727357 | validation acc : 0.7600630282194525\n",
      "epoch : 42 | train loss : 0.4213518442647323 | train acc : 0.8088675213675214 | validation loss : 0.5067566713501963 | validation acc : 0.7602062741727544\n",
      "epoch : 43 | train loss : 0.4208514067253473 | train acc : 0.8088675213675214 | validation loss : 0.5071318089535073 | validation acc : 0.7616387337057726\n",
      "epoch : 44 | train loss : 0.42038201529771957 | train acc : 0.8104700854700855 | validation loss : 0.5074998911120887 | validation acc : 0.7642171608652054\n",
      "epoch : 45 | train loss : 0.4199412486512988 | train acc : 0.8104700854700855 | validation loss : 0.5078607596841973 | validation acc : 0.7686577854175618\n",
      "epoch : 46 | train loss : 0.41952691560885896 | train acc : 0.8120726495726496 | validation loss : 0.5082143160907159 | validation acc : 0.7705199828104854\n",
      "epoch : 47 | train loss : 0.4191370296542472 | train acc : 0.8120726495726496 | validation loss : 0.5085605113782798 | validation acc : 0.7709497206703909\n",
      "epoch : 48 | train loss : 0.41876978661265657 | train acc : 0.8104700854700855 | validation loss : 0.5088993377923532 | validation acc : 0.7712362125769945\n",
      "epoch : 49 | train loss : 0.41842354507089496 | train acc : 0.8104700854700855 | validation loss : 0.5092308216298194 | validation acc : 0.7713794585302965\n",
      "epoch : 50 | train loss : 0.41809680916857 | train acc : 0.8104700854700855 | validation loss : 0.5095550171770068 | validation acc : 0.7686577854175621\n",
      "epoch : 51 | train loss : 0.41778821344468836 | train acc : 0.8104700854700855 | validation loss : 0.5098720015694277 | validation acc : 0.7708064747170891\n",
      "epoch : 52 | train loss : 0.41749650946946987 | train acc : 0.8104700854700855 | validation loss : 0.5101818704349332 | validation acc : 0.7709497206703909\n",
      "epoch : 53 | train loss : 0.4172205540295606 | train acc : 0.8104700854700855 | validation loss : 0.5104847342032872 | validation acc : 0.7709497206703909\n",
      "epoch : 54 | train loss : 0.416959298667401 | train acc : 0.8104700854700855 | validation loss : 0.5107807149830563 | validation acc : 0.7709497206703909\n",
      "epoch : 55 | train loss : 0.4167117804031918 | train acc : 0.8104700854700855 | validation loss : 0.5110699439217657 | validation acc : 0.7710929666236926\n",
      "epoch : 56 | train loss : 0.4164771134914753 | train acc : 0.8120726495726496 | validation loss : 0.5113525589779375 | validation acc : 0.7713794585302964\n",
      "epoch : 57 | train loss : 0.416254482084464 | train acc : 0.8120726495726496 | validation loss : 0.5116287030443328 | validation acc : 0.7716659504369001\n",
      "epoch : 58 | train loss : 0.41604313369142726 | train acc : 0.8120726495726496 | validation loss : 0.5118985223707444 | validation acc : 0.7722389342501074\n",
      "epoch : 59 | train loss : 0.4158423733381595 | train acc : 0.8120726495726496 | validation loss : 0.5121621652423399 | validation acc : 0.773528147829824\n",
      "epoch : 60 | train loss : 0.4156515583431602 | train acc : 0.8120726495726496 | validation loss : 0.5124197808760237 | validation acc : 0.7748173614095405\n",
      "epoch : 61 | train loss : 0.41547009363798854 | train acc : 0.8120726495726496 | validation loss : 0.5126715185027884 | validation acc : 0.7758200830826534\n",
      "epoch : 62 | train loss : 0.415297427568573 | train acc : 0.8120726495726496 | validation loss : 0.5129175266086843 | validation acc : 0.7765363128491627\n",
      "epoch : 63 | train loss : 0.4151330481222857 | train acc : 0.8136752136752137 | validation loss : 0.5131579523110184 | validation acc : 0.7765363128491627\n",
      "epoch : 64 | train loss : 0.4149764795325197 | train acc : 0.8136752136752137 | validation loss : 0.5133929408497588 | validation acc : 0.7765363128491627\n",
      "epoch : 65 | train loss : 0.41482727921850227 | train acc : 0.8136752136752137 | validation loss : 0.5136226351770163 | validation acc : 0.7765363128491627\n",
      "epoch : 66 | train loss : 0.414685035023266 | train acc : 0.8152777777777778 | validation loss : 0.513847175629925 | validation acc : 0.7765363128491627\n",
      "epoch : 67 | train loss : 0.41454936271719817 | train acc : 0.8136752136752137 | validation loss : 0.5140666996743501 | validation acc : 0.7765363128491627\n",
      "epoch : 68 | train loss : 0.41441990373850174 | train acc : 0.8152777777777778 | validation loss : 0.514281341708643 | validation acc : 0.7765363128491627\n",
      "epoch : 69 | train loss : 0.41429632314530224 | train acc : 0.8152777777777778 | validation loss : 0.5144912329182091 | validation acc : 0.7765363128491627\n",
      "epoch : 70 | train loss : 0.41417830775709963 | train acc : 0.8152777777777778 | validation loss : 0.5146965011729616 | validation acc : 0.7765363128491627\n",
      "epoch : 71 | train loss : 0.41406556446585385 | train acc : 0.8152777777777778 | validation loss : 0.5148972709608741 | validation acc : 0.7765363128491627\n",
      "epoch : 72 | train loss : 0.413957818699253 | train acc : 0.8152777777777778 | validation loss : 0.5150936633518073 | validation acc : 0.7765363128491627\n",
      "epoch : 73 | train loss : 0.41385481302069455 | train acc : 0.8152777777777778 | validation loss : 0.5152857959866194 | validation acc : 0.7765363128491627\n",
      "epoch : 74 | train loss : 0.4137563058522464 | train acc : 0.8152777777777778 | validation loss : 0.5154737830872873 | validation acc : 0.7765363128491627\n",
      "epoch : 75 | train loss : 0.41366207030837704 | train acc : 0.8152777777777778 | validation loss : 0.515657735484377 | validation acc : 0.7765363128491627\n",
      "epoch : 76 | train loss : 0.41357189312958925 | train acc : 0.8168803418803419 | validation loss : 0.5158377606587331 | validation acc : 0.7765363128491627\n",
      "epoch : 77 | train loss : 0.4134855737062645 | train acc : 0.8168803418803419 | validation loss : 0.5160139627947087 | validation acc : 0.7765363128491627\n",
      "epoch : 78 | train loss : 0.41340292318407296 | train acc : 0.8168803418803419 | validation loss : 0.5161864428426539 | validation acc : 0.7765363128491627\n",
      "epoch : 79 | train loss : 0.4133237636432193 | train acc : 0.8168803418803419 | validation loss : 0.5163552985887148 | validation acc : 0.7765363128491627\n",
      "epoch : 80 | train loss : 0.4132479273446064 | train acc : 0.8168803418803419 | validation loss : 0.5165206247302812 | validation acc : 0.7765363128491627\n",
      "epoch : 81 | train loss : 0.4131752560367187 | train acc : 0.8168803418803419 | validation loss : 0.5166825129556825 | validation acc : 0.7765363128491627\n",
      "epoch : 82 | train loss : 0.41310560031766613 | train acc : 0.8168803418803419 | validation loss : 0.5168410520269344 | validation acc : 0.7763930668958609\n",
      "epoch : 83 | train loss : 0.4130388190473947 | train acc : 0.8168803418803419 | validation loss : 0.5169963278645301 | validation acc : 0.776249820942559\n",
      "epoch : 84 | train loss : 0.4129747788055674 | train acc : 0.8168803418803419 | validation loss : 0.5171484236334299 | validation acc : 0.7758200830826536\n",
      "epoch : 85 | train loss : 0.41291335339107793 | train acc : 0.8168803418803419 | validation loss : 0.5172974198295383 | validation acc : 0.7756768371293518\n",
      "epoch : 86 | train loss : 0.41285442335954586 | train acc : 0.8168803418803419 | validation loss : 0.5174433943660741 | validation acc : 0.7751038533161444\n",
      "epoch : 87 | train loss : 0.41279787559550696 | train acc : 0.8168803418803419 | validation loss : 0.5175864226593454 | validation acc : 0.7748173614095407\n",
      "epoch : 88 | train loss : 0.4127436029163252 | train acc : 0.8168803418803419 | validation loss : 0.5177265777135225 | validation acc : 0.7743876235496351\n",
      "epoch : 89 | train loss : 0.41269150370513796 | train acc : 0.8168803418803419 | validation loss : 0.517863930204081 | validation acc : 0.7732416559232205\n",
      "epoch : 90 | train loss : 0.41264148157040037 | train acc : 0.8168803418803419 | validation loss : 0.5179985485596468 | validation acc : 0.7726686721100131\n",
      "epoch : 91 | train loss : 0.4125934450298254 | train acc : 0.8168803418803419 | validation loss : 0.5181304990420375 | validation acc : 0.771809196390202\n",
      "epoch : 92 | train loss : 0.41254730721671395 | train acc : 0.8168803418803419 | validation loss : 0.5182598458243266 | validation acc : 0.7708064747170891\n",
      "epoch : 93 | train loss : 0.41250298560685916 | train acc : 0.8168803418803419 | validation loss : 0.5183866510668143 | validation acc : 0.7708064747170891\n",
      "epoch : 94 | train loss : 0.4124604017643735 | train acc : 0.8168803418803419 | validation loss : 0.5185109749908104 | validation acc : 0.7700902449505802\n",
      "epoch : 95 | train loss : 0.41241948110493254 | train acc : 0.8168803418803419 | validation loss : 0.5186328759501643 | validation acc : 0.7698037530439766\n",
      "epoch : 96 | train loss : 0.41238015267506456 | train acc : 0.8168803418803419 | validation loss : 0.5187524105005098 | validation acc : 0.7692307692307693\n",
      "epoch : 97 | train loss : 0.4123423489462402 | train acc : 0.8168803418803419 | validation loss : 0.5188696334662 | validation acc : 0.7686577854175621\n",
      "epoch : 98 | train loss : 0.4123060056226169 | train acc : 0.818482905982906 | validation loss : 0.518984598004937 | validation acc : 0.768084801604355\n",
      "epoch : 99 | train loss : 0.4122710614614024 | train acc : 0.8168803418803419 | validation loss : 0.5190973556701052 | validation acc : 0.7675118177911477\n",
      "epoch : 100 | train loss : 0.41223745810487883 | train acc : 0.8168803418803419 | validation loss : 0.5192079564708351 | validation acc : 0.7672253258845442\n"
     ]
    }
   ],
   "execution_count": 50
  },
  {
   "metadata": {
    "ExecuteTime": {
     "end_time": "2024-11-05T16:10:37.675537Z",
     "start_time": "2024-11-05T16:10:37.287311Z"
    }
   },
   "cell_type": "code",
   "source": [
    "fig , ax = plt . subplots (2 , 2 , figsize =(12 , 10) )\n",
    "ax [0 , 0]. plot(train_losses)\n",
    "ax [0 , 0]. set(xlabel ='Epoch ', ylabel ='Loss ')\n",
    "ax [0 , 0]. set_title ('Training Loss ')\n",
    "ax [0 , 1]. plot( val_losses , 'orange')\n",
    "ax [0 , 1]. set( xlabel ='Epoch ', ylabel ='Loss ')\n",
    "ax [0 , 1]. set_title ('Validation Loss ')\n",
    "\n",
    "ax [1 , 0]. plot(train_accs)\n",
    "ax [1 , 0]. set(xlabel ='Epoch', ylabel ='Accuracy')\n",
    "ax [1 , 0]. set_title ('Training Accuracy ')\n",
    "\n",
    "ax [1 , 1]. plot ( val_accs , 'orange')\n",
    "ax [1 , 1]. set ( xlabel ='Epoch ', ylabel ='Accuracy ')\n",
    "ax [1 , 1]. set_title ('Validation Accuracy ')\n",
    "\n",
    "plt . show ()"
   ],
   "id": "256fd0a145cff530",
   "outputs": [
    {
     "data": {
      "text/plain": [
       "<Figure size 1200x1000 with 4 Axes>"
      ],
      "image/png": "[encoded data removed]"
     },
     "metadata": {},
     "output_type": "display_data"
    }
   ],
   "execution_count": 51
  },
  {
   "metadata": {
    "ExecuteTime": {
     "end_time": "2024-11-05T16:12:13.000574Z",
     "start_time": "2024-11-05T16:12:12.340190Z"
    }
   },
   "cell_type": "code",
   "source": [
    "import re\n",
    "import nltk\n",
    "\n",
    "from nltk.tokenize import TweetTokenizer\n",
    "from collections import defaultdict"
   ],
   "id": "4e0415e90e1c31a8",
   "outputs": [],
   "execution_count": 52
  },
  {
   "metadata": {
    "ExecuteTime": {
     "end_time": "2024-11-05T16:13:02.208682Z",
     "start_time": "2024-11-05T16:13:02.175544Z"
    }
   },
   "cell_type": "code",
   "source": [
    "dataset_path = 'sentiment_analysis.csv'\n",
    "df = pd.read_csv(dataset_path,\n",
    "                 index_col='id')"
   ],
   "id": "a1315070bbf91f0f",
   "outputs": [],
   "execution_count": 56
  },
  {
   "metadata": {
    "ExecuteTime": {
     "end_time": "2024-11-05T16:13:05.298411Z",
     "start_time": "2024-11-05T16:13:05.286353Z"
    }
   },
   "cell_type": "code",
   "source": "df",
   "id": "8784cc174da0292f",
   "outputs": [
    {
     "data": {
      "text/plain": [
       "      label                                              tweet\n",
       "id                                                            \n",
       "1         0  #fingerprint #Pregnancy Test https://goo.gl/h1...\n",
       "2         0  Finally a transparant silicon case ^^ Thanks t...\n",
       "3         0  We love this! Would you go? #talk #makememorie...\n",
       "4         0  I'm wired I know I'm George I was made that wa...\n",
       "5         1  What amazing service! Apple won't even talk to...\n",
       "...     ...                                                ...\n",
       "7916      0  Live out loud #lol #liveoutloud #selfie #smile...\n",
       "7917      0  We would like to wish you an amazing day! Make...\n",
       "7918      0  Helping my lovely 90 year old neighbor with he...\n",
       "7919      0  Finally got my #smart #pocket #wifi stay conne...\n",
       "7920      0  Apple Barcelona!!! #Apple #Store #BCN #Barcelo...\n",
       "\n",
       "[7920 rows x 2 columns]"
      ],
      "text/html": [
       "<div>\n",
       "<style scoped>\n",
       "    .dataframe tbody tr th:only-of-type {\n",
       "        vertical-align: middle;\n",
       "    }\n",
       "\n",
       "    .dataframe tbody tr th {\n",
       "        vertical-align: top;\n",
       "    }\n",
       "\n",
       "    .dataframe thead th {\n",
       "        text-align: right;\n",
       "    }\n",
       "</style>\n",
       "<table border=\"1\" class=\"dataframe\">\n",
       "  <thead>\n",
       "    <tr style=\"text-align: right;\">\n",
       "      <th></th>\n",
       "      <th>label</th>\n",
       "      <th>tweet</th>\n",
       "    </tr>\n",
       "    <tr>\n",
       "      <th>id</th>\n",
       "      <th></th>\n",
       "      <th></th>\n",
       "    </tr>\n",
       "  </thead>\n",
       "  <tbody>\n",
       "    <tr>\n",
       "      <th>1</th>\n",
       "      <td>0</td>\n",
       "      <td>#fingerprint #Pregnancy Test https://goo.gl/h1...</td>\n",
       "    </tr>\n",
       "    <tr>\n",
       "      <th>2</th>\n",
       "      <td>0</td>\n",
       "      <td>Finally a transparant silicon case ^^ Thanks t...</td>\n",
       "    </tr>\n",
       "    <tr>\n",
       "      <th>3</th>\n",
       "      <td>0</td>\n",
       "      <td>We love this! Would you go? #talk #makememorie...</td>\n",
       "    </tr>\n",
       "    <tr>\n",
       "      <th>4</th>\n",
       "      <td>0</td>\n",
       "      <td>I'm wired I know I'm George I was made that wa...</td>\n",
       "    </tr>\n",
       "    <tr>\n",
       "      <th>5</th>\n",
       "      <td>1</td>\n",
       "      <td>What amazing service! Apple won't even talk to...</td>\n",
       "    </tr>\n",
       "    <tr>\n",
       "      <th>...</th>\n",
       "      <td>...</td>\n",
       "      <td>...</td>\n",
       "    </tr>\n",
       "    <tr>\n",
       "      <th>7916</th>\n",
       "      <td>0</td>\n",
       "      <td>Live out loud #lol #liveoutloud #selfie #smile...</td>\n",
       "    </tr>\n",
       "    <tr>\n",
       "      <th>7917</th>\n",
       "      <td>0</td>\n",
       "      <td>We would like to wish you an amazing day! Make...</td>\n",
       "    </tr>\n",
       "    <tr>\n",
       "      <th>7918</th>\n",
       "      <td>0</td>\n",
       "      <td>Helping my lovely 90 year old neighbor with he...</td>\n",
       "    </tr>\n",
       "    <tr>\n",
       "      <th>7919</th>\n",
       "      <td>0</td>\n",
       "      <td>Finally got my #smart #pocket #wifi stay conne...</td>\n",
       "    </tr>\n",
       "    <tr>\n",
       "      <th>7920</th>\n",
       "      <td>0</td>\n",
       "      <td>Apple Barcelona!!! #Apple #Store #BCN #Barcelo...</td>\n",
       "    </tr>\n",
       "  </tbody>\n",
       "</table>\n",
       "<p>7920 rows × 2 columns</p>\n",
       "</div>"
      ]
     },
     "execution_count": 57,
     "metadata": {},
     "output_type": "execute_result"
    }
   ],
   "execution_count": 57
  },
  {
   "metadata": {
    "ExecuteTime": {
     "end_time": "2024-11-05T16:16:11.475201Z",
     "start_time": "2024-11-05T16:16:11.467201Z"
    }
   },
   "cell_type": "code",
   "source": [
    "def preprocess_text(text):\n",
    "    text = re.sub(r'^RT[\\s]+', '', text)\n",
    "    text = re.sub(r'https?:\\/\\/.*[\\r\\n]*', '', text)\n",
    "    text = re.sub(r'#', '', text)\n",
    "    text = re.sub (r'[^\\ w\\s]', '', text )\n",
    "    \n",
    "    tokenizer = TweetTokenizer(\n",
    "        preserve_case=False, strip_handles=True, reduce_len=True\n",
    "    )\n",
    "    text = tokenizer.tokenize(text)\n",
    "    return text "
   ],
   "id": "c838f6daf55099e2",
   "outputs": [],
   "execution_count": 58
  },
  {
   "metadata": {
    "ExecuteTime": {
     "end_time": "2024-11-05T16:32:24.003204Z",
     "start_time": "2024-11-05T16:32:23.993201Z"
    }
   },
   "cell_type": "code",
   "source": [
    "def get_freqs(df):\n",
    "    freqs = defaultdict(lambda: 0)\n",
    "    for idx,row in df.iterrows():\n",
    "        tweet = row['tweet']\n",
    "        label = row['label']\n",
    "        tokens = preprocess_text(tweet)\n",
    "        for token in tokens:\n",
    "            pair = (token, label)\n",
    "            freqs[pair] += 1\n",
    "    \n",
    "    return freqs"
   ],
   "id": "662668fa33bdd117",
   "outputs": [],
   "execution_count": 64
  },
  {
   "metadata": {
    "ExecuteTime": {
     "end_time": "2024-11-05T16:32:24.421342Z",
     "start_time": "2024-11-05T16:32:24.414999Z"
    }
   },
   "cell_type": "code",
   "source": [
    "def get_feature(text, freqs):\n",
    "    tokens = preprocess_text(text)\n",
    "    X = np.zeros(3)\n",
    "    X[0] = 1\n",
    "    for token in tokens:\n",
    "        X[1] += freqs[(token,0)]\n",
    "        X[2] += freqs[(token,1)]\n",
    "    return X"
   ],
   "id": "816acbed0884491a",
   "outputs": [],
   "execution_count": 65
  },
  {
   "metadata": {
    "ExecuteTime": {
     "end_time": "2024-11-05T16:32:26.027300Z",
     "start_time": "2024-11-05T16:32:24.780810Z"
    }
   },
   "cell_type": "code",
   "source": [
    "X = []\n",
    "y = []\n",
    "freqs = get_freqs(df)\n",
    "for idx, row in df.iterrows():\n",
    "    tweet = row['tweet']\n",
    "    label = row['label']\n",
    "    \n",
    "    X_i = get_feature(tweet, freqs)\n",
    "    X.append(X_i)\n",
    "    y.append(label)\n",
    "    \n",
    "X = np.array(X)\n",
    "y = np.array(y)"
   ],
   "id": "5e1217284398ac39",
   "outputs": [],
   "execution_count": 66
  },
  {
   "metadata": {
    "ExecuteTime": {
     "end_time": "2024-11-05T16:32:43.166162Z",
     "start_time": "2024-11-05T16:32:43.147519Z"
    }
   },
   "cell_type": "code",
   "source": [
    "val_size = 0.2\n",
    "test_size = 0.125\n",
    "random_state = 2\n",
    "is_shuffle = True\n",
    "\n",
    "X_train, X_val, y_train, y_val = train_test_split(X, y, test_size=val_size, random_state=random_state,shuffle=is_shuffle)\n",
    "X_train, X_test, y_train, y_test = train_test_split(X_train, y_train, test_size=test_size, random_state=random_state)\n"
   ],
   "id": "69943d320316bd93",
   "outputs": [],
   "execution_count": 67
  },
  {
   "metadata": {
    "ExecuteTime": {
     "end_time": "2024-11-05T16:33:02.930022Z",
     "start_time": "2024-11-05T16:33:02.915026Z"
    }
   },
   "cell_type": "code",
   "source": [
    "standard = StandardScaler()\n",
    "X_train[:,1:] = standard.fit_transform(X_train[:,1:])\n",
    "X_test[:,1:] = standard.transform(X_test[:,1:])\n",
    "X_val[:,1:] = standard.transform(X_val[:,1:])"
   ],
   "id": "65c684e759c590c0",
   "outputs": [],
   "execution_count": 68
  },
  {
   "metadata": {
    "ExecuteTime": {
     "end_time": "2024-11-05T16:34:14.632550Z",
     "start_time": "2024-11-05T16:34:14.623476Z"
    }
   },
   "cell_type": "code",
   "source": [
    "lr = 0.01\n",
    "epochs = 200\n",
    "batch_size = 128\n",
    "\n",
    "np.random.seed(random_state)\n",
    "theta = np.random.uniform(size=X_train.shape[1])"
   ],
   "id": "3c95fd0646caa6da",
   "outputs": [],
   "execution_count": 70
  },
  {
   "metadata": {
    "ExecuteTime": {
     "end_time": "2024-11-05T16:34:16.801571Z",
     "start_time": "2024-11-05T16:34:15.791934Z"
    }
   },
   "cell_type": "code",
   "source": [
    "train_accs = []\n",
    "train_losses = []\n",
    "val_accs = []\n",
    "val_losses = []\n",
    "\n",
    "for epoch in range(epochs):\n",
    "    train_batch_accs = []\n",
    "    train_batch_losses = []\n",
    "    val_batch_accs = []\n",
    "    val_batch_losses = []\n",
    "\n",
    "    for i in range(0, X_train.shape[0], batch_size):\n",
    "        X_i = X_train[i:i+batch_size]\n",
    "        y_i = y_train[i:i+batch_size]\n",
    "        y_hat = predict(X_i, theta)\n",
    "        train_loss = compute_loss(y_hat, y_i)\n",
    "        gradient = compute_gradient(X_i, y_i, y_hat)\n",
    "        theta = update_theta(theta, gradient, lr)\n",
    "\n",
    "        train_batch_accs.append(accuracy(X_i, y_i, theta))\n",
    "        train_batch_losses.append(train_loss)\n",
    "\n",
    "        y_val_hat = predict(X_val, theta)\n",
    "        val_loss = compute_loss(y_val_hat, y_val)\n",
    "        val_batch_accs.append(accuracy(X_val, y_val, theta))\n",
    "        val_batch_losses.append(val_loss)\n",
    "\n",
    "    train_batch_loss = sum(train_batch_losses)/ len(train_batch_losses)\n",
    "    val_batch_loss = sum(val_batch_losses)/ len(val_batch_losses)\n",
    "    train_batch_acc = sum(train_batch_accs)/ len(train_batch_accs)\n",
    "    val_batch_acc = sum(val_batch_accs)/ len(val_batch_accs)\n",
    "\n",
    "    train_losses.append(train_batch_loss)\n",
    "    train_accs.append(train_batch_acc)\n",
    "    val_losses.append(val_batch_loss)\n",
    "    val_accs.append(val_batch_acc)\n",
    "    print(f'epoch : {epoch+1} | train loss : {train_batch_loss} | train acc : {train_batch_acc} | validation loss : {val_batch_loss} | validation acc : {val_batch_acc}')"
   ],
   "id": "8303799f390d65e7",
   "outputs": [
    {
     "name": "stdout",
     "output_type": "stream",
     "text": [
      "epoch : 1 | train loss : 0.8236174556042998 | train acc : 0.44946732954545454 | validation loss : 0.8246515292831382 | validation acc : 0.45328282828282834\n",
      "epoch : 2 | train loss : 0.7733511517225203 | train acc : 0.44946732954545454 | validation loss : 0.7738801454050754 | validation acc : 0.45328282828282834\n",
      "epoch : 3 | train loss : 0.7326140534978074 | train acc : 0.47528409090909096 | validation loss : 0.7328981602625068 | validation acc : 0.4754361799816349\n",
      "epoch : 4 | train loss : 0.7000267862111584 | train acc : 0.5947798295454546 | validation loss : 0.7002496186960092 | validation acc : 0.5763888888888892\n",
      "epoch : 5 | train loss : 0.6741671234963298 | train acc : 0.5988636363636364 | validation loss : 0.6744440968900728 | validation acc : 0.5842946510560151\n",
      "epoch : 6 | train loss : 0.653714816442058 | train acc : 0.6693536931818183 | validation loss : 0.6541103822497197 | validation acc : 0.6653609963269058\n",
      "epoch : 7 | train loss : 0.6375342536980877 | train acc : 0.6930397727272727 | validation loss : 0.6380793071130313 | validation acc : 0.6882604453627184\n",
      "epoch : 8 | train loss : 0.6246982071750389 | train acc : 0.71875 | validation loss : 0.6254034185347677 | validation acc : 0.7187499999999999\n",
      "epoch : 9 | train loss : 0.6144737702525856 | train acc : 0.7370383522727273 | validation loss : 0.6153383535901451 | validation acc : 0.7368141643709823\n",
      "epoch : 10 | train loss : 0.6062917435211996 | train acc : 0.7393465909090909 | validation loss : 0.6073087674062521 | validation acc : 0.7388659320477501\n",
      "epoch : 11 | train loss : 0.5997132662212609 | train acc : 0.7416548295454546 | validation loss : 0.6008727513879131 | validation acc : 0.7398989898989897\n",
      "epoch : 12 | train loss : 0.5944001909000741 | train acc : 0.7423650568181818 | validation loss : 0.595690893578087 | validation acc : 0.7398989898989897\n",
      "epoch : 13 | train loss : 0.5900911375586627 | train acc : 0.7423650568181818 | validation loss : 0.5915015691866674 | validation acc : 0.7398989898989897\n",
      "epoch : 14 | train loss : 0.5865830168921343 | train acc : 0.7425426136363636 | validation loss : 0.5881020173767401 | validation acc : 0.7398989898989897\n",
      "epoch : 15 | train loss : 0.5837170803468762 | train acc : 0.7425426136363636 | validation loss : 0.585334126209289 | validation acc : 0.7398989898989897\n",
      "epoch : 16 | train loss : 0.5813684716838878 | train acc : 0.7425426136363636 | validation loss : 0.5830738248659085 | validation acc : 0.7398989898989897\n",
      "epoch : 17 | train loss : 0.5794384030305362 | train acc : 0.7425426136363636 | validation loss : 0.5812231638111721 | validation acc : 0.7398989898989897\n",
      "epoch : 18 | train loss : 0.5778482727934728 | train acc : 0.7425426136363636 | validation loss : 0.5797043758182693 | validation acc : 0.7398989898989897\n",
      "epoch : 19 | train loss : 0.5765352162911352 | train acc : 0.7425426136363636 | validation loss : 0.5784553940573054 | validation acc : 0.7398989898989897\n",
      "epoch : 20 | train loss : 0.5754487163212518 | train acc : 0.7425426136363636 | validation loss : 0.577426445387307 | validation acc : 0.7398989898989897\n",
      "epoch : 21 | train loss : 0.5745480023086661 | train acc : 0.7425426136363636 | validation loss : 0.5765774417532253 | validation acc : 0.7398989898989897\n",
      "epoch : 22 | train loss : 0.5738000402998195 | train acc : 0.7425426136363636 | validation loss : 0.5758759682724187 | validation acc : 0.7398989898989897\n",
      "epoch : 23 | train loss : 0.5731779690197704 | train acc : 0.7425426136363636 | validation loss : 0.5752957208563811 | validation acc : 0.7398989898989897\n",
      "epoch : 24 | train loss : 0.5726598752583493 | train acc : 0.7425426136363636 | validation loss : 0.5748152851127015 | validation acc : 0.7398989898989897\n",
      "epoch : 25 | train loss : 0.572227829299425 | train acc : 0.7425426136363636 | validation loss : 0.5744171762733186 | validation acc : 0.7398989898989897\n",
      "epoch : 26 | train loss : 0.5718671210301143 | train acc : 0.7425426136363636 | validation loss : 0.5740870801803529 | validation acc : 0.7398989898989897\n",
      "epoch : 27 | train loss : 0.5715656519364688 | train acc : 0.7425426136363636 | validation loss : 0.5738132501672242 | validation acc : 0.7398989898989897\n",
      "epoch : 28 | train loss : 0.5713134489322195 | train acc : 0.7425426136363636 | validation loss : 0.5735860255666384 | validation acc : 0.7398989898989897\n",
      "epoch : 29 | train loss : 0.5711022739479413 | train acc : 0.7425426136363636 | validation loss : 0.5733974456567595 | validation acc : 0.7398989898989897\n",
      "epoch : 30 | train loss : 0.570925309184904 | train acc : 0.7425426136363636 | validation loss : 0.573240938896519 | validation acc : 0.7398989898989897\n",
      "epoch : 31 | train loss : 0.5707769024477178 | train acc : 0.7425426136363636 | validation loss : 0.5731110718497383 | validation acc : 0.7398989898989897\n",
      "epoch : 32 | train loss : 0.5706523603970237 | train acc : 0.7425426136363636 | validation loss : 0.5730033456481496 | validation acc : 0.7398989898989897\n",
      "epoch : 33 | train loss : 0.5705477801852883 | train acc : 0.7425426136363636 | validation loss : 0.572914030478347 | validation acc : 0.7398989898989897\n",
      "epoch : 34 | train loss : 0.5704599119571812 | train acc : 0.7425426136363636 | validation loss : 0.5728400306028029 | validation acc : 0.7398989898989897\n",
      "epoch : 35 | train loss : 0.5703860462590703 | train acc : 0.7425426136363636 | validation loss : 0.5727787739907204 | validation acc : 0.7398989898989897\n",
      "epoch : 36 | train loss : 0.5703239216193345 | train acc : 0.7425426136363636 | validation loss : 0.5727281218517697 | validation acc : 0.7398989898989897\n",
      "epoch : 37 | train loss : 0.570271648513935 | train acc : 0.7425426136363636 | validation loss : 0.5726862943171565 | validation acc : 0.7398989898989897\n",
      "epoch : 38 | train loss : 0.5702276466811266 | train acc : 0.7425426136363636 | validation loss : 0.5726518092597734 | validation acc : 0.7398989898989897\n",
      "epoch : 39 | train loss : 0.5701905933413912 | train acc : 0.7425426136363636 | validation loss : 0.5726234318349035 | validation acc : 0.7398989898989897\n",
      "epoch : 40 | train loss : 0.57015938034868 | train acc : 0.7425426136363636 | validation loss : 0.5726001327903588 | validation acc : 0.7398989898989897\n",
      "epoch : 41 | train loss : 0.5701330786735908 | train acc : 0.7425426136363636 | validation loss : 0.5725810539669499 | validation acc : 0.7398989898989897\n",
      "epoch : 42 | train loss : 0.5701109089187038 | train acc : 0.7425426136363636 | validation loss : 0.5725654797074103 | validation acc : 0.7398989898989897\n",
      "epoch : 43 | train loss : 0.5700922168068302 | train acc : 0.7425426136363636 | validation loss : 0.5725528131302439 | validation acc : 0.7398989898989897\n",
      "epoch : 44 | train loss : 0.5700764527767084 | train acc : 0.7425426136363636 | validation loss : 0.5725425564167729 | validation acc : 0.7398989898989897\n",
      "epoch : 45 | train loss : 0.57006315497725 | train acc : 0.7425426136363636 | validation loss : 0.5725342944145022 | validation acc : 0.7398989898989897\n",
      "epoch : 46 | train loss : 0.5700519350783995 | train acc : 0.7425426136363636 | validation loss : 0.5725276809852846 | validation acc : 0.7398989898989897\n",
      "epoch : 47 | train loss : 0.5700424664198422 | train acc : 0.7425426136363636 | validation loss : 0.5725224276286189 | validation acc : 0.7398989898989897\n",
      "epoch : 48 | train loss : 0.5700344741029038 | train acc : 0.7425426136363636 | validation loss : 0.5725182939933169 | validation acc : 0.7398989898989897\n",
      "epoch : 49 | train loss : 0.5700277266997192 | train acc : 0.7425426136363636 | validation loss : 0.5725150799584612 | validation acc : 0.7398989898989897\n",
      "epoch : 50 | train loss : 0.5700220293100334 | train acc : 0.7425426136363636 | validation loss : 0.5725126190199783 | validation acc : 0.7398989898989897\n",
      "epoch : 51 | train loss : 0.5700172177422099 | train acc : 0.7425426136363636 | validation loss : 0.5725107727645764 | validation acc : 0.7398989898989897\n",
      "epoch : 52 | train loss : 0.5700131536330372 | train acc : 0.7425426136363636 | validation loss : 0.5725094262501267 | validation acc : 0.7398989898989897\n",
      "epoch : 53 | train loss : 0.5700097203522547 | train acc : 0.7425426136363636 | validation loss : 0.5725084841423208 | validation acc : 0.7398989898989897\n",
      "epoch : 54 | train loss : 0.5700068195635822 | train acc : 0.7425426136363636 | validation loss : 0.5725078674828 | validation acc : 0.7398989898989897\n",
      "epoch : 55 | train loss : 0.5700043683354471 | train acc : 0.7425426136363636 | validation loss : 0.5725075109848998 | validation acc : 0.7398989898989897\n",
      "epoch : 56 | train loss : 0.5700022967123219 | train acc : 0.7425426136363636 | validation loss : 0.5725073607705196 | validation acc : 0.7398989898989897\n",
      "epoch : 57 | train loss : 0.5700005456722923 | train acc : 0.7425426136363636 | validation loss : 0.5725073724759869 | validation acc : 0.7398989898989897\n",
      "epoch : 58 | train loss : 0.5699990654087019 | train acc : 0.7425426136363636 | validation loss : 0.5725075096667435 | validation acc : 0.7398989898989897\n",
      "epoch : 59 | train loss : 0.5699978138838809 | train acc : 0.7425426136363636 | validation loss : 0.5725077425105746 | validation acc : 0.7398989898989897\n",
      "epoch : 60 | train loss : 0.5699967556114338 | train acc : 0.7425426136363636 | validation loss : 0.5725080466673819 | validation acc : 0.7398989898989897\n",
      "epoch : 61 | train loss : 0.5699958606306216 | train acc : 0.7425426136363636 | validation loss : 0.5725084023603546 | validation acc : 0.7398989898989897\n",
      "epoch : 62 | train loss : 0.5699951036422681 | train acc : 0.7425426136363636 | validation loss : 0.5725087935991433 | validation acc : 0.7398989898989897\n",
      "epoch : 63 | train loss : 0.5699944632805442 | train acc : 0.7425426136363636 | validation loss : 0.5725092075304107 | validation acc : 0.7398989898989897\n",
      "epoch : 64 | train loss : 0.5699939214991031 | train acc : 0.7425426136363636 | validation loss : 0.5725096338951393 | validation acc : 0.7398989898989897\n",
      "epoch : 65 | train loss : 0.5699934630534788 | train acc : 0.7425426136363636 | validation loss : 0.5725100645754135 | validation acc : 0.7398989898989897\n",
      "epoch : 66 | train loss : 0.5699930750645598 | train acc : 0.7425426136363636 | validation loss : 0.5725104932161856 | validation acc : 0.7398989898989897\n",
      "epoch : 67 | train loss : 0.5699927466503586 | train acc : 0.7425426136363636 | validation loss : 0.5725109149098814 | validation acc : 0.7398989898989897\n",
      "epoch : 68 | train loss : 0.5699924686153323 | train acc : 0.7425426136363636 | validation loss : 0.572511325933646 | validation acc : 0.7398989898989897\n",
      "epoch : 69 | train loss : 0.5699922331882145 | train acc : 0.7425426136363636 | validation loss : 0.572511723530695 | validation acc : 0.7398989898989897\n",
      "epoch : 70 | train loss : 0.5699920338007431 | train acc : 0.7425426136363636 | validation loss : 0.572512105728582 | validation acc : 0.7398989898989897\n",
      "epoch : 71 | train loss : 0.569991864900882 | train acc : 0.7425426136363636 | validation loss : 0.5725124711883797 | validation acc : 0.7398989898989897\n",
      "epoch : 72 | train loss : 0.5699917217951305 | train acc : 0.7425426136363636 | validation loss : 0.572512819079715 | validation acc : 0.7398989898989897\n",
      "epoch : 73 | train loss : 0.5699916005153762 | train acc : 0.7425426136363636 | validation loss : 0.572513148977421 | validation acc : 0.7398989898989897\n",
      "epoch : 74 | train loss : 0.5699914977064574 | train acc : 0.7425426136363636 | validation loss : 0.5725134607762601 | validation acc : 0.7398989898989897\n",
      "epoch : 75 | train loss : 0.5699914105312024 | train acc : 0.7425426136363636 | validation loss : 0.5725137546207221 | validation acc : 0.7398989898989897\n",
      "epoch : 76 | train loss : 0.569991336590218 | train acc : 0.7425426136363636 | validation loss : 0.5725140308474093 | validation acc : 0.7398989898989897\n",
      "epoch : 77 | train loss : 0.5699912738541335 | train acc : 0.7425426136363636 | validation loss : 0.5725142899379023 | validation acc : 0.7398989898989897\n",
      "epoch : 78 | train loss : 0.5699912206063571 | train acc : 0.7425426136363636 | validation loss : 0.5725145324803534 | validation acc : 0.7398989898989897\n",
      "epoch : 79 | train loss : 0.5699911753947127 | train acc : 0.7425426136363636 | validation loss : 0.5725147591383325 | validation acc : 0.7398989898989897\n",
      "epoch : 80 | train loss : 0.5699911369905717 | train acc : 0.7425426136363636 | validation loss : 0.5725149706256946 | validation acc : 0.7398989898989897\n",
      "epoch : 81 | train loss : 0.5699911043543167 | train acc : 0.7425426136363636 | validation loss : 0.572515167686433 | validation acc : 0.7398989898989897\n",
      "epoch : 82 | train loss : 0.5699910766061577 | train acc : 0.7425426136363636 | validation loss : 0.5725153510786577 | validation acc : 0.7398989898989897\n",
      "epoch : 83 | train loss : 0.5699910530014624 | train acc : 0.7425426136363636 | validation loss : 0.5725155215619763 | validation acc : 0.7398989898989897\n",
      "epoch : 84 | train loss : 0.569991032909908 | train acc : 0.7425426136363636 | validation loss : 0.5725156798876734 | validation acc : 0.7398989898989897\n",
      "epoch : 85 | train loss : 0.5699910157978535 | train acc : 0.7425426136363636 | validation loss : 0.5725158267911873 | validation acc : 0.7398989898989897\n",
      "epoch : 86 | train loss : 0.5699910012134428 | train acc : 0.7425426136363636 | validation loss : 0.5725159629864653 | validation acc : 0.7398989898989897\n",
      "epoch : 87 | train loss : 0.5699909887740048 | train acc : 0.7425426136363636 | validation loss : 0.5725160891618445 | validation acc : 0.7398989898989897\n",
      "epoch : 88 | train loss : 0.5699909781554051 | train acc : 0.7425426136363636 | validation loss : 0.5725162059771755 | validation acc : 0.7398989898989897\n",
      "epoch : 89 | train loss : 0.5699909690830389 | train acc : 0.7425426136363636 | validation loss : 0.5725163140619404 | validation acc : 0.7398989898989897\n",
      "epoch : 90 | train loss : 0.5699909613242166 | train acc : 0.7425426136363636 | validation loss : 0.5725164140141719 | validation acc : 0.7398989898989897\n",
      "epoch : 91 | train loss : 0.5699909546817217 | train acc : 0.7425426136363636 | validation loss : 0.5725165064000055 | validation acc : 0.7398989898989897\n",
      "epoch : 92 | train loss : 0.5699909489883654 | train acc : 0.7425426136363636 | validation loss : 0.572516591753729 | validation acc : 0.7398989898989897\n",
      "epoch : 93 | train loss : 0.5699909441023794 | train acc : 0.7425426136363636 | validation loss : 0.5725166705782189 | validation acc : 0.7398989898989897\n",
      "epoch : 94 | train loss : 0.5699909399035175 | train acc : 0.7425426136363636 | validation loss : 0.5725167433456722 | validation acc : 0.7398989898989897\n",
      "epoch : 95 | train loss : 0.5699909362897586 | train acc : 0.7425426136363636 | validation loss : 0.5725168104985566 | validation acc : 0.7398989898989897\n",
      "epoch : 96 | train loss : 0.5699909331745195 | train acc : 0.7425426136363636 | validation loss : 0.5725168724507204 | validation acc : 0.7398989898989897\n",
      "epoch : 97 | train loss : 0.5699909304842922 | train acc : 0.7425426136363636 | validation loss : 0.5725169295886111 | validation acc : 0.7398989898989897\n",
      "epoch : 98 | train loss : 0.5699909281566483 | train acc : 0.7425426136363636 | validation loss : 0.5725169822725648 | validation acc : 0.7398989898989897\n",
      "epoch : 99 | train loss : 0.5699909261385475 | train acc : 0.7425426136363636 | validation loss : 0.5725170308381345 | validation acc : 0.7398989898989897\n",
      "epoch : 100 | train loss : 0.569990924384908 | train acc : 0.7425426136363636 | validation loss : 0.5725170755974288 | validation acc : 0.7398989898989897\n",
      "epoch : 101 | train loss : 0.5699909228573946 | train acc : 0.7425426136363636 | validation loss : 0.5725171168404478 | validation acc : 0.7398989898989897\n",
      "epoch : 102 | train loss : 0.5699909215233947 | train acc : 0.7425426136363636 | validation loss : 0.572517154836394 | validation acc : 0.7398989898989897\n",
      "epoch : 103 | train loss : 0.5699909203551475 | train acc : 0.7425426136363636 | validation loss : 0.5725171898349518 | validation acc : 0.7398989898989897\n",
      "epoch : 104 | train loss : 0.569990919329012 | train acc : 0.7425426136363636 | validation loss : 0.5725172220675259 | validation acc : 0.7398989898989897\n",
      "epoch : 105 | train loss : 0.5699909184248418 | train acc : 0.7425426136363636 | validation loss : 0.5725172517484288 | validation acc : 0.7398989898989897\n",
      "epoch : 106 | train loss : 0.5699909176254583 | train acc : 0.7425426136363636 | validation loss : 0.5725172790760207 | validation acc : 0.7398989898989897\n",
      "epoch : 107 | train loss : 0.5699909169162038 | train acc : 0.7425426136363636 | validation loss : 0.5725173042337891 | validation acc : 0.7398989898989897\n",
      "epoch : 108 | train loss : 0.5699909162845627 | train acc : 0.7425426136363636 | validation loss : 0.5725173273913791 | validation acc : 0.7398989898989897\n",
      "epoch : 109 | train loss : 0.5699909157198401 | train acc : 0.7425426136363636 | validation loss : 0.5725173487055619 | validation acc : 0.7398989898989897\n",
      "epoch : 110 | train loss : 0.5699909152128889 | train acc : 0.7425426136363636 | validation loss : 0.5725173683211499 | validation acc : 0.7398989898989897\n",
      "epoch : 111 | train loss : 0.5699909147558805 | train acc : 0.7425426136363636 | validation loss : 0.5725173863718567 | validation acc : 0.7398989898989897\n",
      "epoch : 112 | train loss : 0.5699909143421071 | train acc : 0.7425426136363636 | validation loss : 0.572517402981104 | validation acc : 0.7398989898989897\n",
      "epoch : 113 | train loss : 0.5699909139658167 | train acc : 0.7425426136363636 | validation loss : 0.5725174182627769 | validation acc : 0.7398989898989897\n",
      "epoch : 114 | train loss : 0.5699909136220713 | train acc : 0.7425426136363636 | validation loss : 0.5725174323219285 | validation acc : 0.7398989898989897\n",
      "epoch : 115 | train loss : 0.5699909133066273 | train acc : 0.7425426136363636 | validation loss : 0.5725174452554402 | validation acc : 0.7398989898989897\n",
      "epoch : 116 | train loss : 0.569990913015834 | train acc : 0.7425426136363636 | validation loss : 0.5725174571526344 | validation acc : 0.7398989898989897\n",
      "epoch : 117 | train loss : 0.5699909127465462 | train acc : 0.7425426136363636 | validation loss : 0.5725174680958448 | validation acc : 0.7398989898989897\n",
      "epoch : 118 | train loss : 0.5699909124960514 | train acc : 0.7425426136363636 | validation loss : 0.5725174781609493 | validation acc : 0.7398989898989897\n",
      "epoch : 119 | train loss : 0.5699909122620075 | train acc : 0.7425426136363636 | validation loss : 0.5725174874178616 | validation acc : 0.7398989898989897\n",
      "epoch : 120 | train loss : 0.5699909120423889 | train acc : 0.7425426136363636 | validation loss : 0.5725174959309888 | validation acc : 0.7398989898989897\n",
      "epoch : 121 | train loss : 0.5699909118354414 | train acc : 0.7425426136363636 | validation loss : 0.5725175037596575 | validation acc : 0.7398989898989897\n",
      "epoch : 122 | train loss : 0.5699909116396439 | train acc : 0.7425426136363636 | validation loss : 0.5725175109585033 | validation acc : 0.7398989898989897\n",
      "epoch : 123 | train loss : 0.5699909114536745 | train acc : 0.7425426136363636 | validation loss : 0.5725175175778385 | validation acc : 0.7398989898989897\n",
      "epoch : 124 | train loss : 0.5699909112763845 | train acc : 0.7425426136363636 | validation loss : 0.5725175236639862 | validation acc : 0.7398989898989897\n",
      "epoch : 125 | train loss : 0.5699909111067719 | train acc : 0.7425426136363636 | validation loss : 0.5725175292595928 | validation acc : 0.7398989898989897\n",
      "epoch : 126 | train loss : 0.5699909109439624 | train acc : 0.7425426136363636 | validation loss : 0.5725175344039154 | validation acc : 0.7398989898989897\n",
      "epoch : 127 | train loss : 0.5699909107871923 | train acc : 0.7425426136363636 | validation loss : 0.5725175391330877 | validation acc : 0.7398989898989897\n",
      "epoch : 128 | train loss : 0.569990910635792 | train acc : 0.7425426136363636 | validation loss : 0.5725175434803667 | validation acc : 0.7398989898989897\n",
      "epoch : 129 | train loss : 0.5699909104891743 | train acc : 0.7425426136363636 | validation loss : 0.5725175474763575 | validation acc : 0.7398989898989897\n",
      "epoch : 130 | train loss : 0.5699909103468235 | train acc : 0.7425426136363636 | validation loss : 0.5725175511492242 | validation acc : 0.7398989898989897\n",
      "epoch : 131 | train loss : 0.569990910208286 | train acc : 0.7425426136363636 | validation loss : 0.5725175545248821 | validation acc : 0.7398989898989897\n",
      "epoch : 132 | train loss : 0.5699909100731606 | train acc : 0.7425426136363636 | validation loss : 0.5725175576271757 | validation acc : 0.7398989898989897\n",
      "epoch : 133 | train loss : 0.5699909099410938 | train acc : 0.7425426136363636 | validation loss : 0.5725175604780443 | validation acc : 0.7398989898989897\n",
      "epoch : 134 | train loss : 0.5699909098117725 | train acc : 0.7425426136363636 | validation loss : 0.5725175630976707 | validation acc : 0.7398989898989897\n",
      "epoch : 135 | train loss : 0.5699909096849191 | train acc : 0.7425426136363636 | validation loss : 0.5725175655046231 | validation acc : 0.7398989898989897\n",
      "epoch : 136 | train loss : 0.5699909095602873 | train acc : 0.7425426136363636 | validation loss : 0.5725175677159832 | validation acc : 0.7398989898989897\n",
      "epoch : 137 | train loss : 0.5699909094376575 | train acc : 0.7425426136363636 | validation loss : 0.5725175697474629 | validation acc : 0.7398989898989897\n",
      "epoch : 138 | train loss : 0.5699909093168345 | train acc : 0.7425426136363636 | validation loss : 0.5725175716135162 | validation acc : 0.7398989898989897\n",
      "epoch : 139 | train loss : 0.5699909091976443 | train acc : 0.7425426136363636 | validation loss : 0.5725175733274376 | validation acc : 0.7398989898989897\n",
      "epoch : 140 | train loss : 0.5699909090799308 | train acc : 0.7425426136363636 | validation loss : 0.5725175749014549 | validation acc : 0.7398989898989897\n",
      "epoch : 141 | train loss : 0.5699909089635543 | train acc : 0.7425426136363636 | validation loss : 0.5725175763468152 | validation acc : 0.7398989898989897\n",
      "epoch : 142 | train loss : 0.5699909088483897 | train acc : 0.7425426136363636 | validation loss : 0.572517577673863 | validation acc : 0.7398989898989897\n",
      "epoch : 143 | train loss : 0.5699909087343251 | train acc : 0.7425426136363636 | validation loss : 0.5725175788921117 | validation acc : 0.7398989898989897\n",
      "epoch : 144 | train loss : 0.569990908621259 | train acc : 0.7425426136363636 | validation loss : 0.572517580010312 | validation acc : 0.7398989898989897\n",
      "epoch : 145 | train loss : 0.5699909085091008 | train acc : 0.7425426136363636 | validation loss : 0.5725175810365104 | validation acc : 0.7398989898989897\n",
      "epoch : 146 | train loss : 0.5699909083977682 | train acc : 0.7425426136363636 | validation loss : 0.5725175819781078 | validation acc : 0.7398989898989897\n",
      "epoch : 147 | train loss : 0.569990908287187 | train acc : 0.7425426136363636 | validation loss : 0.5725175828419097 | validation acc : 0.7398989898989897\n",
      "epoch : 148 | train loss : 0.5699909081772909 | train acc : 0.7425426136363636 | validation loss : 0.5725175836341755 | validation acc : 0.7398989898989897\n",
      "epoch : 149 | train loss : 0.5699909080680192 | train acc : 0.7425426136363636 | validation loss : 0.5725175843606611 | validation acc : 0.7398989898989897\n",
      "epoch : 150 | train loss : 0.5699909079593167 | train acc : 0.7425426136363636 | validation loss : 0.5725175850266595 | validation acc : 0.7398989898989897\n",
      "epoch : 151 | train loss : 0.5699909078511343 | train acc : 0.7425426136363636 | validation loss : 0.572517585637038 | validation acc : 0.7398989898989897\n",
      "epoch : 152 | train loss : 0.5699909077434264 | train acc : 0.7425426136363636 | validation loss : 0.5725175861962731 | validation acc : 0.7398989898989897\n",
      "epoch : 153 | train loss : 0.5699909076361521 | train acc : 0.7425426136363636 | validation loss : 0.5725175867084809 | validation acc : 0.7398989898989897\n",
      "epoch : 154 | train loss : 0.5699909075292742 | train acc : 0.7425426136363636 | validation loss : 0.572517587177446 | validation acc : 0.7398989898989897\n",
      "epoch : 155 | train loss : 0.5699909074227588 | train acc : 0.7425426136363636 | validation loss : 0.5725175876066494 | validation acc : 0.7398989898989897\n",
      "epoch : 156 | train loss : 0.5699909073165751 | train acc : 0.7425426136363636 | validation loss : 0.5725175879992913 | validation acc : 0.7398989898989897\n",
      "epoch : 157 | train loss : 0.5699909072106951 | train acc : 0.7425426136363636 | validation loss : 0.5725175883583152 | validation acc : 0.7398989898989897\n",
      "epoch : 158 | train loss : 0.569990907105093 | train acc : 0.7425426136363636 | validation loss : 0.572517588686427 | validation acc : 0.7398989898989897\n",
      "epoch : 159 | train loss : 0.5699909069997454 | train acc : 0.7425426136363636 | validation loss : 0.5725175889861152 | validation acc : 0.7398989898989897\n",
      "epoch : 160 | train loss : 0.5699909068946312 | train acc : 0.7425426136363636 | validation loss : 0.572517589259668 | validation acc : 0.7398989898989897\n",
      "epoch : 161 | train loss : 0.5699909067897303 | train acc : 0.7425426136363636 | validation loss : 0.57251758950919 | validation acc : 0.7398989898989897\n",
      "epoch : 162 | train loss : 0.5699909066850257 | train acc : 0.7425426136363636 | validation loss : 0.5725175897366153 | validation acc : 0.7398989898989897\n",
      "epoch : 163 | train loss : 0.5699909065805006 | train acc : 0.7425426136363636 | validation loss : 0.5725175899437231 | validation acc : 0.7398989898989897\n",
      "epoch : 164 | train loss : 0.56999090647614 | train acc : 0.7425426136363636 | validation loss : 0.5725175901321492 | validation acc : 0.7398989898989897\n",
      "epoch : 165 | train loss : 0.5699909063719308 | train acc : 0.7425426136363636 | validation loss : 0.5725175903033979 | validation acc : 0.7398989898989897\n",
      "epoch : 166 | train loss : 0.5699909062678601 | train acc : 0.7425426136363636 | validation loss : 0.5725175904588522 | validation acc : 0.7398989898989897\n",
      "epoch : 167 | train loss : 0.5699909061639162 | train acc : 0.7425426136363636 | validation loss : 0.5725175905997838 | validation acc : 0.7398989898989897\n",
      "epoch : 168 | train loss : 0.5699909060600897 | train acc : 0.7425426136363636 | validation loss : 0.5725175907273621 | validation acc : 0.7398989898989897\n",
      "epoch : 169 | train loss : 0.5699909059563698 | train acc : 0.7425426136363636 | validation loss : 0.5725175908426622 | validation acc : 0.7398989898989897\n",
      "epoch : 170 | train loss : 0.5699909058527486 | train acc : 0.7425426136363636 | validation loss : 0.5725175909466728 | validation acc : 0.7398989898989897\n",
      "epoch : 171 | train loss : 0.5699909057492176 | train acc : 0.7425426136363636 | validation loss : 0.5725175910403029 | validation acc : 0.7398989898989897\n",
      "epoch : 172 | train loss : 0.5699909056457694 | train acc : 0.7425426136363636 | validation loss : 0.5725175911243883 | validation acc : 0.7398989898989897\n",
      "epoch : 173 | train loss : 0.5699909055423977 | train acc : 0.7425426136363636 | validation loss : 0.572517591199698 | validation acc : 0.7398989898989897\n",
      "epoch : 174 | train loss : 0.5699909054390955 | train acc : 0.7425426136363636 | validation loss : 0.572517591266938 | validation acc : 0.7398989898989897\n",
      "epoch : 175 | train loss : 0.5699909053358578 | train acc : 0.7425426136363636 | validation loss : 0.572517591326759 | validation acc : 0.7398989898989897\n",
      "epoch : 176 | train loss : 0.5699909052326789 | train acc : 0.7425426136363636 | validation loss : 0.5725175913797578 | validation acc : 0.7398989898989897\n",
      "epoch : 177 | train loss : 0.5699909051295542 | train acc : 0.7425426136363636 | validation loss : 0.5725175914264837 | validation acc : 0.7398989898989897\n",
      "epoch : 178 | train loss : 0.5699909050264795 | train acc : 0.7425426136363636 | validation loss : 0.5725175914674421 | validation acc : 0.7398989898989897\n",
      "epoch : 179 | train loss : 0.5699909049234505 | train acc : 0.7425426136363636 | validation loss : 0.5725175915030972 | validation acc : 0.7398989898989897\n",
      "epoch : 180 | train loss : 0.5699909048204637 | train acc : 0.7425426136363636 | validation loss : 0.5725175915338764 | validation acc : 0.7398989898989897\n",
      "epoch : 181 | train loss : 0.5699909047175152 | train acc : 0.7425426136363636 | validation loss : 0.5725175915601722 | validation acc : 0.7398989898989897\n",
      "epoch : 182 | train loss : 0.5699909046146024 | train acc : 0.7425426136363636 | validation loss : 0.5725175915823453 | validation acc : 0.7398989898989897\n",
      "epoch : 183 | train loss : 0.5699909045117223 | train acc : 0.7425426136363636 | validation loss : 0.5725175916007283 | validation acc : 0.7398989898989897\n",
      "epoch : 184 | train loss : 0.5699909044088719 | train acc : 0.7425426136363636 | validation loss : 0.5725175916156265 | validation acc : 0.7398989898989897\n",
      "epoch : 185 | train loss : 0.5699909043060496 | train acc : 0.7425426136363636 | validation loss : 0.5725175916273196 | validation acc : 0.7398989898989897\n",
      "epoch : 186 | train loss : 0.5699909042032522 | train acc : 0.7425426136363636 | validation loss : 0.5725175916360665 | validation acc : 0.7398989898989897\n",
      "epoch : 187 | train loss : 0.569990904100478 | train acc : 0.7425426136363636 | validation loss : 0.5725175916421044 | validation acc : 0.7398989898989897\n",
      "epoch : 188 | train loss : 0.5699909039977256 | train acc : 0.7425426136363636 | validation loss : 0.572517591645651 | validation acc : 0.7398989898989897\n",
      "epoch : 189 | train loss : 0.5699909038949927 | train acc : 0.7425426136363636 | validation loss : 0.5725175916469074 | validation acc : 0.7398989898989897\n",
      "epoch : 190 | train loss : 0.5699909037922776 | train acc : 0.7425426136363636 | validation loss : 0.572517591646058 | validation acc : 0.7398989898989897\n",
      "epoch : 191 | train loss : 0.5699909036895795 | train acc : 0.7425426136363636 | validation loss : 0.5725175916432719 | validation acc : 0.7398989898989897\n",
      "epoch : 192 | train loss : 0.5699909035868966 | train acc : 0.7425426136363636 | validation loss : 0.5725175916387055 | validation acc : 0.7398989898989897\n",
      "epoch : 193 | train loss : 0.5699909034842278 | train acc : 0.7425426136363636 | validation loss : 0.5725175916325022 | validation acc : 0.7398989898989897\n",
      "epoch : 194 | train loss : 0.5699909033815718 | train acc : 0.7425426136363636 | validation loss : 0.5725175916247939 | validation acc : 0.7398989898989897\n",
      "epoch : 195 | train loss : 0.5699909032789278 | train acc : 0.7425426136363636 | validation loss : 0.5725175916157013 | validation acc : 0.7398989898989897\n",
      "epoch : 196 | train loss : 0.5699909031762944 | train acc : 0.7425426136363636 | validation loss : 0.5725175916053362 | validation acc : 0.7398989898989897\n",
      "epoch : 197 | train loss : 0.5699909030736715 | train acc : 0.7425426136363636 | validation loss : 0.5725175915938013 | validation acc : 0.7398989898989897\n",
      "epoch : 198 | train loss : 0.5699909029710573 | train acc : 0.7425426136363636 | validation loss : 0.5725175915811905 | validation acc : 0.7398989898989897\n",
      "epoch : 199 | train loss : 0.569990902868452 | train acc : 0.7425426136363636 | validation loss : 0.5725175915675907 | validation acc : 0.7398989898989897\n",
      "epoch : 200 | train loss : 0.5699909027658546 | train acc : 0.7425426136363636 | validation loss : 0.5725175915530809 | validation acc : 0.7398989898989897\n"
     ]
    }
   ],
   "execution_count": 71
  },
  {
   "metadata": {
    "ExecuteTime": {
     "end_time": "2024-11-05T16:34:29.695613Z",
     "start_time": "2024-11-05T16:34:29.295149Z"
    }
   },
   "cell_type": "code",
   "source": [
    "fig , ax = plt . subplots (2 , 2 , figsize =(12 , 10) )\n",
    "ax [0 , 0]. plot(train_losses)\n",
    "ax [0 , 0]. set(xlabel ='Epoch ', ylabel ='Loss ')\n",
    "ax [0 , 0]. set_title ('Training Loss ')\n",
    "ax [0 , 1]. plot( val_losses , 'orange')\n",
    "ax [0 , 1]. set( xlabel ='Epoch ', ylabel ='Loss ')\n",
    "ax [0 , 1]. set_title ('Validation Loss ')\n",
    "\n",
    "ax [1 , 0]. plot(train_accs)\n",
    "ax [1 , 0]. set(xlabel ='Epoch', ylabel ='Accuracy')\n",
    "ax [1 , 0]. set_title ('Training Accuracy ')\n",
    "\n",
    "ax [1 , 1]. plot ( val_accs , 'orange')\n",
    "ax [1 , 1]. set ( xlabel ='Epoch ', ylabel ='Accuracy ')\n",
    "ax [1 , 1]. set_title ('Validation Accuracy ')\n",
    "\n",
    "plt . show ()"
   ],
   "id": "68311f6ef1b33ed2",
   "outputs": [
    {
     "data": {
      "text/plain": [
       "<Figure size 1200x1000 with 4 Axes>"
      ],
      "image/png": "[encoded data removed]"
     },
     "metadata": {},
     "output_type": "display_data"
    }
   ],
   "execution_count": 72
  },
  {
   "metadata": {
    "ExecuteTime": {
     "end_time": "2024-11-05T16:42:37.031326Z",
     "start_time": "2024-11-05T16:42:37.018326Z"
    }
   },
   "cell_type": "code",
   "source": [
    "y = np.array([1,0,0,1])\n",
    "y_hat = np.array([0.8, 0.75, 0.3, 0.95])\n",
    "compute_loss(y_hat, y)"
   ],
   "id": "6198bd8c103c02f4",
   "outputs": [
    {
     "data": {
      "text/plain": [
       "0.5043515376900958"
      ]
     },
     "execution_count": 73,
     "metadata": {},
     "output_type": "execute_result"
    }
   ],
   "execution_count": 73
  },
  {
   "metadata": {
    "ExecuteTime": {
     "end_time": "2024-11-05T16:44:39.252854Z",
     "start_time": "2024-11-05T16:44:39.235854Z"
    }
   },
   "cell_type": "code",
   "source": [
    "X = np.array([[1, 2], [2, 1], [1, 1], [2, 2]])\n",
    "y = np.array([0,1,0,1])\n",
    "y_pred = np.array([0.25, 0.75, 0.4, 0.8])\n",
    "compute_gradient(X, y, y_pred)"
   ],
   "id": "4f70ef42b4e8dc84",
   "outputs": [
    {
     "data": {
      "text/plain": [
       "array([-0.0625,  0.0625])"
      ]
     },
     "execution_count": 76,
     "metadata": {},
     "output_type": "execute_result"
    }
   ],
   "execution_count": 76
  },
  {
   "metadata": {
    "ExecuteTime": {
     "end_time": "2024-11-05T16:46:32.737301Z",
     "start_time": "2024-11-05T16:46:32.727944Z"
    }
   },
   "cell_type": "code",
   "source": [
    "X = np.array([[1, 3], [2, 1], [3, 2], [1, 2]])\n",
    "y = np.array([1,0,1,1])\n",
    "y_pred = np.array([0.7, 0.4, 0.6, 0.85])\n",
    "compute_gradient(X, y, y_pred)"
   ],
   "id": "d1b059ce144e236e",
   "outputs": [
    {
     "data": {
      "text/plain": [
       "array([-0.2125, -0.4   ])"
      ]
     },
     "execution_count": 77,
     "metadata": {},
     "output_type": "execute_result"
    }
   ],
   "execution_count": 77
  },
  {
   "metadata": {},
   "cell_type": "code",
   "outputs": [],
   "execution_count": null,
   "source": "",
   "id": "c7eb9446585d855c"
  }
 ],
 "metadata": {
  "kernelspec": {
   "display_name": "Python 3",
   "language": "python",
   "name": "python3"
  },
  "language_info": {
   "codemirror_mode": {
    "name": "ipython",
    "version": 2
   },
   "file_extension": ".py",
   "mimetype": "text/x-python",
   "name": "python",
   "nbconvert_exporter": "python",
   "pygments_lexer": "ipython2",
   "version": "2.7.6"
  }
 },
 "nbformat": 4,
 "nbformat_minor": 5
}
